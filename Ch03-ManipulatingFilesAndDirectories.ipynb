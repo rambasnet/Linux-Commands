{
 "cells": [
  {
   "cell_type": "markdown",
   "metadata": {},
   "source": [
    "# Manipulating Files and Directories\n",
    "- **cp**: copy files and directories\n",
    "- **mv**: move/rename files and directories\n",
    "- **mkdir**: create directories\n",
    "- **rm**: remove files and directories\n",
    "- **ln**: create hard and soft/symbolic links\n",
    "- **touch**: change file timestamp (creat an empty file if not exists)"
   ]
  },
  {
   "cell_type": "code",
   "execution_count": 1,
   "metadata": {},
   "outputs": [],
   "source": [
    "mkdir test"
   ]
  },
  {
   "cell_type": "code",
   "execution_count": 2,
   "metadata": {},
   "outputs": [
    {
     "name": "stdout",
     "output_type": "stream",
     "text": [
      "mkdir: cannot create directory ‘test’: File exists\r\n"
     ]
    }
   ],
   "source": [
    "mkdir test"
   ]
  },
  {
   "cell_type": "code",
   "execution_count": 3,
   "metadata": {},
   "outputs": [],
   "source": [
    "mkdir test1 test2"
   ]
  },
  {
   "cell_type": "code",
   "execution_count": 4,
   "metadata": {},
   "outputs": [
    {
     "name": "stdout",
     "output_type": "stream",
     "text": [
      "Ch01-LearningShell.ipynb                    Ch08-JobsAndProcessControl.ipynb\r\n",
      "Ch02-NavigationExploration.ipynb            Ch09-UtilityCommands.ipynb\r\n",
      "Ch03-ManipulatingFilesAndDirectories.ipynb  README.md\r\n",
      "Ch04-FilesAndPermissions.ipynb              \u001b[0m\u001b[01;34mresources\u001b[0m/\r\n",
      "Ch05-UserManagementEnvVariables.ipynb       \u001b[01;34mtest\u001b[0m/\r\n",
      "Ch06-IORedirection-Pipelines.ipynb          \u001b[01;34mtest1\u001b[0m/\r\n",
      "Ch07-ExpansionAndSubstitution.ipynb         \u001b[01;34mtest2\u001b[0m/\r\n"
     ]
    }
   ],
   "source": [
    "ls"
   ]
  },
  {
   "cell_type": "code",
   "execution_count": 5,
   "metadata": {},
   "outputs": [],
   "source": [
    "! touch test.txt"
   ]
  },
  {
   "cell_type": "code",
   "execution_count": 6,
   "metadata": {},
   "outputs": [
    {
     "name": "stdout",
     "output_type": "stream",
     "text": [
      "Ch01-LearningShell.ipynb                    Ch09-UtilityCommands.ipynb\r\n",
      "Ch02-NavigationExploration.ipynb            README.md\r\n",
      "Ch03-ManipulatingFilesAndDirectories.ipynb  \u001b[0m\u001b[01;34mresources\u001b[0m/\r\n",
      "Ch04-FilesAndPermissions.ipynb              \u001b[01;34mtest\u001b[0m/\r\n",
      "Ch05-UserManagementEnvVariables.ipynb       \u001b[01;34mtest1\u001b[0m/\r\n",
      "Ch06-IORedirection-Pipelines.ipynb          \u001b[01;34mtest2\u001b[0m/\r\n",
      "Ch07-ExpansionAndSubstitution.ipynb         test.txt\r\n",
      "Ch08-JobsAndProcessControl.ipynb\r\n"
     ]
    }
   ],
   "source": [
    "ls"
   ]
  },
  {
   "cell_type": "code",
   "execution_count": 7,
   "metadata": {},
   "outputs": [],
   "source": [
    "# make parent directories as needed\n",
    "! mkdir -p test/test1"
   ]
  },
  {
   "cell_type": "code",
   "execution_count": 8,
   "metadata": {},
   "outputs": [],
   "source": [
    "# create a file inside test/test1/\n",
    "! touch test/test1/file.txt"
   ]
  },
  {
   "cell_type": "code",
   "execution_count": 9,
   "metadata": {},
   "outputs": [
    {
     "name": "stdout",
     "output_type": "stream",
     "text": [
      "test1\r\n"
     ]
    }
   ],
   "source": [
    "! ls test"
   ]
  },
  {
   "cell_type": "code",
   "execution_count": 10,
   "metadata": {},
   "outputs": [
    {
     "name": "stdout",
     "output_type": "stream",
     "text": [
      "cp: -r not specified; omitting directory 'test'\r\n"
     ]
    }
   ],
   "source": [
    "cp test cptest"
   ]
  },
  {
   "cell_type": "code",
   "execution_count": 11,
   "metadata": {},
   "outputs": [],
   "source": [
    "cp -r test cptest"
   ]
  },
  {
   "cell_type": "code",
   "execution_count": 12,
   "metadata": {},
   "outputs": [
    {
     "name": "stdout",
     "output_type": "stream",
     "text": [
      "\u001b[0m\u001b[01;34mtest1\u001b[0m/\r\n"
     ]
    }
   ],
   "source": [
    "ls cptest"
   ]
  },
  {
   "cell_type": "code",
   "execution_count": 13,
   "metadata": {},
   "outputs": [
    {
     "name": "stdout",
     "output_type": "stream",
     "text": [
      "file.txt\r\n"
     ]
    }
   ],
   "source": [
    "ls cptest/test1/"
   ]
  },
  {
   "cell_type": "code",
   "execution_count": 14,
   "metadata": {},
   "outputs": [
    {
     "name": "stdout",
     "output_type": "stream",
     "text": [
      "Ch01-LearningShell.ipynb                    Ch09-UtilityCommands.ipynb\r\n",
      "Ch02-NavigationExploration.ipynb            \u001b[0m\u001b[01;34mcptest\u001b[0m/\r\n",
      "Ch03-ManipulatingFilesAndDirectories.ipynb  README.md\r\n",
      "Ch04-FilesAndPermissions.ipynb              \u001b[01;34mresources\u001b[0m/\r\n",
      "Ch05-UserManagementEnvVariables.ipynb       \u001b[01;34mtest\u001b[0m/\r\n",
      "Ch06-IORedirection-Pipelines.ipynb          \u001b[01;34mtest1\u001b[0m/\r\n",
      "Ch07-ExpansionAndSubstitution.ipynb         \u001b[01;34mtest2\u001b[0m/\r\n",
      "Ch08-JobsAndProcessControl.ipynb            test.txt\r\n"
     ]
    }
   ],
   "source": [
    "ls"
   ]
  },
  {
   "cell_type": "markdown",
   "metadata": {},
   "source": [
    "## mv - move and rename files\n",
    "```bash\n",
    "mv source destination\n",
    "```"
   ]
  },
  {
   "cell_type": "code",
   "execution_count": 15,
   "metadata": {},
   "outputs": [],
   "source": [
    "mv test testing"
   ]
  },
  {
   "cell_type": "code",
   "execution_count": 16,
   "metadata": {},
   "outputs": [
    {
     "name": "stdout",
     "output_type": "stream",
     "text": [
      "Ch01-LearningShell.ipynb                    Ch09-UtilityCommands.ipynb\r\n",
      "Ch02-NavigationExploration.ipynb            \u001b[0m\u001b[01;34mcptest\u001b[0m/\r\n",
      "Ch03-ManipulatingFilesAndDirectories.ipynb  README.md\r\n",
      "Ch04-FilesAndPermissions.ipynb              \u001b[01;34mresources\u001b[0m/\r\n",
      "Ch05-UserManagementEnvVariables.ipynb       \u001b[01;34mtest1\u001b[0m/\r\n",
      "Ch06-IORedirection-Pipelines.ipynb          \u001b[01;34mtest2\u001b[0m/\r\n",
      "Ch07-ExpansionAndSubstitution.ipynb         \u001b[01;34mtesting\u001b[0m/\r\n",
      "Ch08-JobsAndProcessControl.ipynb            test.txt\r\n"
     ]
    }
   ],
   "source": [
    "ls"
   ]
  },
  {
   "cell_type": "code",
   "execution_count": 17,
   "metadata": {},
   "outputs": [],
   "source": [
    "! echo \"Hello\" > file.txt"
   ]
  },
  {
   "cell_type": "code",
   "execution_count": 18,
   "metadata": {},
   "outputs": [
    {
     "name": "stdout",
     "output_type": "stream",
     "text": [
      "Ch01-LearningShell.ipynb                    \u001b[0m\u001b[01;34mcptest\u001b[0m/\r\n",
      "Ch02-NavigationExploration.ipynb            file.txt\r\n",
      "Ch03-ManipulatingFilesAndDirectories.ipynb  README.md\r\n",
      "Ch04-FilesAndPermissions.ipynb              \u001b[01;34mresources\u001b[0m/\r\n",
      "Ch05-UserManagementEnvVariables.ipynb       \u001b[01;34mtest1\u001b[0m/\r\n",
      "Ch06-IORedirection-Pipelines.ipynb          \u001b[01;34mtest2\u001b[0m/\r\n",
      "Ch07-ExpansionAndSubstitution.ipynb         \u001b[01;34mtesting\u001b[0m/\r\n",
      "Ch08-JobsAndProcessControl.ipynb            test.txt\r\n",
      "Ch09-UtilityCommands.ipynb\r\n"
     ]
    }
   ],
   "source": [
    "ls"
   ]
  },
  {
   "cell_type": "code",
   "execution_count": 19,
   "metadata": {},
   "outputs": [],
   "source": [
    "mv file.txt cptest"
   ]
  },
  {
   "cell_type": "code",
   "execution_count": 20,
   "metadata": {},
   "outputs": [
    {
     "name": "stdout",
     "output_type": "stream",
     "text": [
      "Ch01-LearningShell.ipynb                    Ch09-UtilityCommands.ipynb\r\n",
      "Ch02-NavigationExploration.ipynb            \u001b[0m\u001b[01;34mcptest\u001b[0m/\r\n",
      "Ch03-ManipulatingFilesAndDirectories.ipynb  README.md\r\n",
      "Ch04-FilesAndPermissions.ipynb              \u001b[01;34mresources\u001b[0m/\r\n",
      "Ch05-UserManagementEnvVariables.ipynb       \u001b[01;34mtest1\u001b[0m/\r\n",
      "Ch06-IORedirection-Pipelines.ipynb          \u001b[01;34mtest2\u001b[0m/\r\n",
      "Ch07-ExpansionAndSubstitution.ipynb         \u001b[01;34mtesting\u001b[0m/\r\n",
      "Ch08-JobsAndProcessControl.ipynb            test.txt\r\n"
     ]
    }
   ],
   "source": [
    "ls"
   ]
  },
  {
   "cell_type": "code",
   "execution_count": 21,
   "metadata": {},
   "outputs": [
    {
     "name": "stdout",
     "output_type": "stream",
     "text": [
      "file.txt  \u001b[0m\u001b[01;34mtest1\u001b[0m/\r\n"
     ]
    }
   ],
   "source": [
    "ls cptest"
   ]
  },
  {
   "cell_type": "code",
   "execution_count": 22,
   "metadata": {},
   "outputs": [
    {
     "name": "stdout",
     "output_type": "stream",
     "text": [
      "Hello\r\n"
     ]
    }
   ],
   "source": [
    "cat cptest/file.txt"
   ]
  },
  {
   "cell_type": "markdown",
   "metadata": {},
   "source": [
    "## remove files and directories\n",
    "```bash\n",
    "rm item...\n",
    "```\n",
    "switches:\n",
    "- `r` - recursive\n",
    "- `f` - force; do not prompt by ignoring nonexistent files"
   ]
  },
  {
   "cell_type": "code",
   "execution_count": 24,
   "metadata": {},
   "outputs": [
    {
     "name": "stdout",
     "output_type": "stream",
     "text": [
      "rm: cannot remove 'cptest/file.txt': No such file or directory\r\n"
     ]
    }
   ],
   "source": [
    "! rm cptest/file.txt"
   ]
  },
  {
   "cell_type": "code",
   "execution_count": 25,
   "metadata": {},
   "outputs": [
    {
     "name": "stdout",
     "output_type": "stream",
     "text": [
      "test1\r\n"
     ]
    }
   ],
   "source": [
    "! ls cptest"
   ]
  },
  {
   "cell_type": "code",
   "execution_count": 26,
   "metadata": {},
   "outputs": [
    {
     "name": "stdout",
     "output_type": "stream",
     "text": [
      "rm: cannot remove 'cptest': Is a directory\r\n"
     ]
    }
   ],
   "source": [
    "rm cptest"
   ]
  },
  {
   "cell_type": "code",
   "execution_count": 27,
   "metadata": {},
   "outputs": [],
   "source": [
    "rm -r cptest"
   ]
  },
  {
   "cell_type": "code",
   "execution_count": 28,
   "metadata": {},
   "outputs": [
    {
     "name": "stdout",
     "output_type": "stream",
     "text": [
      "Ch01-LearningShell.ipynb                    Ch09-UtilityCommands.ipynb\r\n",
      "Ch02-NavigationExploration.ipynb            README.md\r\n",
      "Ch03-ManipulatingFilesAndDirectories.ipynb  \u001b[0m\u001b[01;34mresources\u001b[0m/\r\n",
      "Ch04-FilesAndPermissions.ipynb              \u001b[01;34mtest1\u001b[0m/\r\n",
      "Ch05-UserManagementEnvVariables.ipynb       \u001b[01;34mtest2\u001b[0m/\r\n",
      "Ch06-IORedirection-Pipelines.ipynb          \u001b[01;34mtesting\u001b[0m/\r\n",
      "Ch07-ExpansionAndSubstitution.ipynb         test.txt\r\n",
      "Ch08-JobsAndProcessControl.ipynb\r\n"
     ]
    }
   ],
   "source": [
    "ls "
   ]
  },
  {
   "cell_type": "code",
   "execution_count": 29,
   "metadata": {},
   "outputs": [],
   "source": [
    "mkdir test"
   ]
  },
  {
   "cell_type": "code",
   "execution_count": 30,
   "metadata": {},
   "outputs": [
    {
     "name": "stdout",
     "output_type": "stream",
     "text": [
      "Ch01-LearningShell.ipynb                    Ch09-UtilityCommands.ipynb\r\n",
      "Ch02-NavigationExploration.ipynb            README.md\r\n",
      "Ch03-ManipulatingFilesAndDirectories.ipynb  \u001b[0m\u001b[01;34mresources\u001b[0m/\r\n",
      "Ch04-FilesAndPermissions.ipynb              \u001b[01;34mtest\u001b[0m/\r\n",
      "Ch05-UserManagementEnvVariables.ipynb       \u001b[01;34mtest1\u001b[0m/\r\n",
      "Ch06-IORedirection-Pipelines.ipynb          \u001b[01;34mtest2\u001b[0m/\r\n",
      "Ch07-ExpansionAndSubstitution.ipynb         \u001b[01;34mtesting\u001b[0m/\r\n",
      "Ch08-JobsAndProcessControl.ipynb            test.txt\r\n"
     ]
    }
   ],
   "source": [
    "ls"
   ]
  },
  {
   "cell_type": "code",
   "execution_count": 31,
   "metadata": {},
   "outputs": [],
   "source": [
    "rm -r test testing"
   ]
  },
  {
   "cell_type": "code",
   "execution_count": 32,
   "metadata": {},
   "outputs": [
    {
     "name": "stdout",
     "output_type": "stream",
     "text": [
      "Ch01-LearningShell.ipynb                    Ch08-JobsAndProcessControl.ipynb\r\n",
      "Ch02-NavigationExploration.ipynb            Ch09-UtilityCommands.ipynb\r\n",
      "Ch03-ManipulatingFilesAndDirectories.ipynb  README.md\r\n",
      "Ch04-FilesAndPermissions.ipynb              \u001b[0m\u001b[01;34mresources\u001b[0m/\r\n",
      "Ch05-UserManagementEnvVariables.ipynb       \u001b[01;34mtest1\u001b[0m/\r\n",
      "Ch06-IORedirection-Pipelines.ipynb          \u001b[01;34mtest2\u001b[0m/\r\n",
      "Ch07-ExpansionAndSubstitution.ipynb         test.txt\r\n"
     ]
    }
   ],
   "source": [
    "ls"
   ]
  },
  {
   "cell_type": "markdown",
   "metadata": {},
   "source": [
    "<h1><font color=\"red\"> Warning with rm</h1>\n",
    "    \n",
    "- once files are removed using rm, they're gone for good!\n",
    "- rm especially with wildcards like ***** can be dangerous"
   ]
  },
  {
   "cell_type": "markdown",
   "metadata": {},
   "source": [
    "## create links\n",
    "\n",
    "### hard links\n",
    "- original Unix way of creating links\n",
    "- every file has a single hard link that gives the files its name\n",
    "- when we create a hard link, we create an additional directory entry for a file\n",
    "- two limitations:\n",
    "    - hard link may not reference a directory\n",
    "    - hard link cannot reference a file outside its own file system\n",
    "- when a hard link is deleted, the link is removed but the contents of the file exist (space is not deallocated) until all links to the files are deleted\n",
    "- prefer soft link\n",
    "\n",
    "- create a hard link\n",
    "```bash\n",
    "ln file link\n",
    "```"
   ]
  },
  {
   "cell_type": "code",
   "execution_count": 33,
   "metadata": {},
   "outputs": [],
   "source": [
    "! echo \"hello world\" > hello.txt"
   ]
  },
  {
   "cell_type": "code",
   "execution_count": 34,
   "metadata": {},
   "outputs": [
    {
     "name": "stdout",
     "output_type": "stream",
     "text": [
      "Ch01-LearningShell.ipynb                    Ch09-UtilityCommands.ipynb\r\n",
      "Ch02-NavigationExploration.ipynb            hello.txt\r\n",
      "Ch03-ManipulatingFilesAndDirectories.ipynb  README.md\r\n",
      "Ch04-FilesAndPermissions.ipynb              \u001b[0m\u001b[01;34mresources\u001b[0m/\r\n",
      "Ch05-UserManagementEnvVariables.ipynb       \u001b[01;34mtest1\u001b[0m/\r\n",
      "Ch06-IORedirection-Pipelines.ipynb          \u001b[01;34mtest2\u001b[0m/\r\n",
      "Ch07-ExpansionAndSubstitution.ipynb         test.txt\r\n",
      "Ch08-JobsAndProcessControl.ipynb\r\n"
     ]
    }
   ],
   "source": [
    "ls"
   ]
  },
  {
   "cell_type": "code",
   "execution_count": 35,
   "metadata": {},
   "outputs": [],
   "source": [
    "! ln hello.txt hellolink"
   ]
  },
  {
   "cell_type": "code",
   "execution_count": 36,
   "metadata": {},
   "outputs": [
    {
     "name": "stdout",
     "output_type": "stream",
     "text": [
      "Ch01-LearningShell.ipynb                    Ch09-UtilityCommands.ipynb\r\n",
      "Ch02-NavigationExploration.ipynb            hellolink\r\n",
      "Ch03-ManipulatingFilesAndDirectories.ipynb  hello.txt\r\n",
      "Ch04-FilesAndPermissions.ipynb              README.md\r\n",
      "Ch05-UserManagementEnvVariables.ipynb       \u001b[0m\u001b[01;34mresources\u001b[0m/\r\n",
      "Ch06-IORedirection-Pipelines.ipynb          \u001b[01;34mtest1\u001b[0m/\r\n",
      "Ch07-ExpansionAndSubstitution.ipynb         \u001b[01;34mtest2\u001b[0m/\r\n",
      "Ch08-JobsAndProcessControl.ipynb            test.txt\r\n"
     ]
    }
   ],
   "source": [
    "ls"
   ]
  },
  {
   "cell_type": "code",
   "execution_count": 37,
   "metadata": {},
   "outputs": [
    {
     "name": "stdout",
     "output_type": "stream",
     "text": [
      "hello world\r\n"
     ]
    }
   ],
   "source": [
    "cat hellolink"
   ]
  },
  {
   "cell_type": "code",
   "execution_count": 38,
   "metadata": {},
   "outputs": [
    {
     "name": "stdout",
     "output_type": "stream",
     "text": [
      "-rw-r--r-- 2 kali kali 12 Feb  9 13:13 hellolink\r\n",
      "-rw-r--r-- 2 kali kali 12 Feb  9 13:13 hello.txt\r\n"
     ]
    }
   ],
   "source": [
    "ls -l hellolink hello.txt"
   ]
  },
  {
   "cell_type": "code",
   "execution_count": 39,
   "metadata": {},
   "outputs": [],
   "source": [
    "# append more data hard link\n",
    "! echo \"hi there\\n\" >> hellolink"
   ]
  },
  {
   "cell_type": "code",
   "execution_count": 40,
   "metadata": {},
   "outputs": [
    {
     "name": "stdout",
     "output_type": "stream",
     "text": [
      "hello world\r\n",
      "hi there\r\n",
      "\r\n"
     ]
    }
   ],
   "source": [
    "cat hellolink"
   ]
  },
  {
   "cell_type": "code",
   "execution_count": 41,
   "metadata": {},
   "outputs": [
    {
     "name": "stdout",
     "output_type": "stream",
     "text": [
      "hello world\r\n",
      "hi there\r\n",
      "\r\n"
     ]
    }
   ],
   "source": [
    "cat hello.txt"
   ]
  },
  {
   "cell_type": "code",
   "execution_count": 42,
   "metadata": {},
   "outputs": [
    {
     "name": "stdout",
     "output_type": "stream",
     "text": [
      "total 376\r\n",
      "drwxr-xr-x 7 kali kali   4096 Feb  9 13:14 \u001b[0m\u001b[01;34m.\u001b[0m/\r\n",
      "drwxr-xr-x 4 kali kali   4096 Feb  9 13:03 \u001b[01;34m..\u001b[0m/\r\n",
      "-rw-r--r-- 1 kali kali   4146 Feb  9 13:07 Ch01-LearningShell.ipynb\r\n",
      "-rw-r--r-- 1 kali kali  89211 Feb  9 13:12 Ch02-NavigationExploration.ipynb\r\n",
      "-rw-r--r-- 1 kali kali  20101 Feb  9 13:03 Ch03-ManipulatingFilesAndDirectories.ipynb\r\n",
      "-rw-r--r-- 1 kali kali  17481 Feb  9 13:03 Ch04-FilesAndPermissions.ipynb\r\n",
      "-rw-r--r-- 1 kali kali  19599 Feb  9 13:03 Ch05-UserManagementEnvVariables.ipynb\r\n",
      "-rw-r--r-- 1 kali kali 134819 Feb  9 13:03 Ch06-IORedirection-Pipelines.ipynb\r\n",
      "-rw-r--r-- 1 kali kali  13070 Feb  9 13:03 Ch07-ExpansionAndSubstitution.ipynb\r\n",
      "-rw-r--r-- 1 kali kali   3771 Feb  9 13:03 Ch08-JobsAndProcessControl.ipynb\r\n",
      "-rw-r--r-- 1 kali kali  24293 Feb  9 13:03 Ch09-UtilityCommands.ipynb\r\n",
      "drwxr-xr-x 8 kali kali   4096 Feb  9 13:03 \u001b[01;34m.git\u001b[0m/\r\n",
      "-rw-r--r-- 1 kali kali     25 Feb  9 13:03 .gitignore\r\n",
      "-rw-r--r-- 2 kali kali     22 Feb  9 13:14 hellolink\r\n",
      "-rw-r--r-- 2 kali kali     22 Feb  9 13:14 hello.txt\r\n",
      "drwxr-xr-x 2 kali kali   4096 Feb  9 13:08 \u001b[01;34m.ipynb_checkpoints\u001b[0m/\r\n",
      "-rw-r--r-- 1 kali kali    544 Feb  9 13:03 README.md\r\n",
      "drwxr-xr-x 2 kali kali   4096 Feb  9 13:03 \u001b[01;34mresources\u001b[0m/\r\n",
      "drwxr-xr-x 2 kali kali   4096 Feb  9 13:12 \u001b[01;34mtest1\u001b[0m/\r\n",
      "drwxr-xr-x 2 kali kali   4096 Feb  9 13:12 \u001b[01;34mtest2\u001b[0m/\r\n",
      "-rw-r--r-- 1 kali kali      0 Feb  9 13:13 test.txt\r\n"
     ]
    }
   ],
   "source": [
    "ls -al"
   ]
  },
  {
   "cell_type": "markdown",
   "metadata": {},
   "source": [
    "### Symbolic/Soft links\n",
    "- similar to Windows shortcut\n",
    "- can link to files and directories\n",
    "- when symbolic link is deleted only the link is deleted; not the file itself\n",
    "```bash\n",
    "ln -s file softlink\n",
    "```"
   ]
  },
  {
   "cell_type": "code",
   "execution_count": 43,
   "metadata": {},
   "outputs": [],
   "source": [
    "! ln -s hello.txt softlink"
   ]
  },
  {
   "cell_type": "code",
   "execution_count": 44,
   "metadata": {},
   "outputs": [
    {
     "name": "stdout",
     "output_type": "stream",
     "text": [
      "Ch01-LearningShell.ipynb                    hellolink\r\n",
      "Ch02-NavigationExploration.ipynb            hello.txt\r\n",
      "Ch03-ManipulatingFilesAndDirectories.ipynb  README.md\r\n",
      "Ch04-FilesAndPermissions.ipynb              \u001b[0m\u001b[01;34mresources\u001b[0m/\r\n",
      "Ch05-UserManagementEnvVariables.ipynb       \u001b[01;36msoftlink\u001b[0m@\r\n",
      "Ch06-IORedirection-Pipelines.ipynb          \u001b[01;34mtest1\u001b[0m/\r\n",
      "Ch07-ExpansionAndSubstitution.ipynb         \u001b[01;34mtest2\u001b[0m/\r\n",
      "Ch08-JobsAndProcessControl.ipynb            test.txt\r\n",
      "Ch09-UtilityCommands.ipynb\r\n"
     ]
    }
   ],
   "source": [
    "ls"
   ]
  },
  {
   "cell_type": "code",
   "execution_count": 45,
   "metadata": {},
   "outputs": [
    {
     "name": "stdout",
     "output_type": "stream",
     "text": [
      "total 376\r\n",
      "drwxr-xr-x 7 kali kali   4096 Feb  9 13:14 \u001b[0m\u001b[01;34m.\u001b[0m/\r\n",
      "drwxr-xr-x 4 kali kali   4096 Feb  9 13:03 \u001b[01;34m..\u001b[0m/\r\n",
      "-rw-r--r-- 1 kali kali   4146 Feb  9 13:07 Ch01-LearningShell.ipynb\r\n",
      "-rw-r--r-- 1 kali kali  89211 Feb  9 13:12 Ch02-NavigationExploration.ipynb\r\n",
      "-rw-r--r-- 1 kali kali  20101 Feb  9 13:03 Ch03-ManipulatingFilesAndDirectories.ipynb\r\n",
      "-rw-r--r-- 1 kali kali  17481 Feb  9 13:03 Ch04-FilesAndPermissions.ipynb\r\n",
      "-rw-r--r-- 1 kali kali  19599 Feb  9 13:03 Ch05-UserManagementEnvVariables.ipynb\r\n",
      "-rw-r--r-- 1 kali kali 134819 Feb  9 13:03 Ch06-IORedirection-Pipelines.ipynb\r\n",
      "-rw-r--r-- 1 kali kali  13070 Feb  9 13:03 Ch07-ExpansionAndSubstitution.ipynb\r\n",
      "-rw-r--r-- 1 kali kali   3771 Feb  9 13:03 Ch08-JobsAndProcessControl.ipynb\r\n",
      "-rw-r--r-- 1 kali kali  24293 Feb  9 13:03 Ch09-UtilityCommands.ipynb\r\n",
      "drwxr-xr-x 8 kali kali   4096 Feb  9 13:03 \u001b[01;34m.git\u001b[0m/\r\n",
      "-rw-r--r-- 1 kali kali     25 Feb  9 13:03 .gitignore\r\n",
      "-rw-r--r-- 2 kali kali     22 Feb  9 13:14 hellolink\r\n",
      "-rw-r--r-- 2 kali kali     22 Feb  9 13:14 hello.txt\r\n",
      "drwxr-xr-x 2 kali kali   4096 Feb  9 13:08 \u001b[01;34m.ipynb_checkpoints\u001b[0m/\r\n",
      "-rw-r--r-- 1 kali kali    544 Feb  9 13:03 README.md\r\n",
      "drwxr-xr-x 2 kali kali   4096 Feb  9 13:03 \u001b[01;34mresources\u001b[0m/\r\n",
      "lrwxrwxrwx 1 kali kali      9 Feb  9 13:14 \u001b[01;36msoftlink\u001b[0m -> hello.txt\r\n",
      "drwxr-xr-x 2 kali kali   4096 Feb  9 13:12 \u001b[01;34mtest1\u001b[0m/\r\n",
      "drwxr-xr-x 2 kali kali   4096 Feb  9 13:12 \u001b[01;34mtest2\u001b[0m/\r\n",
      "-rw-r--r-- 1 kali kali      0 Feb  9 13:13 test.txt\r\n"
     ]
    }
   ],
   "source": [
    "ls -al"
   ]
  },
  {
   "cell_type": "code",
   "execution_count": 46,
   "metadata": {},
   "outputs": [],
   "source": [
    "! ln -s resources resourcessoft"
   ]
  },
  {
   "cell_type": "code",
   "execution_count": 47,
   "metadata": {},
   "outputs": [
    {
     "name": "stdout",
     "output_type": "stream",
     "text": [
      "total 376\r\n",
      "drwxr-xr-x 7 kali kali   4096 Feb  9 13:14 \u001b[0m\u001b[01;34m.\u001b[0m/\r\n",
      "drwxr-xr-x 4 kali kali   4096 Feb  9 13:03 \u001b[01;34m..\u001b[0m/\r\n",
      "-rw-r--r-- 1 kali kali   4146 Feb  9 13:07 Ch01-LearningShell.ipynb\r\n",
      "-rw-r--r-- 1 kali kali  89211 Feb  9 13:12 Ch02-NavigationExploration.ipynb\r\n",
      "-rw-r--r-- 1 kali kali  20101 Feb  9 13:03 Ch03-ManipulatingFilesAndDirectories.ipynb\r\n",
      "-rw-r--r-- 1 kali kali  17481 Feb  9 13:03 Ch04-FilesAndPermissions.ipynb\r\n",
      "-rw-r--r-- 1 kali kali  19599 Feb  9 13:03 Ch05-UserManagementEnvVariables.ipynb\r\n",
      "-rw-r--r-- 1 kali kali 134819 Feb  9 13:03 Ch06-IORedirection-Pipelines.ipynb\r\n",
      "-rw-r--r-- 1 kali kali  13070 Feb  9 13:03 Ch07-ExpansionAndSubstitution.ipynb\r\n",
      "-rw-r--r-- 1 kali kali   3771 Feb  9 13:03 Ch08-JobsAndProcessControl.ipynb\r\n",
      "-rw-r--r-- 1 kali kali  24293 Feb  9 13:03 Ch09-UtilityCommands.ipynb\r\n",
      "drwxr-xr-x 8 kali kali   4096 Feb  9 13:03 \u001b[01;34m.git\u001b[0m/\r\n",
      "-rw-r--r-- 1 kali kali     25 Feb  9 13:03 .gitignore\r\n",
      "-rw-r--r-- 2 kali kali     22 Feb  9 13:14 hellolink\r\n",
      "-rw-r--r-- 2 kali kali     22 Feb  9 13:14 hello.txt\r\n",
      "drwxr-xr-x 2 kali kali   4096 Feb  9 13:08 \u001b[01;34m.ipynb_checkpoints\u001b[0m/\r\n",
      "-rw-r--r-- 1 kali kali    544 Feb  9 13:03 README.md\r\n",
      "drwxr-xr-x 2 kali kali   4096 Feb  9 13:03 \u001b[01;34mresources\u001b[0m/\r\n",
      "lrwxrwxrwx 1 kali kali      9 Feb  9 13:14 \u001b[01;36mresourcessoft\u001b[0m -> \u001b[01;34mresources\u001b[0m/\r\n",
      "lrwxrwxrwx 1 kali kali      9 Feb  9 13:14 \u001b[01;36msoftlink\u001b[0m -> hello.txt\r\n",
      "drwxr-xr-x 2 kali kali   4096 Feb  9 13:12 \u001b[01;34mtest1\u001b[0m/\r\n",
      "drwxr-xr-x 2 kali kali   4096 Feb  9 13:12 \u001b[01;34mtest2\u001b[0m/\r\n",
      "-rw-r--r-- 1 kali kali      0 Feb  9 13:13 test.txt\r\n"
     ]
    }
   ],
   "source": [
    "ls -al"
   ]
  },
  {
   "cell_type": "code",
   "execution_count": 48,
   "metadata": {},
   "outputs": [
    {
     "name": "stdout",
     "output_type": "stream",
     "text": [
      "standard-unix-filesystem-hierarchy.png\r\n"
     ]
    }
   ],
   "source": [
    "# see the contents of softlink folder\n",
    "! ls resourcessoft/"
   ]
  },
  {
   "cell_type": "code",
   "execution_count": 49,
   "metadata": {},
   "outputs": [],
   "source": [
    "! rm -f resourcessoft softlink hello.txt hellolink"
   ]
  },
  {
   "cell_type": "code",
   "execution_count": 50,
   "metadata": {},
   "outputs": [
    {
     "name": "stdout",
     "output_type": "stream",
     "text": [
      "Ch01-LearningShell.ipynb                    Ch08-JobsAndProcessControl.ipynb\r\n",
      "Ch02-NavigationExploration.ipynb            Ch09-UtilityCommands.ipynb\r\n",
      "Ch03-ManipulatingFilesAndDirectories.ipynb  README.md\r\n",
      "Ch04-FilesAndPermissions.ipynb              \u001b[0m\u001b[01;34mresources\u001b[0m/\r\n",
      "Ch05-UserManagementEnvVariables.ipynb       \u001b[01;34mtest1\u001b[0m/\r\n",
      "Ch06-IORedirection-Pipelines.ipynb          \u001b[01;34mtest2\u001b[0m/\r\n",
      "Ch07-ExpansionAndSubstitution.ipynb         test.txt\r\n"
     ]
    }
   ],
   "source": [
    "ls"
   ]
  },
  {
   "cell_type": "code",
   "execution_count": null,
   "metadata": {},
   "outputs": [],
   "source": []
  }
 ],
 "metadata": {
  "kernelspec": {
   "display_name": "Python 3",
   "language": "python",
   "name": "python3"
  },
  "language_info": {
   "codemirror_mode": {
    "name": "ipython",
    "version": 3
   },
   "file_extension": ".py",
   "mimetype": "text/x-python",
   "name": "python",
   "nbconvert_exporter": "python",
   "pygments_lexer": "ipython3",
   "version": "3.8.5"
  }
 },
 "nbformat": 4,
 "nbformat_minor": 2
}
