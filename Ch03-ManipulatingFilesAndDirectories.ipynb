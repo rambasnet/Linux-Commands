{
 "cells": [
  {
   "cell_type": "markdown",
   "metadata": {},
   "source": [
    "# Manipulating Files and Directories\n",
    "- **cp**: copy files and directories\n",
    "- **mv**: move/rename files and directories\n",
    "- **mkdir**: create directories\n",
    "- **rm**: remove files and directories\n",
    "- **ln**: create hard and soft/symbolic links\n",
    "- **touch**: change file timestamp (creat an empty file if not exists)"
   ]
  },
  {
   "cell_type": "code",
   "execution_count": 19,
   "metadata": {},
   "outputs": [
    {
     "name": "stdout",
     "output_type": "stream",
     "text": [
      "mkdir: cannot create directory ‘test’: File exists\r\n"
     ]
    }
   ],
   "source": [
    "mkdir test"
   ]
  },
  {
   "cell_type": "code",
   "execution_count": 21,
   "metadata": {},
   "outputs": [
    {
     "name": "stdout",
     "output_type": "stream",
     "text": [
      "mkdir: cannot create directory ‘test’: File exists\r\n"
     ]
    }
   ],
   "source": [
    "mkdir test"
   ]
  },
  {
   "cell_type": "code",
   "execution_count": 22,
   "metadata": {},
   "outputs": [],
   "source": [
    "mkdir test1 test2"
   ]
  },
  {
   "cell_type": "code",
   "execution_count": 23,
   "metadata": {},
   "outputs": [
    {
     "name": "stdout",
     "output_type": "stream",
     "text": [
      "Ch01-LearningShell.ipynb          ManipulatingFilesAndDirectories.ipynb  \u001b[0m\u001b[01;34mtest\u001b[0m/\r\n",
      "Ch02-NavigationExploration.ipynb  README.md                              \u001b[01;34mtest1\u001b[0m/\r\n",
      "\u001b[01;34mcptest\u001b[0m/                           \u001b[01;34mresources\u001b[0m/                             \u001b[01;34mtest2\u001b[0m/\r\n"
     ]
    }
   ],
   "source": [
    "ls"
   ]
  },
  {
   "cell_type": "code",
   "execution_count": 27,
   "metadata": {},
   "outputs": [],
   "source": [
    "! touch test.txt"
   ]
  },
  {
   "cell_type": "code",
   "execution_count": 28,
   "metadata": {},
   "outputs": [
    {
     "name": "stdout",
     "output_type": "stream",
     "text": [
      "Ch01-LearningShell.ipynb               README.md\r\n",
      "Ch02-NavigationExploration.ipynb       \u001b[0m\u001b[01;34mresources\u001b[0m/\r\n",
      "\u001b[01;34mcptest\u001b[0m/                                test.txt\r\n",
      "ManipulatingFilesAndDirectories.ipynb\r\n"
     ]
    }
   ],
   "source": [
    "ls"
   ]
  },
  {
   "cell_type": "code",
   "execution_count": 42,
   "metadata": {},
   "outputs": [],
   "source": [
    "# make parent directories as needed\n",
    "! mkdir -p test/test1"
   ]
  },
  {
   "cell_type": "code",
   "execution_count": 43,
   "metadata": {},
   "outputs": [],
   "source": [
    "# create a file inside test/test1/\n",
    "! touch test/test1/file.txt"
   ]
  },
  {
   "cell_type": "code",
   "execution_count": 44,
   "metadata": {},
   "outputs": [
    {
     "name": "stdout",
     "output_type": "stream",
     "text": [
      "test1\r\n"
     ]
    }
   ],
   "source": [
    "! ls test"
   ]
  },
  {
   "cell_type": "code",
   "execution_count": 45,
   "metadata": {},
   "outputs": [
    {
     "name": "stdout",
     "output_type": "stream",
     "text": [
      "cp: -r not specified; omitting directory 'test'\r\n"
     ]
    }
   ],
   "source": [
    "cp test cptest"
   ]
  },
  {
   "cell_type": "code",
   "execution_count": 46,
   "metadata": {},
   "outputs": [],
   "source": [
    "cp -r test cptest"
   ]
  },
  {
   "cell_type": "code",
   "execution_count": 47,
   "metadata": {},
   "outputs": [
    {
     "name": "stdout",
     "output_type": "stream",
     "text": [
      "\u001b[0m\u001b[01;34mtest1\u001b[0m/\r\n"
     ]
    }
   ],
   "source": [
    "ls cptest"
   ]
  },
  {
   "cell_type": "code",
   "execution_count": 48,
   "metadata": {},
   "outputs": [
    {
     "name": "stdout",
     "output_type": "stream",
     "text": [
      "file.txt\r\n"
     ]
    }
   ],
   "source": [
    "ls cptest/test1/"
   ]
  },
  {
   "cell_type": "code",
   "execution_count": 49,
   "metadata": {},
   "outputs": [
    {
     "name": "stdout",
     "output_type": "stream",
     "text": [
      "Ch01-LearningShell.ipynb          ManipulatingFilesAndDirectories.ipynb  \u001b[0m\u001b[01;34mtest\u001b[0m/\r\n",
      "Ch02-NavigationExploration.ipynb  README.md\r\n",
      "\u001b[01;34mcptest\u001b[0m/                           \u001b[01;34mresources\u001b[0m/\r\n"
     ]
    }
   ],
   "source": [
    "ls"
   ]
  },
  {
   "cell_type": "markdown",
   "metadata": {},
   "source": [
    "## mv - move and rename files\n",
    "```bash\n",
    "mv source destination\n",
    "```"
   ]
  },
  {
   "cell_type": "code",
   "execution_count": 50,
   "metadata": {},
   "outputs": [],
   "source": [
    "mv test testing"
   ]
  },
  {
   "cell_type": "code",
   "execution_count": 51,
   "metadata": {},
   "outputs": [
    {
     "name": "stdout",
     "output_type": "stream",
     "text": [
      "Ch01-LearningShell.ipynb               README.md\r\n",
      "Ch02-NavigationExploration.ipynb       \u001b[0m\u001b[01;34mresources\u001b[0m/\r\n",
      "\u001b[01;34mcptest\u001b[0m/                                \u001b[01;34mtesting\u001b[0m/\r\n",
      "ManipulatingFilesAndDirectories.ipynb\r\n"
     ]
    }
   ],
   "source": [
    "ls"
   ]
  },
  {
   "cell_type": "code",
   "execution_count": 52,
   "metadata": {},
   "outputs": [],
   "source": [
    "! echo \"Hello\" > file.txt"
   ]
  },
  {
   "cell_type": "code",
   "execution_count": 53,
   "metadata": {},
   "outputs": [
    {
     "name": "stdout",
     "output_type": "stream",
     "text": [
      "Ch01-LearningShell.ipynb          ManipulatingFilesAndDirectories.ipynb\r\n",
      "Ch02-NavigationExploration.ipynb  README.md\r\n",
      "\u001b[0m\u001b[01;34mcptest\u001b[0m/                           \u001b[01;34mresources\u001b[0m/\r\n",
      "file.txt                          \u001b[01;34mtesting\u001b[0m/\r\n"
     ]
    }
   ],
   "source": [
    "ls"
   ]
  },
  {
   "cell_type": "code",
   "execution_count": 54,
   "metadata": {},
   "outputs": [],
   "source": [
    "mv file.txt cptest"
   ]
  },
  {
   "cell_type": "code",
   "execution_count": 55,
   "metadata": {},
   "outputs": [
    {
     "name": "stdout",
     "output_type": "stream",
     "text": [
      "Ch01-LearningShell.ipynb               README.md\r\n",
      "Ch02-NavigationExploration.ipynb       \u001b[0m\u001b[01;34mresources\u001b[0m/\r\n",
      "\u001b[01;34mcptest\u001b[0m/                                \u001b[01;34mtesting\u001b[0m/\r\n",
      "ManipulatingFilesAndDirectories.ipynb\r\n"
     ]
    }
   ],
   "source": [
    "ls"
   ]
  },
  {
   "cell_type": "code",
   "execution_count": 56,
   "metadata": {},
   "outputs": [
    {
     "name": "stdout",
     "output_type": "stream",
     "text": [
      "file.txt  \u001b[0m\u001b[01;34mtest1\u001b[0m/\r\n"
     ]
    }
   ],
   "source": [
    "ls cptest"
   ]
  },
  {
   "cell_type": "code",
   "execution_count": 59,
   "metadata": {},
   "outputs": [
    {
     "name": "stdout",
     "output_type": "stream",
     "text": [
      "Hello\r\n"
     ]
    }
   ],
   "source": [
    "cat cptest/file.txt"
   ]
  },
  {
   "cell_type": "markdown",
   "metadata": {},
   "source": [
    "## remove files and directories\n",
    "```bash\n",
    "rm item...\n",
    "```\n",
    "switches:\n",
    "- r: --recursive\n",
    "- f: --force; do not prompt by ignoring nonexistent files"
   ]
  },
  {
   "cell_type": "code",
   "execution_count": 60,
   "metadata": {},
   "outputs": [],
   "source": [
    "! rm cptest/file.txt"
   ]
  },
  {
   "cell_type": "code",
   "execution_count": 61,
   "metadata": {},
   "outputs": [
    {
     "name": "stdout",
     "output_type": "stream",
     "text": [
      "test1\r\n"
     ]
    }
   ],
   "source": [
    "! ls cptest"
   ]
  },
  {
   "cell_type": "code",
   "execution_count": 62,
   "metadata": {},
   "outputs": [
    {
     "name": "stdout",
     "output_type": "stream",
     "text": [
      "rm: cannot remove 'cptest': Is a directory\r\n"
     ]
    }
   ],
   "source": [
    "rm cptest"
   ]
  },
  {
   "cell_type": "code",
   "execution_count": 63,
   "metadata": {},
   "outputs": [],
   "source": [
    "rm -r cptest"
   ]
  },
  {
   "cell_type": "code",
   "execution_count": 64,
   "metadata": {},
   "outputs": [
    {
     "name": "stdout",
     "output_type": "stream",
     "text": [
      "Ch01-LearningShell.ipynb               README.md\r\n",
      "Ch02-NavigationExploration.ipynb       \u001b[0m\u001b[01;34mresources\u001b[0m/\r\n",
      "ManipulatingFilesAndDirectories.ipynb  \u001b[01;34mtesting\u001b[0m/\r\n"
     ]
    }
   ],
   "source": [
    "ls "
   ]
  },
  {
   "cell_type": "code",
   "execution_count": 65,
   "metadata": {},
   "outputs": [],
   "source": [
    "mkdir test"
   ]
  },
  {
   "cell_type": "code",
   "execution_count": 66,
   "metadata": {},
   "outputs": [
    {
     "name": "stdout",
     "output_type": "stream",
     "text": [
      "Ch01-LearningShell.ipynb               README.md   \u001b[0m\u001b[01;34mtesting\u001b[0m/\r\n",
      "Ch02-NavigationExploration.ipynb       \u001b[01;34mresources\u001b[0m/\r\n",
      "ManipulatingFilesAndDirectories.ipynb  \u001b[01;34mtest\u001b[0m/\r\n"
     ]
    }
   ],
   "source": [
    "ls"
   ]
  },
  {
   "cell_type": "code",
   "execution_count": 68,
   "metadata": {},
   "outputs": [],
   "source": [
    "rm -r test testing"
   ]
  },
  {
   "cell_type": "code",
   "execution_count": 69,
   "metadata": {},
   "outputs": [
    {
     "name": "stdout",
     "output_type": "stream",
     "text": [
      "Ch01-LearningShell.ipynb               README.md\r\n",
      "Ch02-NavigationExploration.ipynb       \u001b[0m\u001b[01;34mresources\u001b[0m/\r\n",
      "ManipulatingFilesAndDirectories.ipynb\r\n"
     ]
    }
   ],
   "source": [
    "ls"
   ]
  },
  {
   "cell_type": "markdown",
   "metadata": {},
   "source": [
    "<h1><font color=\"red\"> Warning with rm</h1>\n",
    "    \n",
    "- once files are removed using rm, they're gone for good!\n",
    "- rm especially with wildcards like ***** can be dangerous"
   ]
  },
  {
   "cell_type": "markdown",
   "metadata": {},
   "source": [
    "## create links\n",
    "\n",
    "### hard links\n",
    "- original Unix way of creating links\n",
    "- every file has a single hard link that gives the files its name\n",
    "- when we create a hard link, we create an additional directory entry for a file\n",
    "- two limitations:\n",
    "    - hard link may not reference a directory\n",
    "    - hard link cannot reference a file outside its own file system\n",
    "- when a hard link is deleted, the link is removed but the contents of the file exist (space is not deallocated) until all links to the files are deleted\n",
    "- prefer soft link\n",
    "\n",
    "- create a hard link\n",
    "```bash\n",
    "ln file link\n",
    "```"
   ]
  },
  {
   "cell_type": "code",
   "execution_count": 71,
   "metadata": {},
   "outputs": [],
   "source": [
    "! echo \"hello world\" > hello.txt"
   ]
  },
  {
   "cell_type": "code",
   "execution_count": 72,
   "metadata": {},
   "outputs": [
    {
     "name": "stdout",
     "output_type": "stream",
     "text": [
      "Ch01-LearningShell.ipynb          ManipulatingFilesAndDirectories.ipynb\r\n",
      "Ch02-NavigationExploration.ipynb  README.md\r\n",
      "hello.txt                         \u001b[0m\u001b[01;34mresources\u001b[0m/\r\n"
     ]
    }
   ],
   "source": [
    "ls"
   ]
  },
  {
   "cell_type": "code",
   "execution_count": 74,
   "metadata": {},
   "outputs": [],
   "source": [
    "! ln hello.txt hellolink"
   ]
  },
  {
   "cell_type": "code",
   "execution_count": 75,
   "metadata": {},
   "outputs": [
    {
     "name": "stdout",
     "output_type": "stream",
     "text": [
      "Ch01-LearningShell.ipynb          ManipulatingFilesAndDirectories.ipynb\r\n",
      "Ch02-NavigationExploration.ipynb  README.md\r\n",
      "hellolink                         \u001b[0m\u001b[01;34mresources\u001b[0m/\r\n",
      "hello.txt\r\n"
     ]
    }
   ],
   "source": [
    "ls"
   ]
  },
  {
   "cell_type": "code",
   "execution_count": 76,
   "metadata": {},
   "outputs": [
    {
     "name": "stdout",
     "output_type": "stream",
     "text": [
      "hello world\r\n"
     ]
    }
   ],
   "source": [
    "cat hellolink"
   ]
  },
  {
   "cell_type": "code",
   "execution_count": 77,
   "metadata": {},
   "outputs": [
    {
     "name": "stdout",
     "output_type": "stream",
     "text": [
      "-rw-r--r-- 2 root root 12 Jan 25 20:50 hellolink\r\n",
      "-rw-r--r-- 2 root root 12 Jan 25 20:50 hello.txt\r\n"
     ]
    }
   ],
   "source": [
    "ls -l hellolink hello.txt"
   ]
  },
  {
   "cell_type": "code",
   "execution_count": 79,
   "metadata": {},
   "outputs": [],
   "source": [
    "# append more data hard link\n",
    "! echo \"hi there\\n\" >> hellolink"
   ]
  },
  {
   "cell_type": "code",
   "execution_count": 80,
   "metadata": {},
   "outputs": [
    {
     "name": "stdout",
     "output_type": "stream",
     "text": [
      "hello world\r\n",
      "hi there\r\n",
      "\r\n"
     ]
    }
   ],
   "source": [
    "cat hellolink"
   ]
  },
  {
   "cell_type": "code",
   "execution_count": 81,
   "metadata": {},
   "outputs": [
    {
     "name": "stdout",
     "output_type": "stream",
     "text": [
      "hello world\r\n",
      "hi there\r\n",
      "\r\n"
     ]
    }
   ],
   "source": [
    "cat hello.txt"
   ]
  },
  {
   "cell_type": "code",
   "execution_count": 78,
   "metadata": {},
   "outputs": [
    {
     "name": "stdout",
     "output_type": "stream",
     "text": [
      "total 144\r\n",
      "drwxr-xr-x 5 root root  4096 Jan 25 20:50 \u001b[0m\u001b[01;34m.\u001b[0m/\r\n",
      "drwxr-xr-x 3 root root  4096 Jan 25 18:32 \u001b[01;34m..\u001b[0m/\r\n",
      "-rw-r--r-- 1 root root  4639 Jan 25 20:17 Ch01-LearningShell.ipynb\r\n",
      "-rw-r--r-- 1 root root 90097 Jan 25 20:17 Ch02-NavigationExploration.ipynb\r\n",
      "drwxr-xr-x 8 root root  4096 Jan 25 18:32 \u001b[01;34m.git\u001b[0m/\r\n",
      "-rw-r--r-- 2 root root    12 Jan 25 20:50 hellolink\r\n",
      "-rw-r--r-- 2 root root    12 Jan 25 20:50 hello.txt\r\n",
      "drwxr-xr-x 2 root root  4096 Jan 25 20:30 \u001b[01;34m.ipynb_checkpoints\u001b[0m/\r\n",
      "-rw-r--r-- 1 root root 12706 Jan 25 20:50 ManipulatingFilesAndDirectories.ipynb\r\n",
      "-rw-r--r-- 1 root root    93 Jan 25 18:32 README.md\r\n",
      "drwxr-xr-x 2 root root  4096 Jan 25 20:05 \u001b[01;34mresources\u001b[0m/\r\n"
     ]
    }
   ],
   "source": [
    "ls -al"
   ]
  },
  {
   "cell_type": "markdown",
   "metadata": {},
   "source": [
    "### Symbolic/Soft links\n",
    "- similar to Windows shortcut\n",
    "- can link to files and directories\n",
    "- when symbolic link is deleted only the link is deleted; not the file itself\n",
    "```bash\n",
    "ln -s file softlink\n",
    "```"
   ]
  },
  {
   "cell_type": "code",
   "execution_count": 83,
   "metadata": {},
   "outputs": [],
   "source": [
    "! ln -s hello.txt softlink"
   ]
  },
  {
   "cell_type": "code",
   "execution_count": 84,
   "metadata": {},
   "outputs": [
    {
     "name": "stdout",
     "output_type": "stream",
     "text": [
      "Ch01-LearningShell.ipynb          ManipulatingFilesAndDirectories.ipynb\r\n",
      "Ch02-NavigationExploration.ipynb  README.md\r\n",
      "hellolink                         \u001b[0m\u001b[01;34mresources\u001b[0m/\r\n",
      "hello.txt                         \u001b[01;36msoftlink\u001b[0m@\r\n"
     ]
    }
   ],
   "source": [
    "ls"
   ]
  },
  {
   "cell_type": "code",
   "execution_count": 85,
   "metadata": {},
   "outputs": [
    {
     "name": "stdout",
     "output_type": "stream",
     "text": [
      "total 144\r\n",
      "drwxr-xr-x 5 root root  4096 Jan 25 20:59 \u001b[0m\u001b[01;34m.\u001b[0m/\r\n",
      "drwxr-xr-x 3 root root  4096 Jan 25 18:32 \u001b[01;34m..\u001b[0m/\r\n",
      "-rw-r--r-- 1 root root  4639 Jan 25 20:17 Ch01-LearningShell.ipynb\r\n",
      "-rw-r--r-- 1 root root 90097 Jan 25 20:17 Ch02-NavigationExploration.ipynb\r\n",
      "drwxr-xr-x 8 root root  4096 Jan 25 18:32 \u001b[01;34m.git\u001b[0m/\r\n",
      "-rw-r--r-- 2 root root    22 Jan 25 20:54 hellolink\r\n",
      "-rw-r--r-- 2 root root    22 Jan 25 20:54 hello.txt\r\n",
      "drwxr-xr-x 2 root root  4096 Jan 25 20:30 \u001b[01;34m.ipynb_checkpoints\u001b[0m/\r\n",
      "-rw-r--r-- 1 root root 15540 Jan 25 20:58 ManipulatingFilesAndDirectories.ipynb\r\n",
      "-rw-r--r-- 1 root root    93 Jan 25 18:32 README.md\r\n",
      "drwxr-xr-x 2 root root  4096 Jan 25 20:05 \u001b[01;34mresources\u001b[0m/\r\n",
      "lrwxrwxrwx 1 root root     9 Jan 25 20:59 \u001b[01;36msoftlink\u001b[0m -> hello.txt\r\n"
     ]
    }
   ],
   "source": [
    "ls -al"
   ]
  },
  {
   "cell_type": "code",
   "execution_count": 107,
   "metadata": {},
   "outputs": [],
   "source": [
    "! ln -s resources resourcessoft"
   ]
  },
  {
   "cell_type": "code",
   "execution_count": 108,
   "metadata": {},
   "outputs": [
    {
     "name": "stdout",
     "output_type": "stream",
     "text": [
      "total 152\r\n",
      "drwxr-xr-x 5 root root  4096 Jan 25 21:42 \u001b[0m\u001b[01;34m.\u001b[0m/\r\n",
      "drwxr-xr-x 3 root root  4096 Jan 25 18:32 \u001b[01;34m..\u001b[0m/\r\n",
      "-rw-r--r-- 1 root root  4639 Jan 25 20:17 Ch01-LearningShell.ipynb\r\n",
      "-rw-r--r-- 1 root root 90097 Jan 25 20:17 Ch02-NavigationExploration.ipynb\r\n",
      "-rw-r--r-- 1 root root 20222 Jan 25 21:42 Ch03-ManipulatingFilesAndDirectories.ipynb\r\n",
      "-rw-r--r-- 1 root root  4543 Jan 25 21:40 Ch04-FilesAndPermissions.ipynb\r\n",
      "-rw-r--r-- 1 root root   555 Jan 25 21:11 Ch05-UserManagement.ipynb\r\n",
      "-rw-r--r-- 1 root root     0 Jan 25 21:36 foo.txt\r\n",
      "drwxr-xr-x 8 root root  4096 Jan 25 18:32 \u001b[01;34m.git\u001b[0m/\r\n",
      "drwxr-xr-x 2 root root  4096 Jan 25 21:12 \u001b[01;34m.ipynb_checkpoints\u001b[0m/\r\n",
      "-rw-r--r-- 1 root root    93 Jan 25 18:32 README.md\r\n",
      "drwxr-xr-x 2 root root  4096 Jan 25 21:42 \u001b[01;34mresources\u001b[0m/\r\n",
      "lrwxrwxrwx 1 root root     9 Jan 25 21:42 \u001b[01;36mresourcessoft\u001b[0m -> \u001b[01;34mresources\u001b[0m/\r\n"
     ]
    }
   ],
   "source": [
    "ls -al"
   ]
  },
  {
   "cell_type": "code",
   "execution_count": 113,
   "metadata": {},
   "outputs": [
    {
     "name": "stdout",
     "output_type": "stream",
     "text": [
      "standard-unix-filesystem-hierarchy.png\r\n"
     ]
    }
   ],
   "source": [
    "# see the contents of softlink folder\n",
    "! ls resourcessoft/"
   ]
  },
  {
   "cell_type": "code",
   "execution_count": 114,
   "metadata": {},
   "outputs": [],
   "source": [
    "! rm -f resourcessoft softlink hello.txt hellolink"
   ]
  },
  {
   "cell_type": "code",
   "execution_count": 115,
   "metadata": {},
   "outputs": [
    {
     "name": "stdout",
     "output_type": "stream",
     "text": [
      "Ch01-LearningShell.ipynb                    Ch05-UserManagement.ipynb\r\n",
      "Ch02-NavigationExploration.ipynb            foo.txt\r\n",
      "Ch03-ManipulatingFilesAndDirectories.ipynb  README.md\r\n",
      "Ch04-FilesAndPermissions.ipynb              \u001b[0m\u001b[01;34mresources\u001b[0m/\r\n"
     ]
    }
   ],
   "source": [
    "ls"
   ]
  },
  {
   "cell_type": "code",
   "execution_count": null,
   "metadata": {},
   "outputs": [],
   "source": []
  }
 ],
 "metadata": {
  "kernelspec": {
   "display_name": "Python 3",
   "language": "python",
   "name": "python3"
  },
  "language_info": {
   "codemirror_mode": {
    "name": "ipython",
    "version": 3
   },
   "file_extension": ".py",
   "mimetype": "text/x-python",
   "name": "python",
   "nbconvert_exporter": "python",
   "pygments_lexer": "ipython3",
   "version": "3.7.1"
  }
 },
 "nbformat": 4,
 "nbformat_minor": 2
}
