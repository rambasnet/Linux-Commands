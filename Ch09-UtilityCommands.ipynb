{
 "cells": [
  {
   "cell_type": "markdown",
   "metadata": {},
   "source": [
    "# Common Utility Commands"
   ]
  },
  {
   "cell_type": "code",
   "execution_count": 1,
   "metadata": {},
   "outputs": [
    {
     "name": "stdout",
     "output_type": "stream",
     "text": [
      "Sun 26 Jan 2020 10:11:38 PM EST\r\n"
     ]
    }
   ],
   "source": [
    "# date - display system date\n",
    "! date"
   ]
  },
  {
   "cell_type": "code",
   "execution_count": 2,
   "metadata": {},
   "outputs": [
    {
     "name": "stdout",
     "output_type": "stream",
     "text": [
      "    January 2020      \r\n",
      "Su Mo Tu We Th Fr Sa  \r\n",
      "          1  2  3  4  \r\n",
      " 5  6  7  8  9 10 11  \r\n",
      "12 13 14 15 16 17 18  \r\n",
      "19 20 21 22 23 24 25  \r\n",
      "\u001b[7m26\u001b[m 27 28 29 30 31     \r\n",
      "                      \r\n"
     ]
    }
   ],
   "source": [
    "# cal - display calendar\n",
    "! cal"
   ]
  },
  {
   "cell_type": "code",
   "execution_count": 3,
   "metadata": {},
   "outputs": [
    {
     "name": "stdout",
     "output_type": "stream",
     "text": [
      "Filesystem     1K-blocks     Used Available Use% Mounted on\r\n",
      "udev              969748        0    969748   0% /dev\r\n",
      "tmpfs             199732    21880    177852  11% /run\r\n",
      "/dev/sda1       79980100 10893968  64980356  15% /\r\n",
      "tmpfs             998652    20172    978480   3% /dev/shm\r\n",
      "tmpfs               5120        0      5120   0% /run/lock\r\n",
      "tmpfs             998652        0    998652   0% /sys/fs/cgroup\r\n",
      "tmpfs             199728       12    199716   1% /run/user/132\r\n",
      "tmpfs             199728       52    199676   1% /run/user/0\r\n",
      "/dev/sr0           57222    57222         0 100% /media/cdrom0\r\n"
     ]
    }
   ],
   "source": [
    "# df - show the amount of free space on drives\n",
    "! df"
   ]
  },
  {
   "cell_type": "code",
   "execution_count": 5,
   "metadata": {},
   "outputs": [
    {
     "name": "stdout",
     "output_type": "stream",
     "text": [
      "316K\t./.ipynb_checkpoints\r\n",
      "32K\t./.git/objects/7e\r\n",
      "8.0K\t./.git/objects/c2\r\n",
      "8.0K\t./.git/objects/1e\r\n",
      "8.0K\t./.git/objects/03\r\n",
      "8.0K\t./.git/objects/66\r\n",
      "8.0K\t./.git/objects/d3\r\n",
      "12K\t./.git/objects/34\r\n",
      "8.0K\t./.git/objects/9b\r\n",
      "8.0K\t./.git/objects/b0\r\n",
      "4.0K\t./.git/objects/info\r\n",
      "384K\t./.git/objects/e4\r\n",
      "8.0K\t./.git/objects/ba\r\n",
      "8.0K\t./.git/objects/ca\r\n",
      "12K\t./.git/objects/pack\r\n",
      "12K\t./.git/objects/6b\r\n",
      "8.0K\t./.git/objects/2a\r\n",
      "8.0K\t./.git/objects/87\r\n",
      "8.0K\t./.git/objects/f5\r\n",
      "8.0K\t./.git/objects/1d\r\n",
      "8.0K\t./.git/objects/3c\r\n",
      "572K\t./.git/objects\r\n",
      "8.0K\t./.git/logs/refs/heads\r\n",
      "12K\t./.git/logs/refs/remotes/origin\r\n",
      "16K\t./.git/logs/refs/remotes\r\n",
      "28K\t./.git/logs/refs\r\n",
      "36K\t./.git/logs\r\n",
      "52K\t./.git/hooks\r\n",
      "4.0K\t./.git/branches\r\n",
      "8.0K\t./.git/info\r\n",
      "4.0K\t./.git/refs/tags\r\n",
      "8.0K\t./.git/refs/heads\r\n",
      "12K\t./.git/refs/remotes/origin\r\n",
      "16K\t./.git/refs/remotes\r\n",
      "32K\t./.git/refs\r\n",
      "732K\t./.git\r\n",
      "396K\t./resources\r\n",
      "1.8M\t.\r\n"
     ]
    }
   ],
   "source": [
    "# du - display estimate file space usage\n",
    "! du -h"
   ]
  },
  {
   "cell_type": "code",
   "execution_count": 7,
   "metadata": {},
   "outputs": [
    {
     "name": "stdout",
     "output_type": "stream",
     "text": [
      "              total        used        free      shared  buff/cache   available\r\n",
      "Mem:          1.9Gi       1.2Gi       325Mi        51Mi       350Mi       415Mi\r\n",
      "Swap:         2.0Gi       881Mi       1.1Gi\r\n"
     ]
    }
   ],
   "source": [
    "# free - display free memory\n",
    "! free -h"
   ]
  },
  {
   "cell_type": "code",
   "execution_count": 8,
   "metadata": {},
   "outputs": [
    {
     "name": "stdout",
     "output_type": "stream",
     "text": [
      "ls is /usr/bin/ls\r\n"
     ]
    }
   ],
   "source": [
    "# type - display information about a command\n",
    "! type ls"
   ]
  },
  {
   "cell_type": "code",
   "execution_count": 9,
   "metadata": {},
   "outputs": [
    {
     "name": "stdout",
     "output_type": "stream",
     "text": [
      "/root/miniconda3/bin/python\r\n"
     ]
    }
   ],
   "source": [
    "# which - locate a command\n",
    "! which python"
   ]
  },
  {
   "cell_type": "code",
   "execution_count": 11,
   "metadata": {},
   "outputs": [
    {
     "name": "stdout",
     "output_type": "stream",
     "text": [
      "/usr/bin/sh: 1: help: not found\r\n"
     ]
    }
   ],
   "source": [
    "# help - display reference page for shell builtin\n",
    "! help -m ls"
   ]
  },
  {
   "cell_type": "code",
   "execution_count": 12,
   "metadata": {},
   "outputs": [
    {
     "name": "stdout",
     "output_type": "stream",
     "text": [
      "LS(1)                            User Commands                           LS(1)\r\n",
      "\r\n",
      "N\bNA\bAM\bME\bE\r\n",
      "       ls - list directory contents\r\n",
      "\r\n",
      "S\bSY\bYN\bNO\bOP\bPS\bSI\bIS\bS\r\n",
      "       l\bls\bs [_\bO_\bP_\bT_\bI_\bO_\bN]... [_\bF_\bI_\bL_\bE]...\r\n",
      "\r\n",
      "D\bDE\bES\bSC\bCR\bRI\bIP\bPT\bTI\bIO\bON\bN\r\n",
      "       List  information  about  the FILEs (the current directory by default).\r\n",
      "       Sort entries alphabetically if none of -\b-c\bcf\bft\btu\buv\bvS\bSU\bUX\bX nor -\b--\b-s\bso\bor\brt\bt  is  speci‐\r\n",
      "       fied.\r\n",
      "\r\n",
      "       Mandatory  arguments  to  long  options are mandatory for short options\r\n",
      "       too.\r\n",
      "\r\n",
      "       -\b-a\ba, -\b--\b-a\bal\bll\bl\r\n",
      "              do not ignore entries starting with .\r\n",
      "\r\n",
      "       -\b-A\bA, -\b--\b-a\bal\blm\bmo\bos\bst\bt-\b-a\bal\bll\bl\r\n",
      "              do not list implied . and ..\r\n",
      "\r\n",
      "       -\b--\b-a\bau\but\bth\bho\bor\br\r\n",
      "              with -\b-l\bl, print the author of each file\r\n",
      "\r\n",
      "       -\b-b\bb, -\b--\b-e\bes\bsc\bca\bap\bpe\be\r\n",
      "              print C-style escapes for nongraphic characters\r\n",
      "\r\n",
      "       -\b--\b-b\bbl\blo\boc\bck\bk-\b-s\bsi\biz\bze\be=_\bS_\bI_\bZ_\bE\r\n",
      "              with  -\b-l\bl,  scale  sizes  by  SIZE  when  printing  them;   e.g.,\r\n",
      "              '--block-size=M'; see SIZE format below\r\n",
      "\r\n",
      "       -\b-B\bB, -\b--\b-i\big\bgn\bno\bor\bre\be-\b-b\bba\bac\bck\bku\bup\bps\bs\r\n",
      "              do not list implied entries ending with ~\r\n",
      "\r\n",
      "       -\b-c\bc     with -\b-l\blt\bt: sort by, and show, ctime (time of last modification of\r\n",
      "              file status information); with -\b-l\bl: show ctime and sort by  name;\r\n",
      "              otherwise: sort by ctime, newest first\r\n",
      "\r\n",
      "       -\b-C\bC     list entries by columns\r\n",
      "\r\n",
      "       -\b--\b-c\bco\bol\blo\bor\br[=_\bW_\bH_\bE_\bN]\r\n",
      "              colorize  the output; WHEN can be 'always' (default if omitted),\r\n",
      "              'auto', or 'never'; more info below\r\n",
      "\r\n",
      "       -\b-d\bd, -\b--\b-d\bdi\bir\bre\bec\bct\bto\bor\bry\by\r\n",
      "              list directories themselves, not their contents\r\n",
      "\r\n",
      "       -\b-D\bD, -\b--\b-d\bdi\bir\bre\bed\bd\r\n",
      "              generate output designed for Emacs' dired mode\r\n",
      "\r\n",
      "       -\b-f\bf     do not sort, enable -\b-a\baU\bU, disable -\b-l\bls\bs -\b--\b-c\bco\bol\blo\bor\br\r\n",
      "\r\n",
      "       -\b-F\bF, -\b--\b-c\bcl\bla\bas\bss\bsi\bif\bfy\by\r\n",
      "              append indicator (one of */=>@|) to entries\r\n",
      "\r\n",
      "       -\b--\b-f\bfi\bil\ble\be-\b-t\bty\byp\bpe\be\r\n",
      "              likewise, except do not append '*'\r\n",
      "\r\n",
      "       -\b--\b-f\bfo\bor\brm\bma\bat\bt=_\bW_\bO_\bR_\bD\r\n",
      "              across -\b-x\bx, commas -\b-m\bm, horizontal -\b-x\bx, long -\b-l\bl, single-column  -\b-1\b1,\r\n",
      "              verbose -\b-l\bl, vertical -\b-C\bC\r\n",
      "\r\n",
      "       -\b--\b-f\bfu\bul\bll\bl-\b-t\bti\bim\bme\be\r\n",
      "              like -\b-l\bl -\b--\b-t\bti\bim\bme\be-\b-s\bst\bty\byl\ble\be=_\bf_\bu_\bl_\bl_\b-_\bi_\bs_\bo\r\n",
      "\r\n",
      "       -\b-g\bg     like -\b-l\bl, but do not list owner\r\n",
      "\r\n",
      "       -\b--\b-g\bgr\bro\bou\bup\bp-\b-d\bdi\bir\bre\bec\bct\bto\bor\bri\bie\bes\bs-\b-f\bfi\bir\brs\bst\bt\r\n",
      "              group directories before files;\r\n",
      "\r\n",
      "              can   be  augmented  with  a  -\b--\b-s\bso\bor\brt\bt  option,  but  any  use  of\r\n",
      "              -\b--\b-s\bso\bor\brt\bt=_\bn_\bo_\bn_\be (-\b-U\bU) disables grouping\r\n",
      "\r\n",
      "       -\b-G\bG, -\b--\b-n\bno\bo-\b-g\bgr\bro\bou\bup\bp\r\n",
      "              in a long listing, don't print group names\r\n",
      "\r\n",
      "       -\b-h\bh, -\b--\b-h\bhu\bum\bma\ban\bn-\b-r\bre\bea\bad\bda\bab\bbl\ble\be\r\n",
      "              with -\b-l\bl and -\b-s\bs, print sizes like 1K 234M 2G etc.\r\n",
      "\r\n",
      "       -\b--\b-s\bsi\bi   likewise, but use powers of 1000 not 1024\r\n",
      "\r\n",
      "       -\b-H\bH, -\b--\b-d\bde\ber\bre\bef\bfe\ber\bre\ben\bnc\bce\be-\b-c\bco\bom\bmm\bma\ban\bnd\bd-\b-l\bli\bin\bne\be\r\n",
      "              follow symbolic links listed on the command line\r\n",
      "\r\n",
      "       -\b--\b-d\bde\ber\bre\bef\bfe\ber\bre\ben\bnc\bce\be-\b-c\bco\bom\bmm\bma\ban\bnd\bd-\b-l\bli\bin\bne\be-\b-s\bsy\bym\bml\bli\bin\bnk\bk-\b-t\bto\bo-\b-d\bdi\bir\br\r\n",
      "              follow each command line symbolic link\r\n",
      "\r\n",
      "              that points to a directory\r\n",
      "\r\n",
      "       -\b--\b-h\bhi\bid\bde\be=_\bP_\bA_\bT_\bT_\bE_\bR_\bN\r\n",
      "              do not list implied entries matching shell  PATTERN  (overridden\r\n",
      "              by -\b-a\ba or -\b-A\bA)\r\n",
      "\r\n",
      "       -\b--\b-h\bhy\byp\bpe\ber\brl\bli\bin\bnk\bk[=_\bW_\bH_\bE_\bN]\r\n",
      "              hyperlink file names; WHEN can be 'always' (default if omitted),\r\n",
      "              'auto', or 'never'\r\n",
      "\r\n",
      "       -\b--\b-i\bin\bnd\bdi\bic\bca\bat\bto\bor\br-\b-s\bst\bty\byl\ble\be=_\bW_\bO_\bR_\bD\r\n",
      "              append indicator with style WORD to entry names: none (default),\r\n",
      "              slash (-\b-p\bp), file-type (-\b--\b-f\bfi\bil\ble\be-\b-t\bty\byp\bpe\be), classify (-\b-F\bF)\r\n",
      "\r\n",
      "       -\b-i\bi, -\b--\b-i\bin\bno\bod\bde\be\r\n",
      "              print the index number of each file\r\n",
      "\r\n",
      "       -\b-I\bI, -\b--\b-i\big\bgn\bno\bor\bre\be=_\bP_\bA_\bT_\bT_\bE_\bR_\bN\r\n",
      "              do not list implied entries matching shell PATTERN\r\n",
      "\r\n",
      "       -\b-k\bk, -\b--\b-k\bki\bib\bbi\bib\bby\byt\bte\bes\bs\r\n",
      "              default  to  1024-byte  blocks for disk usage; used only with -\b-s\bs\r\n",
      "              and per directory totals\r\n",
      "\r\n",
      "       -\b-l\bl     use a long listing format\r\n",
      "\r\n",
      "       -\b-L\bL, -\b--\b-d\bde\ber\bre\bef\bfe\ber\bre\ben\bnc\bce\be\r\n",
      "              when showing file information for a symbolic link, show informa‐\r\n",
      "              tion  for  the file the link references rather than for the link\r\n",
      "              itself\r\n",
      "\r\n",
      "       -\b-m\bm     fill width with a comma separated list of entries\r\n",
      "\r\n",
      "       -\b-n\bn, -\b--\b-n\bnu\bum\bme\ber\bri\bic\bc-\b-u\bui\bid\bd-\b-g\bgi\bid\bd\r\n",
      "              like -\b-l\bl, but list numeric user and group IDs\r\n",
      "\r\n",
      "       -\b-N\bN, -\b--\b-l\bli\bit\bte\ber\bra\bal\bl\r\n",
      "              print entry names without quoting\r\n",
      "\r\n",
      "       -\b-o\bo     like -\b-l\bl, but do not list group information\r\n",
      "\r\n",
      "       -\b-p\bp, -\b--\b-i\bin\bnd\bdi\bic\bca\bat\bto\bor\br-\b-s\bst\bty\byl\ble\be=_\bs_\bl_\ba_\bs_\bh\r\n",
      "              append / indicator to directories\r\n",
      "\r\n",
      "       -\b-q\bq, -\b--\b-h\bhi\bid\bde\be-\b-c\bco\bon\bnt\btr\bro\bol\bl-\b-c\bch\bha\bar\brs\bs\r\n",
      "              print ? instead of nongraphic characters\r\n",
      "\r\n",
      "       -\b--\b-s\bsh\bho\bow\bw-\b-c\bco\bon\bnt\btr\bro\bol\bl-\b-c\bch\bha\bar\brs\bs\r\n",
      "              show nongraphic characters as-is (the default, unless program is\r\n",
      "              'ls' and output is a terminal)\r\n",
      "\r\n",
      "       -\b-Q\bQ, -\b--\b-q\bqu\buo\bot\bte\be-\b-n\bna\bam\bme\be\r\n",
      "              enclose entry names in double quotes\r\n",
      "\r\n",
      "       -\b--\b-q\bqu\buo\bot\bti\bin\bng\bg-\b-s\bst\bty\byl\ble\be=_\bW_\bO_\bR_\bD\r\n",
      "              use  quoting style WORD for entry names: literal, locale, shell,\r\n",
      "              shell-always,  shell-escape,  shell-escape-always,   c,   escape\r\n",
      "              (overrides QUOTING_STYLE environment variable)\r\n",
      "\r\n",
      "       -\b-r\br, -\b--\b-r\bre\bev\bve\ber\brs\bse\be\r\n",
      "              reverse order while sorting\r\n",
      "\r\n",
      "       -\b-R\bR, -\b--\b-r\bre\bec\bcu\bur\brs\bsi\biv\bve\be\r\n",
      "              list subdirectories recursively\r\n",
      "\r\n",
      "       -\b-s\bs, -\b--\b-s\bsi\biz\bze\be\r\n",
      "              print the allocated size of each file, in blocks\r\n",
      "\r\n",
      "       -\b-S\bS     sort by file size, largest first\r\n",
      "\r\n",
      "       -\b--\b-s\bso\bor\brt\bt=_\bW_\bO_\bR_\bD\r\n",
      "              sort  by  WORD instead of name: none (-\b-U\bU), size (-\b-S\bS), time (-\b-t\bt),\r\n",
      "              version (-\b-v\bv), extension (-\b-X\bX)\r\n",
      "\r\n",
      "       -\b--\b-t\bti\bim\bme\be=_\bW_\bO_\bR_\bD\r\n",
      "              with -\b-l\bl, show time as WORD instead of default modification time:\r\n",
      "              atime  or  access  or  use  (-\b-u\bu); ctime or status (-\b-c\bc); also use\r\n",
      "              specified time as sort key if -\b--\b-s\bso\bor\brt\bt=_\bt_\bi_\bm_\be (newest first)\r\n",
      "\r\n",
      "       -\b--\b-t\bti\bim\bme\be-\b-s\bst\bty\byl\ble\be=_\bT_\bI_\bM_\bE_\b__\bS_\bT_\bY_\bL_\bE\r\n",
      "              time/date format with -\b-l\bl; see TIME_STYLE below\r\n",
      "\r\n",
      "       -\b-t\bt     sort by modification time, newest first\r\n",
      "\r\n",
      "       -\b-T\bT, -\b--\b-t\bta\bab\bbs\bsi\biz\bze\be=_\bC_\bO_\bL_\bS\r\n",
      "              assume tab stops at each COLS instead of 8\r\n",
      "\r\n",
      "       -\b-u\bu     with -\b-l\blt\bt: sort by, and show, access time; with -\b-l\bl:  show  access\r\n",
      "              time  and  sort  by name; otherwise: sort by access time, newest\r\n",
      "              first\r\n",
      "\r\n",
      "       -\b-U\bU     do not sort; list entries in directory order\r\n",
      "\r\n",
      "       -\b-v\bv     natural sort of (version) numbers within text\r\n",
      "\r\n",
      "       -\b-w\bw, -\b--\b-w\bwi\bid\bdt\bth\bh=_\bC_\bO_\bL_\bS\r\n",
      "              set output width to COLS.  0 means no limit\r\n",
      "\r\n",
      "       -\b-x\bx     list entries by lines instead of by columns\r\n",
      "\r\n",
      "       -\b-X\bX     sort alphabetically by entry extension\r\n",
      "\r\n",
      "       -\b-Z\bZ, -\b--\b-c\bco\bon\bnt\bte\bex\bxt\bt\r\n",
      "              print any security context of each file\r\n",
      "\r\n",
      "       -\b-1\b1     list one file per line.  Avoid '\\n' with -\b-q\bq or -\b-b\bb\r\n",
      "\r\n",
      "       -\b--\b-h\bhe\bel\blp\bp display this help and exit\r\n",
      "\r\n",
      "       -\b--\b-v\bve\ber\brs\bsi\bio\bon\bn\r\n",
      "              output version information and exit\r\n",
      "\r\n",
      "       The SIZE argument is an integer and  optional  unit  (example:  10K  is\r\n",
      "       10*1024).   Units  are  K,M,G,T,P,E,Z,Y  (powers  of 1024) or KB,MB,...\r\n",
      "       (powers of 1000).\r\n",
      "\r\n",
      "       The TIME_STYLE argument can be  full-iso,  long-iso,  iso,  locale,  or\r\n",
      "       +FORMAT.   FORMAT  is  interpreted  like in date(1).  If FORMAT is FOR‐\r\n",
      "       MAT1<newline>FORMAT2, then FORMAT1 applies to non-recent files and FOR‐\r\n",
      "       MAT2  to  recent files.  TIME_STYLE prefixed with 'posix-' takes effect\r\n",
      "       only outside the POSIX locale.  Also the TIME_STYLE  environment  vari‐\r\n",
      "       able sets the default style to use.\r\n",
      "\r\n",
      "       Using  color  to distinguish file types is disabled both by default and\r\n",
      "       with -\b--\b-c\bco\bol\blo\bor\br=_\bn_\be_\bv_\be_\br.  With -\b--\b-c\bco\bol\blo\bor\br=_\ba_\bu_\bt_\bo, ls emits color codes only  when\r\n",
      "       standard  output is connected to a terminal.  The LS_COLORS environment\r\n",
      "       variable can change the settings.  Use the dircolors command to set it.\r\n",
      "\r\n",
      "   E\bEx\bxi\bit\bt s\bst\bta\bat\btu\bus\bs:\b:\r\n",
      "       0      if OK,\r\n",
      "\r\n",
      "       1      if minor problems (e.g., cannot access subdirectory),\r\n",
      "\r\n",
      "       2      if serious trouble (e.g., cannot access command-line argument).\r\n",
      "\r\n",
      "A\bAU\bUT\bTH\bHO\bOR\bR\r\n",
      "       Written by Richard M. Stallman and David MacKenzie.\r\n",
      "\r\n",
      "R\bRE\bEP\bPO\bOR\bRT\bTI\bIN\bNG\bG B\bBU\bUG\bGS\bS\r\n",
      "       GNU coreutils online help: <https://www.gnu.org/software/coreutils/>\r\n",
      "       Report ls translation bugs to <https://translationproject.org/team/>\r\n",
      "\r\n",
      "C\bCO\bOP\bPY\bYR\bRI\bIG\bGH\bHT\bT\r\n",
      "       Copyright © 2018 Free Software Foundation, Inc.   License  GPLv3+:  GNU\r\n",
      "       GPL version 3 or later <https://gnu.org/licenses/gpl.html>.\r\n",
      "       This  is  free  software:  you  are free to change and redistribute it.\r\n",
      "       There is NO WARRANTY, to the extent permitted by law.\r\n",
      "\r\n",
      "S\bSE\bEE\bE A\bAL\bLS\bSO\bO\r\n",
      "       Full documentation at: <https://www.gnu.org/software/coreutils/ls>\r\n",
      "       or available locally via: info '(coreutils) ls invocation'\r\n",
      "\r\n",
      "GNU coreutils 8.30               February 2019                           LS(1)\r\n"
     ]
    }
   ],
   "source": [
    "# man - display an on-line command reference\n",
    "! man ls"
   ]
  },
  {
   "cell_type": "code",
   "execution_count": 13,
   "metadata": {},
   "outputs": [
    {
     "name": "stdout",
     "output_type": "stream",
     "text": [
      "/usr/bin/sh: 1: info: not found\r\n"
     ]
    }
   ],
   "source": [
    "# info - gives info about shell cmd\n",
    "! info ls"
   ]
  },
  {
   "cell_type": "code",
   "execution_count": 14,
   "metadata": {},
   "outputs": [
    {
     "name": "stdout",
     "output_type": "stream",
     "text": [
      "Linux kali 5.2.0-kali2-686-pae #1 SMP Debian 5.2.9-2kali1 (2019-08-22) i686 GNU/Linux\r\n"
     ]
    }
   ],
   "source": [
    "# uname - system information\n",
    "! uname -a"
   ]
  },
  {
   "cell_type": "code",
   "execution_count": 15,
   "metadata": {},
   "outputs": [
    {
     "name": "stdout",
     "output_type": "stream",
     "text": [
      "Architecture:                    i686\r\n",
      "CPU op-mode(s):                  32-bit, 64-bit\r\n",
      "Byte Order:                      Little Endian\r\n",
      "Address sizes:                   43 bits physical, 48 bits virtual\r\n",
      "CPU(s):                          4\r\n",
      "On-line CPU(s) list:             0-3\r\n",
      "Thread(s) per core:              1\r\n",
      "Core(s) per socket:              2\r\n",
      "Socket(s):                       2\r\n",
      "Vendor ID:                       GenuineIntel\r\n",
      "CPU family:                      6\r\n",
      "Model:                           142\r\n",
      "Model name:                      Intel(R) Core(TM) i7-8569U CPU @ 2.80GHz\r\n",
      "Stepping:                        10\r\n",
      "CPU MHz:                         2807.304\r\n",
      "BogoMIPS:                        5614.60\r\n",
      "Hypervisor vendor:               VMware\r\n",
      "Virtualization type:             full\r\n",
      "L1d cache:                       64 KiB\r\n",
      "L1i cache:                       64 KiB\r\n",
      "L2 cache:                        512 KiB\r\n",
      "L3 cache:                        16 MiB\r\n",
      "Vulnerability L1tf:              Mitigation; PTE Inversion\r\n",
      "Vulnerability Mds:               Mitigation; Clear CPU buffers; SMT Host state u\r\n",
      "                                 nknown\r\n",
      "Vulnerability Meltdown:          Mitigation; PTI\r\n",
      "Vulnerability Spec store bypass: Mitigation; Speculative Store Bypass disabled v\r\n",
      "                                 ia prctl and seccomp\r\n",
      "Vulnerability Spectre v1:        Mitigation; usercopy/swapgs barriers and __user\r\n",
      "                                  pointer sanitization\r\n",
      "Vulnerability Spectre v2:        Mitigation; Full generic retpoline, IBPB condit\r\n",
      "                                 ional, IBRS_FW, STIBP disabled, RSB filling\r\n",
      "Flags:                           fpu vme de pse tsc msr pae mce cx8 apic sep mtr\r\n",
      "                                 r pge mca cmov pat pse36 clflush mmx fxsr sse s\r\n",
      "                                 se2 ss ht nx pdpe1gb rdtscp lm constant_tsc arc\r\n",
      "                                 h_perfmon xtopology tsc_reliable nonstop_tsc cp\r\n",
      "                                 uid pni pclmulqdq ssse3 fma cx16 sse4_1 sse4_2 \r\n",
      "                                 x2apic movbe popcnt tsc_deadline_timer aes xsav\r\n",
      "                                 e avx f16c rdrand hypervisor lahf_lm abm 3dnowp\r\n",
      "                                 refetch cpuid_fault pti ssbd ibrs ibpb stibp fs\r\n",
      "                                 gsbase tsc_adjust bmi1 avx2 smep bmi2 invpcid m\r\n",
      "                                 px rdseed adx smap clflushopt xsaveopt xsavec x\r\n",
      "                                 saves arat md_clear flush_l1d arch_capabilities\r\n"
     ]
    }
   ],
   "source": [
    "# lscpu - display information about CPU architecture\n",
    "! lscpu"
   ]
  },
  {
   "cell_type": "code",
   "execution_count": 18,
   "metadata": {},
   "outputs": [
    {
     "name": "stdout",
     "output_type": "stream",
     "text": [
      "/usr/bin/sh: 1: history: not found\r\n"
     ]
    }
   ],
   "source": [
    "# history - display commands from history\n",
    "! history 10\n",
    "# try on bash terminal"
   ]
  },
  {
   "cell_type": "code",
   "execution_count": null,
   "metadata": {},
   "outputs": [],
   "source": []
  }
 ],
 "metadata": {
  "kernelspec": {
   "display_name": "Python 3",
   "language": "python",
   "name": "python3"
  },
  "language_info": {
   "codemirror_mode": {
    "name": "ipython",
    "version": 3
   },
   "file_extension": ".py",
   "mimetype": "text/x-python",
   "name": "python",
   "nbconvert_exporter": "python",
   "pygments_lexer": "ipython3",
   "version": "3.7.1"
  }
 },
 "nbformat": 4,
 "nbformat_minor": 2
}
