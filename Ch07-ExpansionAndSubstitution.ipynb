{
 "cells": [
  {
   "cell_type": "markdown",
   "metadata": {},
   "source": [
    "# Expansion and Substitution\n",
    "- commands can be expanded and substituted on the terminal\n",
    "- e.g., \\* can have a lot of different meaning to the shell; expanding to many things"
   ]
  },
  {
   "cell_type": "code",
   "execution_count": 1,
   "metadata": {},
   "outputs": [
    {
     "name": "stdout",
     "output_type": "stream",
     "text": [
      "this is a test\n"
     ]
    }
   ],
   "source": [
    "# prints out text arguments on standard output\n",
    "! echo this is a test"
   ]
  },
  {
   "cell_type": "code",
   "execution_count": 2,
   "metadata": {},
   "outputs": [
    {
     "name": "stdout",
     "output_type": "stream",
     "text": [
      "Ch01-LearningShell.ipynb Ch02-NavigationExploration.ipynb Ch03-ManipulatingFilesAndDirectories.ipynb Ch04-FilesAndPermissions.ipynb Ch05-UserManagementEnvVariables.ipynb Ch06-IORedirection-Pipelines.ipynb Ch07-ExpansionAndSubstitution.ipynb Ch08-JobsAndProcessControl.ipynb Ch09-UtilityCommands.ipynb foo.txt ls.txt README.md resources softfoolink sortedls.txt test1 test2 test.txt\n"
     ]
    }
   ],
   "source": [
    "# * wildcard that matches any character in filename\n",
    "! echo *"
   ]
  },
  {
   "cell_type": "code",
   "execution_count": 3,
   "metadata": {},
   "outputs": [
    {
     "name": "stdout",
     "output_type": "stream",
     "text": [
      "Ch01-LearningShell.ipynb Ch02-NavigationExploration.ipynb Ch03-ManipulatingFilesAndDirectories.ipynb Ch04-FilesAndPermissions.ipynb Ch05-UserManagementEnvVariables.ipynb Ch06-IORedirection-Pipelines.ipynb Ch07-ExpansionAndSubstitution.ipynb Ch08-JobsAndProcessControl.ipynb Ch09-UtilityCommands.ipynb\n"
     ]
    }
   ],
   "source": [
    "# pathname expansion; starts with C\n",
    "! echo C*"
   ]
  },
  {
   "cell_type": "code",
   "execution_count": 4,
   "metadata": {},
   "outputs": [
    {
     "name": "stdout",
     "output_type": "stream",
     "text": [
      "Ch01-LearningShell.ipynb Ch02-NavigationExploration.ipynb Ch03-ManipulatingFilesAndDirectories.ipynb Ch04-FilesAndPermissions.ipynb Ch05-UserManagementEnvVariables.ipynb Ch06-IORedirection-Pipelines.ipynb Ch07-ExpansionAndSubstitution.ipynb Ch08-JobsAndProcessControl.ipynb Ch09-UtilityCommands.ipynb\n"
     ]
    }
   ],
   "source": [
    "# ends with b\n",
    "! echo *b"
   ]
  },
  {
   "cell_type": "code",
   "execution_count": 5,
   "metadata": {},
   "outputs": [
    {
     "name": "stdout",
     "output_type": "stream",
     "text": [
      "/usr/local/share\n"
     ]
    }
   ],
   "source": [
    "! echo /usr/*/share"
   ]
  },
  {
   "cell_type": "code",
   "execution_count": 6,
   "metadata": {},
   "outputs": [
    {
     "name": "stdout",
     "output_type": "stream",
     "text": [
      "/home/kali\n"
     ]
    }
   ],
   "source": [
    "# ~ expansion\n",
    "! echo ~"
   ]
  },
  {
   "cell_type": "code",
   "execution_count": 7,
   "metadata": {},
   "outputs": [
    {
     "name": "stdout",
     "output_type": "stream",
     "text": [
      "/home/kali/user\n"
     ]
    }
   ],
   "source": [
    "! echo ~/user"
   ]
  },
  {
   "cell_type": "markdown",
   "metadata": {},
   "source": [
    "## Arithmetic expansion\n",
    "```bash\n",
    "$((expression))\n",
    "```\n",
    "- Arithmetic Operators\n",
    "- +: addition\n",
    "- -: subtraction\n",
    "- *: multiplication\n",
    "- /: integer division\n",
    "- \\%: modulo/remainder\n",
    "- **: exponentiation\n",
    "\n",
    "### PEMDAS - Order of operation"
   ]
  },
  {
   "cell_type": "code",
   "execution_count": 8,
   "metadata": {},
   "outputs": [
    {
     "name": "stdout",
     "output_type": "stream",
     "text": [
      "3\n"
     ]
    }
   ],
   "source": [
    "! echo $((5+2-2*2))"
   ]
  },
  {
   "cell_type": "code",
   "execution_count": 9,
   "metadata": {},
   "outputs": [
    {
     "name": "stdout",
     "output_type": "stream",
     "text": [
      "7 / 3 = 2\n"
     ]
    }
   ],
   "source": [
    "! echo 7 / 3 = $((7/3))"
   ]
  },
  {
   "cell_type": "code",
   "execution_count": 10,
   "metadata": {},
   "outputs": [
    {
     "name": "stdout",
     "output_type": "stream",
     "text": [
      "5 % 2 = 1\n"
     ]
    }
   ],
   "source": [
    "! echo 5 % 2 = $((5%2))"
   ]
  },
  {
   "cell_type": "code",
   "execution_count": 11,
   "metadata": {},
   "outputs": [
    {
     "name": "stdout",
     "output_type": "stream",
     "text": [
      "2 ^ 10 = 1024\n"
     ]
    }
   ],
   "source": [
    "! echo 2 ^ 10 = $((2**10))\n",
    "# try it on terminal"
   ]
  },
  {
   "cell_type": "markdown",
   "metadata": {},
   "source": [
    "### Brace expansion\n",
    "- allows pattern to create multiple text strings"
   ]
  },
  {
   "cell_type": "code",
   "execution_count": 12,
   "metadata": {},
   "outputs": [
    {
     "data": {
      "text/plain": [
       "['Number_1 Number_2 Number_3 Number_4 Number_5']"
      ]
     },
     "execution_count": 12,
     "metadata": {},
     "output_type": "execute_result"
    }
   ],
   "source": [
    "!! echo Number_{1..5}\n",
    "# on the terminal displays without [ ]"
   ]
  },
  {
   "cell_type": "code",
   "execution_count": 13,
   "metadata": {},
   "outputs": [
    {
     "data": {
      "text/plain": [
       "['Front-A-Back Front-B-Back Front-C-Back']"
      ]
     },
     "execution_count": 13,
     "metadata": {},
     "output_type": "execute_result"
    }
   ],
   "source": [
    "!! echo Front-{A,B,C}-Back\n",
    "# try it on terminal"
   ]
  },
  {
   "cell_type": "code",
   "execution_count": 14,
   "metadata": {},
   "outputs": [
    {
     "data": {
      "text/plain": [
       "['01 02 03 04 05 06 07 08 09 10 11 12 13 14 15']"
      ]
     },
     "execution_count": 14,
     "metadata": {},
     "output_type": "execute_result"
    }
   ],
   "source": [
    "!! echo {01..15}"
   ]
  },
  {
   "cell_type": "code",
   "execution_count": 15,
   "metadata": {},
   "outputs": [
    {
     "data": {
      "text/plain": [
       "['Z Y X W V U T S R Q P O N M L K J I H G F E D C B A']"
      ]
     },
     "execution_count": 15,
     "metadata": {},
     "output_type": "execute_result"
    }
   ],
   "source": [
    "!! echo {Z..A}"
   ]
  },
  {
   "cell_type": "code",
   "execution_count": 16,
   "metadata": {},
   "outputs": [],
   "source": [
    "%%bash\n",
    "# bash script\n",
    "mkdir photo\n",
    "cd photo\n",
    "mkdir {2018..2020}-{01..12}"
   ]
  },
  {
   "cell_type": "code",
   "execution_count": 17,
   "metadata": {},
   "outputs": [
    {
     "name": "stdout",
     "output_type": "stream",
     "text": [
      "2018-01  2018-05  2018-09  2019-01  2019-05  2019-09  2020-01  2020-05\t2020-09\n",
      "2018-02  2018-06  2018-10  2019-02  2019-06  2019-10  2020-02  2020-06\t2020-10\n",
      "2018-03  2018-07  2018-11  2019-03  2019-07  2019-11  2020-03  2020-07\t2020-11\n",
      "2018-04  2018-08  2018-12  2019-04  2019-08  2019-12  2020-04  2020-08\t2020-12\n"
     ]
    }
   ],
   "source": [
    "! ls photo"
   ]
  },
  {
   "cell_type": "code",
   "execution_count": 18,
   "metadata": {},
   "outputs": [],
   "source": [
    "! rm -rf photo"
   ]
  },
  {
   "cell_type": "markdown",
   "metadata": {},
   "source": [
    "## Command Substitution\n",
    " - allows us to use the output of a command as an expansion"
   ]
  },
  {
   "cell_type": "code",
   "execution_count": 19,
   "metadata": {},
   "outputs": [
    {
     "name": "stdout",
     "output_type": "stream",
     "text": [
      "Ch01-LearningShell.ipynb Ch02-NavigationExploration.ipynb Ch03-ManipulatingFilesAndDirectories.ipynb Ch04-FilesAndPermissions.ipynb Ch05-UserManagementEnvVariables.ipynb Ch06-IORedirection-Pipelines.ipynb Ch07-ExpansionAndSubstitution.ipynb Ch08-JobsAndProcessControl.ipynb Ch09-UtilityCommands.ipynb foo.txt ls.txt README.md resources softfoolink sortedls.txt test1 test2 test.txt\n"
     ]
    }
   ],
   "source": [
    "! echo $(ls)"
   ]
  },
  {
   "cell_type": "code",
   "execution_count": 20,
   "metadata": {},
   "outputs": [
    {
     "name": "stdout",
     "output_type": "stream",
     "text": [
      "-rwxr-xr-x 1 root root 151168 Sep 24 02:36 /usr/bin/cp\n"
     ]
    }
   ],
   "source": [
    "! ls -l $(which cp)"
   ]
  },
  {
   "cell_type": "code",
   "execution_count": 21,
   "metadata": {},
   "outputs": [
    {
     "name": "stdout",
     "output_type": "stream",
     "text": [
      "lrwxrwxrwx 1 kali kali 9 Dec 16 12:36 /home/kali/miniconda3/bin/python -> python3.8\n"
     ]
    }
   ],
   "source": [
    "! ls -l $(which python)"
   ]
  },
  {
   "cell_type": "markdown",
   "metadata": {},
   "source": [
    "## Quoting\n",
    "- single quote and double quotes have special meaning to the shell\n",
    "- if you place text inside double quotes, all the special characters used by the shell lose their special meaning except for \\$, \\\\, and ` (back quote)\n",
    "- single quotes supress all expansions; meaning every speical characters loose their special meaning except \\\\"
   ]
  },
  {
   "cell_type": "code",
   "execution_count": 35,
   "metadata": {},
   "outputs": [
    {
     "name": "stdout",
     "output_type": "stream",
     "text": [
      "hello\n",
      "hi there\n",
      "/home/kali/miniconda3/bin:/home/kali/miniconda3/condabin:/usr/local/sbin:/usr/local/bin:/usr/sbin:/usr/bin:/sbin:/bin:/usr/local/games:/usr/games:FOLDER/subfoler\n"
     ]
    }
   ],
   "source": [
    "! echo \"hello\\nhi there\\n$PATH\""
   ]
  },
  {
   "cell_type": "code",
   "execution_count": 38,
   "metadata": {},
   "outputs": [
    {
     "name": "stdout",
     "output_type": "stream",
     "text": [
      "hello\n",
      "hi there\n",
      "$PATH\n"
     ]
    }
   ],
   "source": [
    "! echo 'hello\\nhi there\\n$PATH'"
   ]
  },
  {
   "cell_type": "code",
   "execution_count": 24,
   "metadata": {},
   "outputs": [
    {
     "name": "stdout",
     "output_type": "stream",
     "text": [
      "this is a test\n"
     ]
    }
   ],
   "source": [
    "# notice the spaces between a and test\n",
    "! echo this is a        test"
   ]
  },
  {
   "cell_type": "code",
   "execution_count": 41,
   "metadata": {},
   "outputs": [
    {
     "name": "stdout",
     "output_type": "stream",
     "text": [
      "The total is 200.0\n"
     ]
    }
   ],
   "source": [
    "! echo The total is $200.00\n",
    "# $ is special character; not echoed on terminal"
   ]
  },
  {
   "cell_type": "code",
   "execution_count": 42,
   "metadata": {},
   "outputs": [
    {
     "name": "stdout",
     "output_type": "stream",
     "text": [
      "The total is $200.00\n"
     ]
    }
   ],
   "source": [
    "# use single quote to escpae the meaning of $\n",
    "! echo 'The total is $200.00'"
   ]
  },
  {
   "cell_type": "code",
   "execution_count": 43,
   "metadata": {},
   "outputs": [
    {
     "name": "stdout",
     "output_type": "stream",
     "text": [
      "this is a        test again\n"
     ]
    }
   ],
   "source": [
    "! echo \"this is a        test again\""
   ]
  },
  {
   "cell_type": "code",
   "execution_count": 44,
   "metadata": {},
   "outputs": [
    {
     "name": "stdout",
     "output_type": "stream",
     "text": [
      "February 2021 Su Mo Tu We Th Fr Sa 1 2 3 4 5 6 7 8 9 10 11 12 13 14 15 16 17 18 19 20 21 22 23 24 25 26 27 28\n"
     ]
    }
   ],
   "source": [
    "! echo $(cal)"
   ]
  },
  {
   "cell_type": "code",
   "execution_count": 45,
   "metadata": {},
   "outputs": [
    {
     "name": "stdout",
     "output_type": "stream",
     "text": [
      "   February 2021      \n",
      "Su Mo Tu We Th Fr Sa  \n",
      "    1  2  3  4  5  6  \n",
      " 7  8  9 10 11 12 13  \n",
      "14 15 16 17 18 19 20  \n",
      "21 22 23 24 25 26 27  \n",
      "28                    \n",
      "                      \n"
     ]
    }
   ],
   "source": [
    "# preserve the special character such as tabs, spaces and newline\n",
    "! echo \"$(cal)\""
   ]
  },
  {
   "cell_type": "code",
   "execution_count": 46,
   "metadata": {},
   "outputs": [
    {
     "name": "stdout",
     "output_type": "stream",
     "text": [
      "$(cal)\n"
     ]
    }
   ],
   "source": [
    "# $loses special meaning withing single quotes\n",
    "! echo '$(cal)'"
   ]
  },
  {
   "cell_type": "code",
   "execution_count": 47,
   "metadata": {},
   "outputs": [
    {
     "name": "stdout",
     "output_type": "stream",
     "text": [
      "$PATH\n",
      " some text $((2+2))\n"
     ]
    }
   ],
   "source": [
    "# \\n - newline\n",
    "! echo '$PATH\\n some text $((2+2))'"
   ]
  },
  {
   "cell_type": "code",
   "execution_count": 48,
   "metadata": {},
   "outputs": [
    {
     "name": "stdout",
     "output_type": "stream",
     "text": [
      "/home/kali/miniconda3/bin:/home/kali/miniconda3/condabin:/usr/local/sbin:/usr/local/bin:/usr/sbin:/usr/bin:/sbin:/bin:/usr/local/games:/usr/games:FOLDER/subfoler\n"
     ]
    }
   ],
   "source": [
    "! echo \"$PATH\""
   ]
  },
  {
   "cell_type": "code",
   "execution_count": 49,
   "metadata": {},
   "outputs": [
    {
     "name": "stdout",
     "output_type": "stream",
     "text": [
      "Time's up\u0007\n"
     ]
    }
   ],
   "source": [
    "# \\a - bell (alert or beep; but may not do it)\n",
    "! sleep 5; echo \"Time's up\\a\""
   ]
  },
  {
   "cell_type": "code",
   "execution_count": null,
   "metadata": {},
   "outputs": [],
   "source": []
  }
 ],
 "metadata": {
  "kernelspec": {
   "display_name": "Python 3",
   "language": "python",
   "name": "python3"
  },
  "language_info": {
   "codemirror_mode": {
    "name": "ipython",
    "version": 3
   },
   "file_extension": ".py",
   "mimetype": "text/x-python",
   "name": "python",
   "nbconvert_exporter": "python",
   "pygments_lexer": "ipython3",
   "version": "3.8.10"
  }
 },
 "nbformat": 4,
 "nbformat_minor": 4
}
