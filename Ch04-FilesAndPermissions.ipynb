{
 "cells": [
  {
   "cell_type": "markdown",
   "metadata": {},
   "source": [
    "# Files and Permissions\n",
    "- Unix OSes are multitasking and multi-user systems\n",
    "- following commands help with files and permissions\n",
    "    - **id** - display user identity\n",
    "    - **chmod** - change a file's mode\n",
    "    - **su** - run a shell as another user/switch user\n",
    "    - **sudo** - execute a command as another user\n",
    "    - **chown** - change a file's owner\n",
    "    - **chgrp** - change a file's group ownership\n",
    "    - **passwd** - change a user's password"
   ]
  },
  {
   "cell_type": "code",
   "execution_count": 2,
   "metadata": {},
   "outputs": [
    {
     "name": "stdout",
     "output_type": "stream",
     "text": [
      "uid=0(root) gid=0(root) groups=0(root)\r\n"
     ]
    }
   ],
   "source": [
    "! id"
   ]
  },
  {
   "cell_type": "code",
   "execution_count": 7,
   "metadata": {},
   "outputs": [
    {
     "name": "stdout",
     "output_type": "stream",
     "text": [
      "uid=1000(user) gid=1000(user) groups=1000(user)\r\n"
     ]
    }
   ],
   "source": [
    "! id user"
   ]
  },
  {
   "cell_type": "code",
   "execution_count": 6,
   "metadata": {},
   "outputs": [
    {
     "name": "stdout",
     "output_type": "stream",
     "text": [
      "/etc/shadow: ASCII text\r\n"
     ]
    }
   ],
   "source": [
    "! file /etc/shadow"
   ]
  },
  {
   "cell_type": "markdown",
   "metadata": {},
   "source": [
    "## Owners, Group Members, And Everyone Else (Others/World)\n",
    "- in Unix security model, a user may own files and directories\n",
    "    - has control over its access\n",
    "- a group may consists of 1 or more users who are given access to files and directories by their owners\n",
    "- owner may also access a set of rights to everybody (others)\n",
    "\n",
    "### Where do Linux system keeps track of user informations?\n",
    "- **/etc/passwd** - file and groups are defined in this file\n",
    "    - defines user (login) name, uid, guid, real names, home directory, login shell\n",
    "- **/etc/group** - group information is stored\n",
    "- **/etc/shadow** - holds information about users' hashed password"
   ]
  },
  {
   "cell_type": "markdown",
   "metadata": {},
   "source": [
    "## Reading, Writing, and Executing\n",
    "- three common permission provided to any file/folder"
   ]
  },
  {
   "cell_type": "code",
   "execution_count": 8,
   "metadata": {},
   "outputs": [],
   "source": [
    "! touch foo.txt"
   ]
  },
  {
   "cell_type": "code",
   "execution_count": 13,
   "metadata": {},
   "outputs": [],
   "source": [
    "! ln -s foo.txt softfoolink"
   ]
  },
  {
   "cell_type": "code",
   "execution_count": 14,
   "metadata": {},
   "outputs": [
    {
     "name": "stdout",
     "output_type": "stream",
     "text": [
      "total 152\r\n",
      "drwxr-xr-x 5 root root  4096 Jan 25 21:45 \u001b[0m\u001b[01;34m.\u001b[0m/\r\n",
      "drwxr-xr-x 3 root root  4096 Jan 25 18:32 \u001b[01;34m..\u001b[0m/\r\n",
      "-rw-r--r-- 1 root root  4639 Jan 25 20:17 Ch01-LearningShell.ipynb\r\n",
      "-rw-r--r-- 1 root root 90097 Jan 25 20:17 Ch02-NavigationExploration.ipynb\r\n",
      "-rw-r--r-- 1 root root 20025 Jan 25 21:45 Ch03-ManipulatingFilesAndDirectories.ipynb\r\n",
      "-rw-r--r-- 1 root root  4543 Jan 25 21:40 Ch04-FilesAndPermissions.ipynb\r\n",
      "-rw-r--r-- 1 root root   555 Jan 25 21:11 Ch05-UserManagement.ipynb\r\n",
      "-rw-r--r-- 1 root root     0 Jan 25 21:36 foo.txt\r\n",
      "drwxr-xr-x 8 root root  4096 Jan 25 18:32 \u001b[01;34m.git\u001b[0m/\r\n",
      "drwxr-xr-x 2 root root  4096 Jan 25 21:12 \u001b[01;34m.ipynb_checkpoints\u001b[0m/\r\n",
      "-rw-r--r-- 1 root root    93 Jan 25 18:32 README.md\r\n",
      "drwxr-xr-x 2 root root  4096 Jan 25 21:44 \u001b[01;34mresources\u001b[0m/\r\n",
      "lrwxrwxrwx 1 root root     7 Jan 25 21:45 \u001b[01;36msoftfoolink\u001b[0m -> foo.txt\r\n"
     ]
    }
   ],
   "source": [
    "ls -al"
   ]
  },
  {
   "cell_type": "markdown",
   "metadata": {},
   "source": [
    "#### File Types\n",
    "- \\- (hyphen): a regular file\n",
    "- d: a directory\n",
    "- l: symbolic link\n",
    "\n",
    "#### Owner Group Other\n",
    "rwx rwx rwx\n",
    "\n",
    "|Attrribute|Files|Directories|\n",
    "|---|---|---|\n",
    "| r | allows a file to be opened and read | allows a directory's contents to be listed if the execute attribute is also set|\n",
    "| w | allows a file to be written to but doesn't allow files to be renamed or deleted which is determined by directory attributes | allows files within a directory to be created, deleted, and renamed if the execute attribute is also set |\n",
    "| x | allows a file to be treated as a program and executed; file must be readable as well | allows a directory to be entered |"
   ]
  },
  {
   "cell_type": "markdown",
   "metadata": {},
   "source": [
    "### Change File Mode\n",
    "```bash\n",
    "chmod permissions file\n",
    "```\n",
    "#### Octal representation for permission: 4 (Read), 2 (Write), 1(Execute)\n",
    "- e.g.:\n",
    "    - 7 (rwx)\n",
    "    - 6 (rw-)\n",
    "    - 5 (r-w)\n",
    "    - 4 (4--)\n",
    "    - 0 (---)\n",
    "\n",
    "#### symbolic notation\n",
    "- u : user/owner\n",
    "- g : group\n",
    "- o : others\n",
    "- a : all (u, g, o)\n",
    "- \\+ : add permission\n",
    "- \\- : remove permission\n",
    "- e.g.:\n"
   ]
  },
  {
   "cell_type": "code",
   "execution_count": 15,
   "metadata": {},
   "outputs": [],
   "source": [
    "! chmod 777 foo.txt"
   ]
  },
  {
   "cell_type": "code",
   "execution_count": 16,
   "metadata": {},
   "outputs": [
    {
     "name": "stdout",
     "output_type": "stream",
     "text": [
      "-rwxrwxrwx 1 root root 0 Jan 25 21:36 \u001b[0m\u001b[01;32mfoo.txt\u001b[0m*\r\n"
     ]
    }
   ],
   "source": [
    "ls -l foo.txt"
   ]
  },
  {
   "cell_type": "code",
   "execution_count": 17,
   "metadata": {},
   "outputs": [],
   "source": [
    "! chmod a-x foo.txt"
   ]
  },
  {
   "cell_type": "code",
   "execution_count": 18,
   "metadata": {},
   "outputs": [
    {
     "name": "stdout",
     "output_type": "stream",
     "text": [
      "-rw-rw-rw- 1 root root 0 Jan 25 21:36 foo.txt\r\n"
     ]
    }
   ],
   "source": [
    "ls -l foo.txt"
   ]
  },
  {
   "cell_type": "code",
   "execution_count": 24,
   "metadata": {},
   "outputs": [],
   "source": [
    "! chmod a-w foo.txt"
   ]
  },
  {
   "cell_type": "code",
   "execution_count": 25,
   "metadata": {},
   "outputs": [
    {
     "name": "stdout",
     "output_type": "stream",
     "text": [
      "-r--r--r-- 1 root root 0 Jan 25 21:36 foo.txt\r\n"
     ]
    }
   ],
   "source": [
    "ls -l foo.txt"
   ]
  },
  {
   "cell_type": "code",
   "execution_count": 31,
   "metadata": {},
   "outputs": [],
   "source": [
    "# add rwx for owner\n",
    "! chmod u+rwx foo.txt"
   ]
  },
  {
   "cell_type": "code",
   "execution_count": 27,
   "metadata": {},
   "outputs": [
    {
     "name": "stdout",
     "output_type": "stream",
     "text": [
      "-rwxr--r-- 1 root root 0 Jan 25 21:36 foo.txt\r\n"
     ]
    }
   ],
   "source": [
    "! ls -l foo.txt"
   ]
  },
  {
   "cell_type": "code",
   "execution_count": 28,
   "metadata": {},
   "outputs": [],
   "source": [
    "# remove rwx for other\n",
    "! chmod o-rwx foo.txt"
   ]
  },
  {
   "cell_type": "code",
   "execution_count": 30,
   "metadata": {},
   "outputs": [
    {
     "name": "stdout",
     "output_type": "stream",
     "text": [
      "-rwxr----- 1 root root 0 Jan 25 21:36 \u001b[0m\u001b[01;32mfoo.txt\u001b[0m*\r\n"
     ]
    }
   ],
   "source": [
    "ls -l foo.txt"
   ]
  },
  {
   "cell_type": "code",
   "execution_count": 33,
   "metadata": {},
   "outputs": [
    {
     "name": "stdout",
     "output_type": "stream",
     "text": [
      "\u001b]0;root@kali: ~\u0007\u001b[01;31mroot@kali\u001b[00m:\u001b[01;34m~\u001b[00m# ^C\n",
      "\n",
      "\u001b]0;root@kali: ~\u0007\u001b[01;31mroot@kali\u001b[00m:\u001b[01;34m~\u001b[00m# "
     ]
    }
   ],
   "source": [
    "! su -"
   ]
  },
  {
   "cell_type": "markdown",
   "metadata": {},
   "source": [
    "### do as superuser\n",
    "- sudo apt update; upgrade\n",
    "- sudo apt install"
   ]
  },
  {
   "cell_type": "markdown",
   "metadata": {},
   "source": [
    "## change file owner and group\n",
    "```bash\n",
    "chown [owner]:[group] file...\n",
    "```"
   ]
  },
  {
   "cell_type": "code",
   "execution_count": 38,
   "metadata": {},
   "outputs": [
    {
     "name": "stdout",
     "output_type": "stream",
     "text": [
      "-rwxr----- 1 root root 0 Jan 25 21:36 \u001b[0m\u001b[01;32mfoo.txt\u001b[0m*\r\n"
     ]
    }
   ],
   "source": [
    "ls -l foo.txt"
   ]
  },
  {
   "cell_type": "code",
   "execution_count": 40,
   "metadata": {},
   "outputs": [],
   "source": [
    "! chown user:user foo.txt"
   ]
  },
  {
   "cell_type": "code",
   "execution_count": 42,
   "metadata": {},
   "outputs": [
    {
     "name": "stdout",
     "output_type": "stream",
     "text": [
      "-rwxr----- 1 user user 0 Jan 25 21:36 \u001b[0m\u001b[01;32mfoo.txt\u001b[0m*\r\n"
     ]
    }
   ],
   "source": [
    "ls -l foo.txt"
   ]
  },
  {
   "cell_type": "markdown",
   "metadata": {},
   "source": [
    "### Working with group\n",
    "- https://www.ibm.com/support/knowledgecenter/SSFKSJ_9.1.0/com.ibm.mq.sec.doc/q011110_.htm\n",
    "\n",
    "#### add a new group\n",
    "- needs sudo priviledge\n",
    "```bash\n",
    "sudo addgroup name\n",
    "```"
   ]
  },
  {
   "cell_type": "code",
   "execution_count": 98,
   "metadata": {},
   "outputs": [
    {
     "name": "stdout",
     "output_type": "stream",
     "text": [
      "Adding group `cyber' (GID 1001) ...\n",
      "Done.\n"
     ]
    }
   ],
   "source": [
    "# add a group name cyber\n",
    "! addgroup cyber"
   ]
  },
  {
   "cell_type": "code",
   "execution_count": 45,
   "metadata": {},
   "outputs": [
    {
     "name": "stdout",
     "output_type": "stream",
     "text": [
      "root:x:0:\r\n",
      "daemon:x:1:\r\n",
      "bin:x:2:\r\n",
      "sys:x:3:\r\n",
      "adm:x:4:\r\n",
      "tty:x:5:\r\n",
      "disk:x:6:\r\n",
      "lp:x:7:\r\n",
      "mail:x:8:\r\n",
      "news:x:9:\r\n",
      "uucp:x:10:\r\n",
      "man:x:12:\r\n",
      "proxy:x:13:\r\n",
      "kmem:x:15:\r\n",
      "dialout:x:20:\r\n",
      "fax:x:21:\r\n",
      "voice:x:22:\r\n",
      "cdrom:x:24:\r\n",
      "floppy:x:25:\r\n",
      "tape:x:26:\r\n",
      "sudo:x:27:\r\n",
      "audio:x:29:pulse\r\n",
      "dip:x:30:\r\n",
      "www-data:x:33:\r\n",
      "backup:x:34:\r\n",
      "operator:x:37:\r\n",
      "list:x:38:\r\n",
      "irc:x:39:\r\n",
      "src:x:40:\r\n",
      "gnats:x:41:\r\n",
      "shadow:x:42:\r\n",
      "utmp:x:43:\r\n",
      "video:x:44:\r\n",
      "sasl:x:45:\r\n",
      "plugdev:x:46:\r\n",
      "staff:x:50:\r\n",
      "games:x:60:\r\n",
      "users:x:100:\r\n",
      "nogroup:x:65534:\r\n",
      "systemd-journal:x:101:\r\n",
      "systemd-timesync:x:102:\r\n",
      "systemd-network:x:103:\r\n",
      "systemd-resolve:x:104:\r\n",
      "input:x:105:\r\n",
      "kvm:x:106:\r\n",
      "render:x:107:\r\n",
      "crontab:x:108:\r\n",
      "netdev:x:109:\r\n",
      "mysql:x:110:\r\n",
      "ntp:x:111:\r\n",
      "messagebus:x:112:\r\n",
      "i2c:x:113:\r\n",
      "Debian-exim:x:114:\r\n",
      "uuidd:x:115:\r\n",
      "redsocks:x:116:\r\n",
      "tss:x:117:\r\n",
      "kismet:x:118:\r\n",
      "mlocate:x:119:\r\n",
      "stunnel4:x:120:\r\n",
      "bluetooth:x:121:\r\n",
      "sslh:x:122:\r\n",
      "ssl-cert:x:123:postgres\r\n",
      "postgres:x:124:\r\n",
      "rdma:x:125:\r\n",
      "rtkit:x:126:\r\n",
      "ssh:x:127:\r\n",
      "Debian-snmp:x:128:\r\n",
      "inetsim:x:129:\r\n",
      "scanner:x:130:saned\r\n",
      "pulse:x:131:\r\n",
      "pulse-access:x:132:\r\n",
      "lpadmin:x:133:\r\n",
      "avahi:x:134:\r\n",
      "saned:x:135:\r\n",
      "sambashare:x:136:\r\n",
      "colord:x:137:\r\n",
      "geoclue:x:138:\r\n",
      "kpadmins:x:139:\r\n",
      "Debian-gdm:x:140:\r\n",
      "systemd-coredump:x:999:\r\n",
      "user:x:1000:\r\n",
      "cyber:x:1001:\r\n"
     ]
    }
   ],
   "source": [
    "! cat /etc/group"
   ]
  },
  {
   "cell_type": "code",
   "execution_count": 82,
   "metadata": {},
   "outputs": [
    {
     "name": "stdout",
     "output_type": "stream",
     "text": [
      "cyber:x:1001:\r\n"
     ]
    }
   ],
   "source": [
    "# display members of a group\n",
    "# getentry from database/nameservice group\n",
    "! getent group cyber"
   ]
  },
  {
   "cell_type": "code",
   "execution_count": 88,
   "metadata": {},
   "outputs": [
    {
     "name": "stdout",
     "output_type": "stream",
     "text": [
      "user:x:1000:1000:user,12,,:/home/user:/bin/bash\r\n"
     ]
    }
   ],
   "source": [
    "# get entry from passwd database\n",
    "! getent passwd user"
   ]
  },
  {
   "cell_type": "markdown",
   "metadata": {},
   "source": [
    "### add user to a group\n",
    "```bash\n",
    "sudo usermod -G group1,group2,... user\n",
    "```"
   ]
  },
  {
   "cell_type": "code",
   "execution_count": 102,
   "metadata": {},
   "outputs": [],
   "source": [
    "! usermod -aG cyber user"
   ]
  },
  {
   "cell_type": "code",
   "execution_count": 103,
   "metadata": {},
   "outputs": [
    {
     "name": "stdout",
     "output_type": "stream",
     "text": [
      "usermod: user 'user1' does not exist\r\n"
     ]
    }
   ],
   "source": [
    "# user must exist\n",
    "! usermod -aG cyber user1"
   ]
  },
  {
   "cell_type": "code",
   "execution_count": 104,
   "metadata": {},
   "outputs": [
    {
     "name": "stdout",
     "output_type": "stream",
     "text": [
      "uid=1000(user) gid=1000(user) groups=1000(user),27(sudo),1001(cyber)\r\n"
     ]
    }
   ],
   "source": [
    "! id user"
   ]
  },
  {
   "cell_type": "code",
   "execution_count": 105,
   "metadata": {},
   "outputs": [],
   "source": [
    "# remove user from a group cyber and add it to sudo\n",
    "# comman separated groupname without space to add user to group\n",
    "! usermod -aG sudo user"
   ]
  },
  {
   "cell_type": "code",
   "execution_count": 106,
   "metadata": {},
   "outputs": [
    {
     "name": "stdout",
     "output_type": "stream",
     "text": [
      "uid=1000(user) gid=1000(user) groups=1000(user),27(sudo),1001(cyber)\r\n"
     ]
    }
   ],
   "source": [
    "! id user"
   ]
  },
  {
   "cell_type": "code",
   "execution_count": 107,
   "metadata": {},
   "outputs": [
    {
     "name": "stdout",
     "output_type": "stream",
     "text": [
      "sudo:x:27:user\r\n"
     ]
    }
   ],
   "source": [
    "! getent group sudo"
   ]
  },
  {
   "cell_type": "markdown",
   "metadata": {},
   "source": [
    "### remove user from a group\n",
    "```bash\n",
    "sudo deluser user group\n",
    "```"
   ]
  },
  {
   "cell_type": "code",
   "execution_count": 109,
   "metadata": {},
   "outputs": [
    {
     "name": "stdout",
     "output_type": "stream",
     "text": [
      "Removing user `user' from group `cyber' ...\n",
      "Done.\n"
     ]
    }
   ],
   "source": [
    "! deluser user cyber"
   ]
  },
  {
   "cell_type": "code",
   "execution_count": 110,
   "metadata": {},
   "outputs": [
    {
     "name": "stdout",
     "output_type": "stream",
     "text": [
      "cyber:x:1001:\r\n"
     ]
    }
   ],
   "source": [
    "! getent group cyber #now no user is in cybergroup"
   ]
  },
  {
   "cell_type": "code",
   "execution_count": 112,
   "metadata": {},
   "outputs": [
    {
     "name": "stdout",
     "output_type": "stream",
     "text": [
      "user:x:1000:1000:user,12,,:/home/user:/bin/bash\r\n"
     ]
    }
   ],
   "source": [
    "! getent passwd user # user user still exist"
   ]
  },
  {
   "cell_type": "markdown",
   "metadata": {},
   "source": [
    "### delete a group\n",
    "```bash\n",
    "sudo delgroup name\n",
    "```"
   ]
  },
  {
   "cell_type": "code",
   "execution_count": 94,
   "metadata": {},
   "outputs": [
    {
     "name": "stdout",
     "output_type": "stream",
     "text": [
      "Removing group `cyber' ...\r\n",
      "Done.\r\n"
     ]
    }
   ],
   "source": [
    "# remove group\n",
    "! delgroup cyber"
   ]
  },
  {
   "cell_type": "code",
   "execution_count": 95,
   "metadata": {},
   "outputs": [],
   "source": [
    "! getent group cyber # should return empty/nothing"
   ]
  },
  {
   "cell_type": "code",
   "execution_count": 96,
   "metadata": {},
   "outputs": [
    {
     "name": "stdout",
     "output_type": "stream",
     "text": [
      "uid=1000(user) gid=1000(user) groups=1000(user),27(sudo)\r\n"
     ]
    }
   ],
   "source": [
    "! id user"
   ]
  },
  {
   "cell_type": "code",
   "execution_count": null,
   "metadata": {},
   "outputs": [],
   "source": []
  }
 ],
 "metadata": {
  "kernelspec": {
   "display_name": "Python 3",
   "language": "python",
   "name": "python3"
  },
  "language_info": {
   "codemirror_mode": {
    "name": "ipython",
    "version": 3
   },
   "file_extension": ".py",
   "mimetype": "text/x-python",
   "name": "python",
   "nbconvert_exporter": "python",
   "pygments_lexer": "ipython3",
   "version": "3.7.1"
  }
 },
 "nbformat": 4,
 "nbformat_minor": 2
}
