{
 "cells": [
  {
   "cell_type": "markdown",
   "metadata": {},
   "source": [
    "# Files and Permissions\n",
    "- Unix OSes are multitasking and multi-user systems\n",
    "- following commands help with files and permissions\n",
    "    - **id** - display user identity\n",
    "    - **chmod** - change a file's mode\n",
    "    - **su** - run a shell as another user/switch user\n",
    "    - **sudo** - execute a command as another user\n",
    "    - **chown** - change a file's owner\n",
    "    - **chgrp** - change a file's group ownership\n",
    "    - **passwd** - change a user's password"
   ]
  },
  {
   "cell_type": "code",
   "execution_count": 1,
   "metadata": {},
   "outputs": [
    {
     "name": "stdout",
     "output_type": "stream",
     "text": [
      "uid=1000(kali) gid=1000(kali) groups=1000(kali),24(cdrom),25(floppy),27(sudo),29(audio),30(dip),44(video),46(plugdev),109(netdev),118(bluetooth),133(scanner),141(kaboxer)\n"
     ]
    }
   ],
   "source": [
    "! id"
   ]
  },
  {
   "cell_type": "code",
   "execution_count": 2,
   "metadata": {},
   "outputs": [
    {
     "name": "stdout",
     "output_type": "stream",
     "text": [
      "uid=1001(user) gid=1001(user) groups=1001(user)\n"
     ]
    }
   ],
   "source": [
    "! id user"
   ]
  },
  {
   "cell_type": "code",
   "execution_count": 3,
   "metadata": {},
   "outputs": [
    {
     "name": "stdout",
     "output_type": "stream",
     "text": [
      "/etc/shadow: regular file, no read permission\n"
     ]
    }
   ],
   "source": [
    "! file /etc/shadow"
   ]
  },
  {
   "cell_type": "code",
   "execution_count": 4,
   "metadata": {},
   "outputs": [
    {
     "name": "stdout",
     "output_type": "stream",
     "text": [
      "[sudo] password for kali: /etc/shadow: ASCII text\n"
     ]
    }
   ],
   "source": [
    "! echo kali | sudo -S file /etc/shadow"
   ]
  },
  {
   "cell_type": "markdown",
   "metadata": {},
   "source": [
    "## Owners, Group Members, And Everyone Else (Others/World)\n",
    "- in Unix security model, a user may own files and directories\n",
    "    - has control over its access\n",
    "- a group may consists of 1 or more users who are given access to files and directories by their owners\n",
    "- owner may also access a set of rights to everybody (others)\n",
    "\n",
    "### Where do Linux system keeps track of user informations?\n",
    "- **/etc/passwd** - file and groups are defined in this file\n",
    "    - defines user (login) name, uid, guid, real names, home directory, login shell\n",
    "- **/etc/group** - group information is stored\n",
    "- **/etc/shadow** - holds information about users' hashed password"
   ]
  },
  {
   "cell_type": "markdown",
   "metadata": {},
   "source": [
    "## Reading, Writing, and Executing\n",
    "- three common permission provided to any file/folder"
   ]
  },
  {
   "cell_type": "code",
   "execution_count": 5,
   "metadata": {},
   "outputs": [],
   "source": [
    "! touch foo.txt"
   ]
  },
  {
   "cell_type": "code",
   "execution_count": 6,
   "metadata": {},
   "outputs": [],
   "source": [
    "! ln -s foo.txt softfoolink"
   ]
  },
  {
   "cell_type": "code",
   "execution_count": 7,
   "metadata": {},
   "outputs": [
    {
     "name": "stdout",
     "output_type": "stream",
     "text": [
      "total 376\n",
      "drwxr-xr-x 7 kali kali   4096 Feb  9 13:15 \u001b[0m\u001b[01;34m.\u001b[0m/\n",
      "drwxr-xr-x 4 kali kali   4096 Feb  9 13:03 \u001b[01;34m..\u001b[0m/\n",
      "-rw-r--r-- 1 kali kali   4146 Feb  9 13:07 Ch01-LearningShell.ipynb\n",
      "-rw-r--r-- 1 kali kali  89211 Feb  9 13:12 Ch02-NavigationExploration.ipynb\n",
      "-rw-r--r-- 1 kali kali  27124 Feb  9 13:14 Ch03-ManipulatingFilesAndDirectories.ipynb\n",
      "-rw-r--r-- 1 kali kali  17481 Feb  9 13:03 Ch04-FilesAndPermissions.ipynb\n",
      "-rw-r--r-- 1 kali kali  19599 Feb  9 13:03 Ch05-UserManagementEnvVariables.ipynb\n",
      "-rw-r--r-- 1 kali kali 134819 Feb  9 13:03 Ch06-IORedirection-Pipelines.ipynb\n",
      "-rw-r--r-- 1 kali kali  13070 Feb  9 13:03 Ch07-ExpansionAndSubstitution.ipynb\n",
      "-rw-r--r-- 1 kali kali   3771 Feb  9 13:03 Ch08-JobsAndProcessControl.ipynb\n",
      "-rw-r--r-- 1 kali kali  24293 Feb  9 13:03 Ch09-UtilityCommands.ipynb\n",
      "-rw-r--r-- 1 kali kali      0 Feb  9 13:15 foo.txt\n",
      "drwxr-xr-x 8 kali kali   4096 Feb  9 13:03 \u001b[01;34m.git\u001b[0m/\n",
      "-rw-r--r-- 1 kali kali     25 Feb  9 13:03 .gitignore\n",
      "drwxr-xr-x 2 kali kali   4096 Feb  9 13:14 \u001b[01;34m.ipynb_checkpoints\u001b[0m/\n",
      "-rw-r--r-- 1 kali kali    544 Feb  9 13:03 README.md\n",
      "drwxr-xr-x 2 kali kali   4096 Feb  9 13:03 \u001b[01;34mresources\u001b[0m/\n",
      "lrwxrwxrwx 1 kali kali      7 Feb  9 13:15 \u001b[01;36msoftfoolink\u001b[0m -> foo.txt\n",
      "drwxr-xr-x 2 kali kali   4096 Feb  9 13:12 \u001b[01;34mtest1\u001b[0m/\n",
      "drwxr-xr-x 2 kali kali   4096 Feb  9 13:12 \u001b[01;34mtest2\u001b[0m/\n",
      "-rw-r--r-- 1 kali kali      0 Feb  9 13:13 test.txt\n"
     ]
    }
   ],
   "source": [
    "ls -al"
   ]
  },
  {
   "cell_type": "markdown",
   "metadata": {},
   "source": [
    "#### File Types\n",
    "- \\- (hyphen): a regular file\n",
    "- d: a directory\n",
    "- l: symbolic link\n",
    "\n",
    "#### Owner Group Other\n",
    "rwx rwx rwx\n",
    "\n",
    "|Attrribute|Files|Directories|\n",
    "|---|---|---|\n",
    "| r | allows a file to be opened and read | allows a directory's contents to be listed if the execute attribute is also set|\n",
    "| w | allows a file to be written to but doesn't allow files to be renamed or deleted which is determined by directory attributes | allows files within a directory to be created, deleted, and renamed if the execute attribute is also set |\n",
    "| x | allows a file to be treated as a program and executed; file must be readable as well | allows a directory to be entered |"
   ]
  },
  {
   "cell_type": "markdown",
   "metadata": {},
   "source": [
    "### Change File Mode\n",
    "```bash\n",
    "chmod permissions file\n",
    "```\n",
    "#### Octal representation for permission: 4 (Read), 2 (Write), 1(Execute)\n",
    "- e.g.:\n",
    "    - 7 (rwx)\n",
    "    - 6 (rw-)\n",
    "    - 5 (r-w)\n",
    "    - 4 (4--)\n",
    "    - 0 (---)\n",
    "\n",
    "#### symbolic notation\n",
    "- u : user/owner\n",
    "- g : group\n",
    "- o : others\n",
    "- a : all (u, g, o)\n",
    "- \\+ : add permission\n",
    "- \\- : remove permission\n",
    "- e.g.:\n"
   ]
  },
  {
   "cell_type": "code",
   "execution_count": 8,
   "metadata": {},
   "outputs": [],
   "source": [
    "! chmod 777 foo.txt"
   ]
  },
  {
   "cell_type": "code",
   "execution_count": 9,
   "metadata": {},
   "outputs": [
    {
     "name": "stdout",
     "output_type": "stream",
     "text": [
      "-rwxrwxrwx 1 kali kali 0 Feb  9 13:15 \u001b[0m\u001b[01;32mfoo.txt\u001b[0m*\n"
     ]
    }
   ],
   "source": [
    "ls -l foo.txt"
   ]
  },
  {
   "cell_type": "code",
   "execution_count": 10,
   "metadata": {},
   "outputs": [],
   "source": [
    "! chmod a-x foo.txt"
   ]
  },
  {
   "cell_type": "code",
   "execution_count": 11,
   "metadata": {},
   "outputs": [
    {
     "name": "stdout",
     "output_type": "stream",
     "text": [
      "-rw-rw-rw- 1 kali kali 0 Feb  9 13:15 foo.txt\n"
     ]
    }
   ],
   "source": [
    "ls -l foo.txt"
   ]
  },
  {
   "cell_type": "code",
   "execution_count": 12,
   "metadata": {},
   "outputs": [],
   "source": [
    "! chmod a-w foo.txt"
   ]
  },
  {
   "cell_type": "code",
   "execution_count": 13,
   "metadata": {},
   "outputs": [
    {
     "name": "stdout",
     "output_type": "stream",
     "text": [
      "-r--r--r-- 1 kali kali 0 Feb  9 13:15 foo.txt\n"
     ]
    }
   ],
   "source": [
    "ls -l foo.txt"
   ]
  },
  {
   "cell_type": "code",
   "execution_count": 14,
   "metadata": {},
   "outputs": [],
   "source": [
    "# add rwx for owner\n",
    "! chmod u+rwx foo.txt"
   ]
  },
  {
   "cell_type": "code",
   "execution_count": 15,
   "metadata": {},
   "outputs": [
    {
     "name": "stdout",
     "output_type": "stream",
     "text": [
      "-rwxr--r-- 1 kali kali 0 Feb  9 13:15 foo.txt\n"
     ]
    }
   ],
   "source": [
    "! ls -l foo.txt"
   ]
  },
  {
   "cell_type": "code",
   "execution_count": 16,
   "metadata": {},
   "outputs": [],
   "source": [
    "# remove rwx for other\n",
    "! chmod o-rwx foo.txt"
   ]
  },
  {
   "cell_type": "code",
   "execution_count": 17,
   "metadata": {},
   "outputs": [
    {
     "name": "stdout",
     "output_type": "stream",
     "text": [
      "-rwxr----- 1 kali kali 0 Feb  9 13:15 \u001b[0m\u001b[01;32mfoo.txt\u001b[0m*\n"
     ]
    }
   ],
   "source": [
    "ls -l foo.txt"
   ]
  },
  {
   "cell_type": "markdown",
   "metadata": {},
   "source": [
    "### switch user to root\n",
    "\n",
    "```bash\n",
    "sudo -s\n",
    "exit\n",
    "```\n",
    "- gives you root access but maintains your current SHELL"
   ]
  },
  {
   "cell_type": "markdown",
   "metadata": {},
   "source": [
    "### do as superuser\n",
    "- sudo apt update; upgrade\n",
    "- sudo apt install"
   ]
  },
  {
   "cell_type": "markdown",
   "metadata": {},
   "source": [
    "## change file owner and group\n",
    "```bash\n",
    "chown [owner]:[group] file...\n",
    "```"
   ]
  },
  {
   "cell_type": "code",
   "execution_count": 20,
   "metadata": {},
   "outputs": [
    {
     "name": "stdout",
     "output_type": "stream",
     "text": [
      "-rwxr----- 1 kali kali 0 Feb  9 13:15 \u001b[0m\u001b[01;32mfoo.txt\u001b[0m*\n"
     ]
    }
   ],
   "source": [
    "ls -l foo.txt"
   ]
  },
  {
   "cell_type": "code",
   "execution_count": 21,
   "metadata": {},
   "outputs": [
    {
     "name": "stdout",
     "output_type": "stream",
     "text": [
      "chown: changing ownership of 'foo.txt': Operation not permitted\n"
     ]
    }
   ],
   "source": [
    "! chown user:user foo.txt"
   ]
  },
  {
   "cell_type": "code",
   "execution_count": 22,
   "metadata": {},
   "outputs": [
    {
     "name": "stdout",
     "output_type": "stream",
     "text": [
      "[sudo] password for kali: "
     ]
    }
   ],
   "source": [
    "! echo kali | sudo -S chown user:user foo.txt"
   ]
  },
  {
   "cell_type": "code",
   "execution_count": 23,
   "metadata": {},
   "outputs": [
    {
     "name": "stdout",
     "output_type": "stream",
     "text": [
      "-rwxr----- 1 user user 0 Feb  9 13:15 \u001b[0m\u001b[01;32mfoo.txt\u001b[0m*\n"
     ]
    }
   ],
   "source": [
    "ls -l foo.txt"
   ]
  },
  {
   "cell_type": "markdown",
   "metadata": {},
   "source": [
    "### Working with group\n",
    "- https://www.ibm.com/support/knowledgecenter/SSFKSJ_9.1.0/com.ibm.mq.sec.doc/q011110_.htm\n",
    "\n",
    "#### add a new group\n",
    "- needs sudo priviledge\n",
    "```bash\n",
    "sudo addgroup name\n",
    "```"
   ]
  },
  {
   "cell_type": "code",
   "execution_count": 6,
   "metadata": {},
   "outputs": [
    {
     "name": "stdout",
     "output_type": "stream",
     "text": [
      "[sudo] password for kali: Adding group `cyber' (GID 1004) ...\n",
      "Done.\n"
     ]
    }
   ],
   "source": [
    "# add a group name cyber\n",
    "! echo kali | sudo -S addgroup cyber"
   ]
  },
  {
   "cell_type": "code",
   "execution_count": 7,
   "metadata": {},
   "outputs": [
    {
     "name": "stdout",
     "output_type": "stream",
     "text": [
      "root:x:0:\n",
      "daemon:x:1:\n",
      "bin:x:2:\n",
      "sys:x:3:\n",
      "adm:x:4:\n",
      "tty:x:5:\n",
      "disk:x:6:\n",
      "lp:x:7:\n",
      "mail:x:8:\n",
      "news:x:9:\n",
      "uucp:x:10:\n",
      "man:x:12:\n",
      "proxy:x:13:\n",
      "kmem:x:15:\n",
      "dialout:x:20:\n",
      "fax:x:21:\n",
      "voice:x:22:\n",
      "cdrom:x:24:kali\n",
      "floppy:x:25:kali\n",
      "tape:x:26:\n",
      "sudo:x:27:kali,user\n",
      "audio:x:29:pulse,kali\n",
      "dip:x:30:kali\n",
      "www-data:x:33:\n",
      "backup:x:34:\n",
      "operator:x:37:\n",
      "list:x:38:\n",
      "irc:x:39:\n",
      "src:x:40:\n",
      "gnats:x:41:\n",
      "shadow:x:42:\n",
      "utmp:x:43:telnetd\n",
      "video:x:44:kali\n",
      "sasl:x:45:\n",
      "plugdev:x:46:kali\n",
      "staff:x:50:\n",
      "games:x:60:\n",
      "users:x:100:\n",
      "nogroup:x:65534:\n",
      "systemd-timesync:x:101:\n",
      "systemd-journal:x:102:\n",
      "systemd-network:x:103:\n",
      "systemd-resolve:x:104:\n",
      "input:x:105:\n",
      "kvm:x:106:\n",
      "render:x:107:\n",
      "crontab:x:108:\n",
      "netdev:x:109:kali\n",
      "mysql:x:110:\n",
      "tss:x:111:\n",
      "ntp:x:112:\n",
      "messagebus:x:113:\n",
      "redsocks:x:114:\n",
      "kismet:x:115:\n",
      "mlocate:x:116:\n",
      "bluetooth:x:118:kali\n",
      "ssl-cert:x:119:postgres\n",
      "tcpdump:x:120:\n",
      "rtkit:x:121:\n",
      "kali-trusted:x:122:\n",
      "postgres:x:123:\n",
      "i2c:x:124:\n",
      "avahi:x:125:\n",
      "stunnel4:x:126:\n",
      "Debian-snmp:x:127:\n",
      "sslh:x:128:\n",
      "nm-openvpn:x:129:\n",
      "nm-openconnect:x:130:\n",
      "pulse:x:131:\n",
      "pulse-access:x:132:\n",
      "scanner:x:133:saned,kali\n",
      "saned:x:134:\n",
      "sambashare:x:135:\n",
      "inetsim:x:136:\n",
      "colord:x:137:\n",
      "geoclue:x:138:\n",
      "lightdm:x:139:\n",
      "kpadmins:x:140:\n",
      "kali:x:1000:\n",
      "kaboxer:x:141:kali,root\n",
      "systemd-coredump:x:999:\n",
      "user:x:1001:\n",
      "rdma:x:142:\n",
      "nxpgsql:x:1002:\n",
      "ftp:x:143:\n",
      "ftp-user:x:1003:\n",
      "telnetd:x:144:\n",
      "docker:x:145:kali\n",
      "_ssh:x:117:\n",
      "sgx:x:146:\n",
      "plocate:x:147:\n",
      "Debian-exim:x:148:\n",
      "cyber:x:1004:\n"
     ]
    }
   ],
   "source": [
    "! cat /etc/group"
   ]
  },
  {
   "cell_type": "code",
   "execution_count": 11,
   "metadata": {},
   "outputs": [],
   "source": [
    "# display members of a group\n",
    "# getentry from database/nameservice group\n",
    "! getent group cyber"
   ]
  },
  {
   "cell_type": "code",
   "execution_count": 4,
   "metadata": {},
   "outputs": [
    {
     "name": "stdout",
     "output_type": "stream",
     "text": [
      "user:x:1001:1001:user user,,,:/home/user:/bin/bash\n"
     ]
    }
   ],
   "source": [
    "# get entry from passwd database\n",
    "! getent passwd user"
   ]
  },
  {
   "cell_type": "code",
   "execution_count": 10,
   "metadata": {},
   "outputs": [
    {
     "name": "stdout",
     "output_type": "stream",
     "text": [
      "[sudo] password for kali: Removing group `cyber' ...\n",
      "Done.\n"
     ]
    }
   ],
   "source": [
    "! echo kali | sudo -S delgroup cyber"
   ]
  },
  {
   "cell_type": "markdown",
   "metadata": {},
   "source": [
    "### add user to a group\n",
    "```bash\n",
    "sudo usermod -G group1,group2,... user\n",
    "```"
   ]
  },
  {
   "cell_type": "code",
   "execution_count": 28,
   "metadata": {},
   "outputs": [
    {
     "name": "stdout",
     "output_type": "stream",
     "text": [
      "usermod: Permission denied.\n",
      "usermod: cannot lock /etc/passwd; try again later.\n"
     ]
    }
   ],
   "source": [
    "! usermod -aG cyber user"
   ]
  },
  {
   "cell_type": "code",
   "execution_count": 38,
   "metadata": {},
   "outputs": [
    {
     "name": "stdout",
     "output_type": "stream",
     "text": [
      "[sudo] password for kali: "
     ]
    }
   ],
   "source": [
    "! echo kali | sudo -S usermod -aG cyber user"
   ]
  },
  {
   "cell_type": "code",
   "execution_count": 5,
   "metadata": {},
   "outputs": [
    {
     "name": "stdout",
     "output_type": "stream",
     "text": [
      "[sudo] password for kali: usermod: group 'cyber' does not exist\n"
     ]
    }
   ],
   "source": [
    "# user must exist\n",
    "! echo kali | sudo -S usermod -aG cyber user"
   ]
  },
  {
   "cell_type": "code",
   "execution_count": 43,
   "metadata": {},
   "outputs": [
    {
     "name": "stdout",
     "output_type": "stream",
     "text": [
      "uid=1001(user) gid=1001(user) groups=1001(user),27(sudo),1003(cyber)\n"
     ]
    }
   ],
   "source": [
    "! id user"
   ]
  },
  {
   "cell_type": "code",
   "execution_count": 44,
   "metadata": {},
   "outputs": [
    {
     "name": "stdout",
     "output_type": "stream",
     "text": [
      "[sudo] password for kali: "
     ]
    }
   ],
   "source": [
    "# remove user from a group cyber and add it to sudo\n",
    "# comma separated groupname without space to add user to group\n",
    "! echo kali | sudo -S usermod -aG sudo user"
   ]
  },
  {
   "cell_type": "code",
   "execution_count": 45,
   "metadata": {},
   "outputs": [
    {
     "name": "stdout",
     "output_type": "stream",
     "text": [
      "uid=1001(user) gid=1001(user) groups=1001(user),27(sudo),1003(cyber)\n"
     ]
    }
   ],
   "source": [
    "! id user"
   ]
  },
  {
   "cell_type": "code",
   "execution_count": 46,
   "metadata": {},
   "outputs": [
    {
     "name": "stdout",
     "output_type": "stream",
     "text": [
      "sudo:x:27:kali,user\n"
     ]
    }
   ],
   "source": [
    "! getent group sudo"
   ]
  },
  {
   "cell_type": "markdown",
   "metadata": {},
   "source": [
    "### remove user from a group\n",
    "```bash\n",
    "sudo deluser user group\n",
    "```"
   ]
  },
  {
   "cell_type": "code",
   "execution_count": 35,
   "metadata": {},
   "outputs": [
    {
     "name": "stdout",
     "output_type": "stream",
     "text": [
      "/usr/sbin/deluser: Only root may remove a user or group from the system.\n"
     ]
    }
   ],
   "source": [
    "! deluser user cyber"
   ]
  },
  {
   "cell_type": "code",
   "execution_count": 47,
   "metadata": {},
   "outputs": [
    {
     "name": "stdout",
     "output_type": "stream",
     "text": [
      "[sudo] password for kali: Removing user `user' from group `cyber' ...\n",
      "Done.\n"
     ]
    }
   ],
   "source": [
    "! echo kali | sudo -S deluser user cyber"
   ]
  },
  {
   "cell_type": "code",
   "execution_count": 48,
   "metadata": {},
   "outputs": [
    {
     "name": "stdout",
     "output_type": "stream",
     "text": [
      "cyber:x:1003:\n"
     ]
    }
   ],
   "source": [
    "! getent group cyber #now no user is in cybergroup"
   ]
  },
  {
   "cell_type": "code",
   "execution_count": 49,
   "metadata": {},
   "outputs": [
    {
     "name": "stdout",
     "output_type": "stream",
     "text": [
      "user:x:1001:1001:user user,,,:/home/user:/bin/bash\n"
     ]
    }
   ],
   "source": [
    "! getent passwd user # user user still exist"
   ]
  },
  {
   "cell_type": "markdown",
   "metadata": {},
   "source": [
    "### delete a group\n",
    "```bash\n",
    "sudo delgroup name\n",
    "```"
   ]
  },
  {
   "cell_type": "code",
   "execution_count": 50,
   "metadata": {},
   "outputs": [
    {
     "name": "stdout",
     "output_type": "stream",
     "text": [
      "/usr/sbin/delgroup: Only root may remove a user or group from the system.\n"
     ]
    }
   ],
   "source": [
    "# remove group\n",
    "! delgroup cyber"
   ]
  },
  {
   "cell_type": "code",
   "execution_count": 51,
   "metadata": {},
   "outputs": [
    {
     "name": "stdout",
     "output_type": "stream",
     "text": [
      "[sudo] password for kali: Removing group `cyber' ...\n",
      "Done.\n"
     ]
    }
   ],
   "source": [
    "! echo kali | sudo -S delgroup cyber"
   ]
  },
  {
   "cell_type": "code",
   "execution_count": 52,
   "metadata": {},
   "outputs": [],
   "source": [
    "! getent group cyber # should return empty/nothing"
   ]
  },
  {
   "cell_type": "code",
   "execution_count": 53,
   "metadata": {},
   "outputs": [
    {
     "name": "stdout",
     "output_type": "stream",
     "text": [
      "uid=1001(user) gid=1001(user) groups=1001(user),27(sudo)\n"
     ]
    }
   ],
   "source": [
    "! id user"
   ]
  },
  {
   "cell_type": "code",
   "execution_count": null,
   "metadata": {},
   "outputs": [],
   "source": []
  }
 ],
 "metadata": {
  "kernelspec": {
   "display_name": "Python 3",
   "language": "python",
   "name": "python3"
  },
  "language_info": {
   "codemirror_mode": {
    "name": "ipython",
    "version": 3
   },
   "file_extension": ".py",
   "mimetype": "text/x-python",
   "name": "python",
   "nbconvert_exporter": "python",
   "pygments_lexer": "ipython3",
   "version": "3.8.10"
  }
 },
 "nbformat": 4,
 "nbformat_minor": 4
}
