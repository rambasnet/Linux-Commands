{
 "cells": [
  {
   "cell_type": "markdown",
   "metadata": {},
   "source": [
    "# User Management & Environment Variables\n",
    "- needs sudo priviledge to manage users\n",
    "\n",
    "## add a user\n",
    "- adduser is intearactive; so do it in a terminal\n",
    "```bash\n",
    "sudo adduser username\n",
    "```\n",
    "- sudo adduser jose\n",
    "- sudo adduser user1"
   ]
  },
  {
   "cell_type": "markdown",
   "metadata": {},
   "source": [
    "! getent passwd jose"
   ]
  },
  {
   "cell_type": "code",
   "execution_count": 4,
   "metadata": {},
   "outputs": [
    {
     "name": "stdout",
     "output_type": "stream",
     "text": [
      "\u001b[0m\u001b[01;34mjose\u001b[0m/  \u001b[01;34muser\u001b[0m/\r\n"
     ]
    }
   ],
   "source": [
    "ls /home"
   ]
  },
  {
   "cell_type": "code",
   "execution_count": 6,
   "metadata": {},
   "outputs": [
    {
     "name": "stdout",
     "output_type": "stream",
     "text": [
      "Login: jose           \t\t\tName: jose\r\n",
      "Directory: /home/jose               \tShell: /bin/bash\r\n",
      "Office: 123, 1\r\n",
      "Never logged in.\r\n",
      "No mail.\r\n",
      "No Plan.\r\n"
     ]
    }
   ],
   "source": [
    "! finger jose"
   ]
  },
  {
   "cell_type": "markdown",
   "metadata": {},
   "source": [
    "### modify user account settings\n",
    "```bash\n",
    "sudo usermod options username\n",
    "```"
   ]
  },
  {
   "cell_type": "code",
   "execution_count": 5,
   "metadata": {},
   "outputs": [
    {
     "name": "stdout",
     "output_type": "stream",
     "text": [
      "Usage: usermod [options] LOGIN\r\n",
      "\r\n",
      "Options:\r\n",
      "  -c, --comment COMMENT         new value of the GECOS field\r\n",
      "  -d, --home HOME_DIR           new home directory for the user account\r\n",
      "  -e, --expiredate EXPIRE_DATE  set account expiration date to EXPIRE_DATE\r\n",
      "  -f, --inactive INACTIVE       set password inactive after expiration\r\n",
      "                                to INACTIVE\r\n",
      "  -g, --gid GROUP               force use GROUP as new primary group\r\n",
      "  -G, --groups GROUPS           new list of supplementary GROUPS\r\n",
      "  -a, --append                  append the user to the supplemental GROUPS\r\n",
      "                                mentioned by the -G option without removing\r\n",
      "                                the user from other groups\r\n",
      "  -h, --help                    display this help message and exit\r\n",
      "  -l, --login NEW_LOGIN         new value of the login name\r\n",
      "  -L, --lock                    lock the user account\r\n",
      "  -m, --move-home               move contents of the home directory to the\r\n",
      "                                new location (use only with -d)\r\n",
      "  -o, --non-unique              allow using duplicate (non-unique) UID\r\n",
      "  -p, --password PASSWORD       use encrypted password for the new password\r\n",
      "  -R, --root CHROOT_DIR         directory to chroot into\r\n",
      "  -P, --prefix PREFIX_DIR       prefix directory where are located the /etc/* files\r\n",
      "  -s, --shell SHELL             new login shell for the user account\r\n",
      "  -u, --uid UID                 new UID for the user account\r\n",
      "  -U, --unlock                  unlock the user account\r\n",
      "  -v, --add-subuids FIRST-LAST  add range of subordinate uids\r\n",
      "  -V, --del-subuids FIRST-LAST  remove range of subordinate uids\r\n",
      "  -w, --add-subgids FIRST-LAST  add range of subordinate gids\r\n",
      "  -W, --del-subgids FIRST-LAST  remove range of subordinate gids\r\n",
      "  -Z, --selinux-user SEUSER     new SELinux user mapping for the user account\r\n",
      "\r\n"
     ]
    }
   ],
   "source": [
    "! usermod -h"
   ]
  },
  {
   "cell_type": "markdown",
   "metadata": {},
   "source": [
    "### delete a user\n",
    "```bash\n",
    "sudo userdel -r usename\n",
    "```"
   ]
  },
  {
   "cell_type": "code",
   "execution_count": 8,
   "metadata": {},
   "outputs": [
    {
     "name": "stdout",
     "output_type": "stream",
     "text": [
      "userdel: jose mail spool (/var/mail/jose) not found\r\n"
     ]
    }
   ],
   "source": [
    "! userdel -r jose"
   ]
  },
  {
   "cell_type": "code",
   "execution_count": 9,
   "metadata": {},
   "outputs": [
    {
     "name": "stdout",
     "output_type": "stream",
     "text": [
      "\u001b[0m\u001b[01;34muser\u001b[0m/\r\n"
     ]
    }
   ],
   "source": [
    "ls /home"
   ]
  },
  {
   "cell_type": "markdown",
   "metadata": {},
   "source": [
    "## Setting up Environment Variables\n",
    "- can be set in many places depending on your needs\n",
    "1. System wide\n",
    "    1. /etc/environment\n",
    "    2. /etc/profile\n",
    "2. User specific\n",
    "    1. ~/.profile\n",
    "    2. ~/.bashrc"
   ]
  },
  {
   "cell_type": "code",
   "execution_count": 11,
   "metadata": {},
   "outputs": [],
   "source": [
    "! cat /etc/environment # empty"
   ]
  },
  {
   "cell_type": "code",
   "execution_count": 12,
   "metadata": {},
   "outputs": [
    {
     "name": "stdout",
     "output_type": "stream",
     "text": [
      "# /etc/profile: system-wide .profile file for the Bourne shell (sh(1))\r\n",
      "# and Bourne compatible shells (bash(1), ksh(1), ash(1), ...).\r\n",
      "\r\n",
      "if [ \"`id -u`\" -eq 0 ]; then\r\n",
      "  PATH=\"/usr/local/sbin:/usr/local/bin:/usr/sbin:/usr/bin:/sbin:/bin\"\r\n",
      "else\r\n",
      "  PATH=\"/usr/local/bin:/usr/bin:/bin:/usr/local/games:/usr/games\"\r\n",
      "fi\r\n",
      "export PATH\r\n",
      "\r\n",
      "if [ \"${PS1-}\" ]; then\r\n",
      "  if [ \"${BASH-}\" ] && [ \"$BASH\" != \"/bin/sh\" ]; then\r\n",
      "    # The file bash.bashrc already sets the default PS1.\r\n",
      "    # PS1='\\h:\\w\\$ '\r\n",
      "    if [ -f /etc/bash.bashrc ]; then\r\n",
      "      . /etc/bash.bashrc\r\n",
      "    fi\r\n",
      "  else\r\n",
      "    if [ \"`id -u`\" -eq 0 ]; then\r\n",
      "      PS1='# '\r\n",
      "    else\r\n",
      "      PS1='$ '\r\n",
      "    fi\r\n",
      "  fi\r\n",
      "fi\r\n",
      "\r\n",
      "if [ -d /etc/profile.d ]; then\r\n",
      "  for i in /etc/profile.d/*.sh; do\r\n",
      "    if [ -r $i ]; then\r\n",
      "      . $i\r\n",
      "    fi\r\n",
      "  done\r\n",
      "  unset i\r\n",
      "fi\r\n"
     ]
    }
   ],
   "source": [
    "! cat /etc/profile"
   ]
  },
  {
   "cell_type": "code",
   "execution_count": 13,
   "metadata": {},
   "outputs": [
    {
     "name": "stdout",
     "output_type": "stream",
     "text": [
      "# ~/.profile: executed by Bourne-compatible login shells.\r\n",
      "\r\n",
      "if [ \"$BASH\" ]; then\r\n",
      "  if [ -f ~/.bashrc ]; then\r\n",
      "    . ~/.bashrc\r\n",
      "  fi\r\n",
      "fi\r\n",
      "\r\n",
      "mesg n || true\r\n"
     ]
    }
   ],
   "source": [
    "! cat ~/.profile"
   ]
  },
  {
   "cell_type": "code",
   "execution_count": 14,
   "metadata": {},
   "outputs": [
    {
     "name": "stdout",
     "output_type": "stream",
     "text": [
      "# ~/.bashrc: executed by bash(1) for non-login shells.\r\n",
      "# see /usr/share/doc/bash/examples/startup-files (in the package bash-doc)\r\n",
      "# for examples\r\n",
      "\r\n",
      "# If not running interactively, don't do anything\r\n",
      "case $- in\r\n",
      "    *i*) ;;\r\n",
      "      *) return;;\r\n",
      "esac\r\n",
      "\r\n",
      "# don't put duplicate lines or lines starting with space in the history.\r\n",
      "# See bash(1) for more options\r\n",
      "HISTCONTROL=ignoreboth\r\n",
      "\r\n",
      "# append to the history file, don't overwrite it\r\n",
      "shopt -s histappend\r\n",
      "\r\n",
      "# for setting history length see HISTSIZE and HISTFILESIZE in bash(1)\r\n",
      "HISTSIZE=1000\r\n",
      "HISTFILESIZE=2000\r\n",
      "\r\n",
      "# check the window size after each command and, if necessary,\r\n",
      "# update the values of LINES and COLUMNS.\r\n",
      "shopt -s checkwinsize\r\n",
      "\r\n",
      "# If set, the pattern \"**\" used in a pathname expansion context will\r\n",
      "# match all files and zero or more directories and subdirectories.\r\n",
      "#shopt -s globstar\r\n",
      "\r\n",
      "# make less more friendly for non-text input files, see lesspipe(1)\r\n",
      "#[ -x /usr/bin/lesspipe ] && eval \"$(SHELL=/bin/sh lesspipe)\"\r\n",
      "\r\n",
      "# set variable identifying the chroot you work in (used in the prompt below)\r\n",
      "if [ -z \"${debian_chroot:-}\" ] && [ -r /etc/debian_chroot ]; then\r\n",
      "    debian_chroot=$(cat /etc/debian_chroot)\r\n",
      "fi\r\n",
      "\r\n",
      "# set a fancy prompt (non-color, unless we know we \"want\" color)\r\n",
      "case \"$TERM\" in\r\n",
      "    xterm-color) color_prompt=yes;;\r\n",
      "esac\r\n",
      "\r\n",
      "# uncomment for a colored prompt, if the terminal has the capability; turned\r\n",
      "# off by default to not distract the user: the focus in a terminal window\r\n",
      "# should be on the output of commands, not on the prompt\r\n",
      "force_color_prompt=yes\r\n",
      "\r\n",
      "if [ -n \"$force_color_prompt\" ]; then\r\n",
      "    if [ -x /usr/bin/tput ] && tput setaf 1 >&/dev/null; then\r\n",
      "\t# We have color support; assume it's compliant with Ecma-48\r\n",
      "\t# (ISO/IEC-6429). (Lack of such support is extremely rare, and such\r\n",
      "\t# a case would tend to support setf rather than setaf.)\r\n",
      "\tcolor_prompt=yes\r\n",
      "    else\r\n",
      "\tcolor_prompt=\r\n",
      "    fi\r\n",
      "fi\r\n",
      "\r\n",
      "if [ \"$color_prompt\" = yes ]; then\r\n",
      "    PS1='${debian_chroot:+($debian_chroot)}\\[\\033[01;31m\\]\\u@\\h\\[\\033[00m\\]:\\[\\033[01;34m\\]\\w\\[\\033[00m\\]\\$ '\r\n",
      "else\r\n",
      "    PS1='${debian_chroot:+($debian_chroot)}\\u@\\h:\\w\\$ '\r\n",
      "fi\r\n",
      "unset color_prompt force_color_prompt\r\n",
      "\r\n",
      "# If this is an xterm set the title to user@host:dir\r\n",
      "case \"$TERM\" in\r\n",
      "xterm*|rxvt*)\r\n",
      "    PS1=\"\\[\\e]0;${debian_chroot:+($debian_chroot)}\\u@\\h: \\w\\a\\]$PS1\"\r\n",
      "    ;;\r\n",
      "*)\r\n",
      "    ;;\r\n",
      "esac\r\n",
      "\r\n",
      "# enable color support of ls and also add handy aliases\r\n",
      "if [ -x /usr/bin/dircolors ]; then\r\n",
      "    test -r ~/.dircolors && eval \"$(dircolors -b ~/.dircolors)\" || eval \"$(dircolors -b)\"\r\n",
      "    alias ls='ls --color=auto'\r\n",
      "    #alias dir='dir --color=auto'\r\n",
      "    #alias vdir='vdir --color=auto'\r\n",
      "\r\n",
      "    #alias grep='grep --color=auto'\r\n",
      "    #alias fgrep='fgrep --color=auto'\r\n",
      "    #alias egrep='egrep --color=auto'\r\n",
      "fi\r\n",
      "\r\n",
      "# some more ls aliases\r\n",
      "#alias ll='ls -l'\r\n",
      "#alias la='ls -A'\r\n",
      "#alias l='ls -CF'\r\n",
      "\r\n",
      "# Alias definitions.\r\n",
      "# You may want to put all your additions into a separate file like\r\n",
      "# ~/.bash_aliases, instead of adding them here directly.\r\n",
      "# See /usr/share/doc/bash-doc/examples in the bash-doc package.\r\n",
      "\r\n",
      "if [ -f ~/.bash_aliases ]; then\r\n",
      "    . ~/.bash_aliases\r\n",
      "fi\r\n",
      "\r\n",
      "# enable programmable completion features (you don't need to enable\r\n",
      "# this, if it's already enabled in /etc/bash.bashrc and /etc/profile\r\n",
      "# sources /etc/bash.bashrc).\r\n",
      "if ! shopt -oq posix; then\r\n",
      "  if [ -f /usr/share/bash-completion/bash_completion ]; then\r\n",
      "    . /usr/share/bash-completion/bash_completion\r\n",
      "  elif [ -f /etc/bash_completion ]; then\r\n",
      "    . /etc/bash_completion\r\n",
      "  fi\r\n",
      "fi\r\n",
      "# added by Miniconda3 4.5.12 installer\r\n",
      "# >>> conda init >>>\r\n",
      "# !! Contents within this block are managed by 'conda init' !!\r\n",
      "__conda_setup=\"$(CONDA_REPORT_ERRORS=false '/root/miniconda3/bin/conda' shell.bash hook 2> /dev/null)\"\r\n",
      "if [ $? -eq 0 ]; then\r\n",
      "    \\eval \"$__conda_setup\"\r\n",
      "else\r\n",
      "    if [ -f \"/root/miniconda3/etc/profile.d/conda.sh\" ]; then\r\n",
      "        . \"/root/miniconda3/etc/profile.d/conda.sh\"\r\n",
      "        CONDA_CHANGEPS1=false conda activate base\r\n",
      "    else\r\n",
      "        \\export PATH=\"/root/miniconda3/bin:$PATH\"\r\n",
      "    fi\r\n",
      "fi\r\n",
      "unset __conda_setup\r\n",
      "# <<< conda init <<<\r\n"
     ]
    }
   ],
   "source": [
    "! cat ~/.bashrc"
   ]
  },
  {
   "cell_type": "markdown",
   "metadata": {},
   "source": [
    "### .bashrc\n",
    "- modify ~/.bashrc to change the bash profile settings\n",
    "- must reopen the terminal for the changes to take effect\n",
    "- OR run: source ~/.bashrc"
   ]
  },
  {
   "cell_type": "markdown",
   "metadata": {},
   "source": [
    "### Types of Environment Variables\n",
    "- two types: envirnoment and shell\n",
    "- Notebook can't set shell variables; RUN on terminal\n",
    "- set a shell variable\n",
    "```bash\n",
    "VAR=\" VALUE .... \"\n",
    "```\n",
    "- converting shell variable into temp env variable\n",
    "```bash\n",
    "export VAR\n",
    "```\n",
    "\n",
    "- access a shell/env variable\n",
    "```bash\n",
    "$VAR\n",
    "```\n",
    "\n"
   ]
  },
  {
   "cell_type": "code",
   "execution_count": 21,
   "metadata": {},
   "outputs": [],
   "source": [
    "! TEST=\"Linux Shell Environment\""
   ]
  },
  {
   "cell_type": "code",
   "execution_count": 23,
   "metadata": {},
   "outputs": [],
   "source": [
    "! $TEST"
   ]
  },
  {
   "cell_type": "code",
   "execution_count": 27,
   "metadata": {},
   "outputs": [
    {
     "name": "stdout",
     "output_type": "stream",
     "text": [
      "/root/miniconda3/bin:/usr/local/sbin:/usr/local/bin:/usr/sbin:/usr/bin:/sbin:/bin\r\n"
     ]
    }
   ],
   "source": [
    "# display env variables\n",
    "# Path is where shell looks for commands\n",
    "! echo $PATH"
   ]
  },
  {
   "cell_type": "code",
   "execution_count": 26,
   "metadata": {},
   "outputs": [
    {
     "name": "stdout",
     "output_type": "stream",
     "text": [
      "GJS_DEBUG_TOPICS=JS ERROR;JS LOG\r\n",
      "CONDA_PROMPT_MODIFIER=\r\n",
      "USER=root\r\n",
      "XDG_SEAT=seat0\r\n",
      "MPLBACKEND=module://ipykernel.pylab.backend_inline\r\n",
      "SSH_AGENT_PID=1261\r\n",
      "XDG_SESSION_TYPE=x11\r\n",
      "SHLVL=1\r\n",
      "HOME=/root\r\n",
      "CONDA_SHLVL=1\r\n",
      "OLDPWD=/root/Documents\r\n",
      "DESKTOP_SESSION=gnome\r\n",
      "GIO_LAUNCHED_DESKTOP_FILE=/usr/share/applications/terminator.desktop\r\n",
      "GTK_MODULES=gail:atk-bridge\r\n",
      "PAGER=cat\r\n",
      "DBUS_SESSION_BUS_ADDRESS=unix:path=/run/user/0/bus\r\n",
      "COLORTERM=truecolor\r\n",
      "TERMINATOR_DBUS_NAME=net.tenshu.Terminator23558193cd9818af7fe4d2c2f5bd9d00f\r\n",
      "GIO_LAUNCHED_DESKTOP_FILE_PID=13812\r\n",
      "LOGNAME=root\r\n",
      "_=/root/miniconda3/bin/jupyter\r\n",
      "XDG_SESSION_CLASS=user\r\n",
      "USERNAME=root\r\n",
      "TERM=xterm-color\r\n",
      "XDG_SESSION_ID=2\r\n",
      "GNOME_DESKTOP_SESSION_ID=this-is-deprecated\r\n",
      "WINDOWPATH=2\r\n",
      "PATH=/root/miniconda3/bin:/usr/local/sbin:/usr/local/bin:/usr/sbin:/usr/bin:/sbin:/bin\r\n",
      "SESSION_MANAGER=local/kali:@/tmp/.ICE-unix/1209,unix/kali:/tmp/.ICE-unix/1209\r\n",
      "GDM_LANG=en_US.UTF-8\r\n",
      "XDG_MENU_PREFIX=gnome-\r\n",
      "XDG_RUNTIME_DIR=/run/user/0\r\n",
      "DISPLAY=:1\r\n",
      "TERMINATOR_DBUS_PATH=/net/tenshu/Terminator2\r\n",
      "LANG=en_US.UTF-8\r\n",
      "XDG_CURRENT_DESKTOP=GNOME\r\n",
      "XDG_SESSION_DESKTOP=gnome\r\n",
      "XAUTHORITY=/run/user/0/gdm/Xauthority\r\n",
      "LS_COLORS=rs=0:di=01;34:ln=01;36:mh=00:pi=40;33:so=01;35:do=01;35:bd=40;33;01:cd=40;33;01:or=40;31;01:mi=00:su=37;41:sg=30;43:ca=30;41:tw=30;42:ow=34;42:st=37;44:ex=01;32:*.tar=01;31:*.tgz=01;31:*.arc=01;31:*.arj=01;31:*.taz=01;31:*.lha=01;31:*.lz4=01;31:*.lzh=01;31:*.lzma=01;31:*.tlz=01;31:*.txz=01;31:*.tzo=01;31:*.t7z=01;31:*.zip=01;31:*.z=01;31:*.dz=01;31:*.gz=01;31:*.lrz=01;31:*.lz=01;31:*.lzo=01;31:*.xz=01;31:*.zst=01;31:*.tzst=01;31:*.bz2=01;31:*.bz=01;31:*.tbz=01;31:*.tbz2=01;31:*.tz=01;31:*.deb=01;31:*.rpm=01;31:*.jar=01;31:*.war=01;31:*.ear=01;31:*.sar=01;31:*.rar=01;31:*.alz=01;31:*.ace=01;31:*.zoo=01;31:*.cpio=01;31:*.7z=01;31:*.rz=01;31:*.cab=01;31:*.wim=01;31:*.swm=01;31:*.dwm=01;31:*.esd=01;31:*.jpg=01;35:*.jpeg=01;35:*.mjpg=01;35:*.mjpeg=01;35:*.gif=01;35:*.bmp=01;35:*.pbm=01;35:*.pgm=01;35:*.ppm=01;35:*.tga=01;35:*.xbm=01;35:*.xpm=01;35:*.tif=01;35:*.tiff=01;35:*.png=01;35:*.svg=01;35:*.svgz=01;35:*.mng=01;35:*.pcx=01;35:*.mov=01;35:*.mpg=01;35:*.mpeg=01;35:*.m2v=01;35:*.mkv=01;35:*.webm=01;35:*.ogm=01;35:*.mp4=01;35:*.m4v=01;35:*.mp4v=01;35:*.vob=01;35:*.qt=01;35:*.nuv=01;35:*.wmv=01;35:*.asf=01;35:*.rm=01;35:*.rmvb=01;35:*.flc=01;35:*.avi=01;35:*.fli=01;35:*.flv=01;35:*.gl=01;35:*.dl=01;35:*.xcf=01;35:*.xwd=01;35:*.yuv=01;35:*.cgm=01;35:*.emf=01;35:*.ogv=01;35:*.ogx=01;35:*.aac=00;36:*.au=00;36:*.flac=00;36:*.m4a=00;36:*.mid=00;36:*.midi=00;36:*.mka=00;36:*.mp3=00;36:*.mpc=00;36:*.ogg=00;36:*.ra=00;36:*.wav=00;36:*.oga=00;36:*.opus=00;36:*.spx=00;36:*.xspf=00;36:\r\n",
      "SSH_AUTH_SOCK=/run/user/0/keyring/ssh\r\n",
      "CONDA_PYTHON_EXE=/root/miniconda3/bin/python\r\n",
      "SHELL=/bin/bash\r\n",
      "TERMINATOR_UUID=urn:uuid:6bd23a6a-78e8-47fd-a119-62d6f78a72a7\r\n",
      "QT_ACCESSIBILITY=1\r\n",
      "GDMSESSION=gnome\r\n",
      "CONDA_DEFAULT_ENV=base\r\n",
      "GPG_AGENT_INFO=/run/user/0/gnupg/S.gpg-agent:0:1\r\n",
      "GJS_DEBUG_OUTPUT=stderr\r\n",
      "XDG_VTNR=2\r\n",
      "GIT_PAGER=cat\r\n",
      "PWD=/root/Documents/LinuxCommand-Notebooks\r\n",
      "CLICOLOR=1\r\n",
      "CONDA_EXE=/root/miniconda3/bin/conda\r\n",
      "XDG_DATA_DIRS=/usr/share/gnome:/usr/local/share/:/usr/share/\r\n",
      "JPY_PARENT_PID=14470\r\n",
      "CONDA_PREFIX=/root/miniconda3\r\n",
      "VTE_VERSION=5402\r\n"
     ]
    }
   ],
   "source": [
    "! printenv"
   ]
  },
  {
   "cell_type": "markdown",
   "metadata": {},
   "source": [
    "### update executable command path\n",
    "- permenantly change by updating PATH variable in .bashrc\n",
    "- temporarily update for current session\n",
    "```bash\n",
    "PATH=$PATH:MyPath/bin\n",
    "export PATH\n",
    "```"
   ]
  },
  {
   "cell_type": "code",
   "execution_count": null,
   "metadata": {},
   "outputs": [],
   "source": []
  }
 ],
 "metadata": {
  "kernelspec": {
   "display_name": "Python 3",
   "language": "python",
   "name": "python3"
  },
  "language_info": {
   "codemirror_mode": {
    "name": "ipython",
    "version": 3
   },
   "file_extension": ".py",
   "mimetype": "text/x-python",
   "name": "python",
   "nbconvert_exporter": "python",
   "pygments_lexer": "ipython3",
   "version": "3.7.1"
  }
 },
 "nbformat": 4,
 "nbformat_minor": 2
}
