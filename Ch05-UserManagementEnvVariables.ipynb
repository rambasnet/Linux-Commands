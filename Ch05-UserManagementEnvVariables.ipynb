{
 "cells": [
  {
   "cell_type": "markdown",
   "metadata": {},
   "source": [
    "# User Management & Environment Variables\n",
    "- need sudo priviledge to manage users\n",
    "\n",
    "## add a user\n",
    "- NOTE: adduser is intearactive; so do it in a terminal\n",
    "```bash\n",
    "sudo adduser username\n",
    "```\n",
    "\n",
    "- add users from terminal\n",
    "\n",
    "```bash\n",
    "sudo adduser jose\n",
    "sudo adduser user1\n",
    "```"
   ]
  },
  {
   "cell_type": "code",
   "execution_count": 2,
   "metadata": {},
   "outputs": [
    {
     "name": "stdout",
     "output_type": "stream",
     "text": [
      "user:x:1001:1001:user user,,,:/home/user:/bin/bash\n"
     ]
    }
   ],
   "source": [
    "! getent passwd user"
   ]
  },
  {
   "cell_type": "code",
   "execution_count": 3,
   "metadata": {},
   "outputs": [
    {
     "name": "stdout",
     "output_type": "stream",
     "text": [
      "\u001b[0m\u001b[01;34mkali\u001b[0m/  \u001b[01;34mtest\u001b[0m/  \u001b[01;34muser\u001b[0m/\n"
     ]
    }
   ],
   "source": [
    "ls /home"
   ]
  },
  {
   "cell_type": "code",
   "execution_count": 4,
   "metadata": {},
   "outputs": [
    {
     "name": "stdout",
     "output_type": "stream",
     "text": [
      "Login: user           \t\t\tName: user user\n",
      "Directory: /home/user               \tShell: /bin/bash\n",
      "Never logged in.\n",
      "No mail.\n",
      "No Plan.\n"
     ]
    }
   ],
   "source": [
    "! finger user"
   ]
  },
  {
   "cell_type": "markdown",
   "metadata": {},
   "source": [
    "### modify user account settings\n",
    "```bash\n",
    "sudo usermod options username\n",
    "```"
   ]
  },
  {
   "cell_type": "code",
   "execution_count": 5,
   "metadata": {},
   "outputs": [
    {
     "name": "stdout",
     "output_type": "stream",
     "text": [
      "Usage: usermod [options] LOGIN\n",
      "\n",
      "Options:\n",
      "  -c, --comment COMMENT         new value of the GECOS field\n",
      "  -d, --home HOME_DIR           new home directory for the user account\n",
      "  -e, --expiredate EXPIRE_DATE  set account expiration date to EXPIRE_DATE\n",
      "  -f, --inactive INACTIVE       set password inactive after expiration\n",
      "                                to INACTIVE\n",
      "  -g, --gid GROUP               force use GROUP as new primary group\n",
      "  -G, --groups GROUPS           new list of supplementary GROUPS\n",
      "  -a, --append                  append the user to the supplemental GROUPS\n",
      "                                mentioned by the -G option without removing\n",
      "                                the user from other groups\n",
      "  -h, --help                    display this help message and exit\n",
      "  -l, --login NEW_LOGIN         new value of the login name\n",
      "  -L, --lock                    lock the user account\n",
      "  -m, --move-home               move contents of the home directory to the\n",
      "                                new location (use only with -d)\n",
      "  -o, --non-unique              allow using duplicate (non-unique) UID\n",
      "  -p, --password PASSWORD       use encrypted password for the new password\n",
      "  -R, --root CHROOT_DIR         directory to chroot into\n",
      "  -P, --prefix PREFIX_DIR       prefix directory where are located the /etc/* files\n",
      "  -s, --shell SHELL             new login shell for the user account\n",
      "  -u, --uid UID                 new UID for the user account\n",
      "  -U, --unlock                  unlock the user account\n",
      "  -v, --add-subuids FIRST-LAST  add range of subordinate uids\n",
      "  -V, --del-subuids FIRST-LAST  remove range of subordinate uids\n",
      "  -w, --add-subgids FIRST-LAST  add range of subordinate gids\n",
      "  -W, --del-subgids FIRST-LAST  remove range of subordinate gids\n",
      "  -Z, --selinux-user SEUSER     new SELinux user mapping for the user account\n",
      "\n"
     ]
    }
   ],
   "source": [
    "! usermod -h"
   ]
  },
  {
   "cell_type": "markdown",
   "metadata": {},
   "source": [
    "### delete a user\n",
    "```bash\n",
    "sudo userdel -r usename\n",
    "```"
   ]
  },
  {
   "cell_type": "code",
   "execution_count": 5,
   "metadata": {},
   "outputs": [
    {
     "name": "stdout",
     "output_type": "stream",
     "text": [
      "[sudo] password for kali: userdel: test mail spool (/var/mail/test) not found\n"
     ]
    }
   ],
   "source": [
    "! echo kali | sudo -S userdel -r test"
   ]
  },
  {
   "cell_type": "code",
   "execution_count": 6,
   "metadata": {},
   "outputs": [
    {
     "name": "stdout",
     "output_type": "stream",
     "text": [
      "\u001b[0m\u001b[01;34mkali\u001b[0m/  \u001b[01;34muser\u001b[0m/\n"
     ]
    }
   ],
   "source": [
    "ls /home"
   ]
  },
  {
   "cell_type": "markdown",
   "metadata": {},
   "source": [
    "## Setting up Environment Variables\n",
    "- can be set in many places depending on your needs\n",
    "1. System wide\n",
    "    1. /etc/environment\n",
    "    2. /etc/profile\n",
    "2. User specific\n",
    "    1. ~/.profile\n",
    "    2. ~/.bashrc"
   ]
  },
  {
   "cell_type": "code",
   "execution_count": 1,
   "metadata": {},
   "outputs": [
    {
     "name": "stdout",
     "output_type": "stream",
     "text": [
      "# START KALI-DEFAULTS CONFIG\n",
      "# Everything from here and until STOP KALI-DEFAULTS CONFIG\n",
      "# was installed by the kali-defaults package, and it will\n",
      "# be removed if ever the kali-defaults package is removed.\n",
      "# If you want to disable a line, please do NOT remove it,\n",
      "# as it would be added back when kali-defaults is upgraded.\n",
      "# Instead, comment the line out, and your change will be\n",
      "# preserved across upgrades.\n",
      "PATH=/usr/local/sbin:/usr/local/bin:/usr/sbin:/usr/bin:/sbin:/bin:/usr/local/games:/usr/games\n",
      "COMMAND_NOT_FOUND_INSTALL_PROMPT=1\n",
      "POWERSHELL_TELEMETRY_OPTOUT=1\n",
      "POWERSHELL_UPDATECHECK=Off\n",
      "DOTNET_CLI_TELEMETRY_OPTOUT=1\n",
      "# STOP KALI-DEFAULTS CONFIG\n"
     ]
    }
   ],
   "source": [
    "! cat /etc/environment # empty"
   ]
  },
  {
   "cell_type": "code",
   "execution_count": 8,
   "metadata": {},
   "outputs": [
    {
     "name": "stdout",
     "output_type": "stream",
     "text": [
      "# /etc/profile: system-wide .profile file for the Bourne shell (sh(1))\n",
      "# and Bourne compatible shells (bash(1), ksh(1), ash(1), ...).\n",
      "\n",
      "if [ \"`id -u`\" -eq 0 ]; then\n",
      "  PATH=\"/usr/local/sbin:/usr/local/bin:/usr/sbin:/usr/bin:/sbin:/bin\"\n",
      "else\n",
      "  PATH=\"/usr/local/bin:/usr/bin:/bin:/usr/local/games:/usr/games\"\n",
      "fi\n",
      "export PATH\n",
      "\n",
      "if [ \"${PS1-}\" ]; then\n",
      "  if [ \"${BASH-}\" ] && [ \"$BASH\" != \"/bin/sh\" ]; then\n",
      "    # The file bash.bashrc already sets the default PS1.\n",
      "    # PS1='\\h:\\w\\$ '\n",
      "    if [ -f /etc/bash.bashrc ]; then\n",
      "      . /etc/bash.bashrc\n",
      "    fi\n",
      "  else\n",
      "    if [ \"`id -u`\" -eq 0 ]; then\n",
      "      PS1='# '\n",
      "    else\n",
      "      PS1='$ '\n",
      "    fi\n",
      "  fi\n",
      "fi\n",
      "\n",
      "if [ -d /etc/profile.d ]; then\n",
      "  for i in /etc/profile.d/*.sh; do\n",
      "    if [ -r $i ]; then\n",
      "      . $i\n",
      "    fi\n",
      "  done\n",
      "  unset i\n",
      "fi\n"
     ]
    }
   ],
   "source": [
    "! cat /etc/profile"
   ]
  },
  {
   "cell_type": "code",
   "execution_count": 9,
   "metadata": {},
   "outputs": [
    {
     "name": "stdout",
     "output_type": "stream",
     "text": [
      "# ~/.profile: executed by the command interpreter for login shells.\n",
      "# This file is not read by bash(1), if ~/.bash_profile or ~/.bash_login\n",
      "# exists.\n",
      "# see /usr/share/doc/bash/examples/startup-files for examples.\n",
      "# the files are located in the bash-doc package.\n",
      "\n",
      "# the default umask is set in /etc/profile; for setting the umask\n",
      "# for ssh logins, install and configure the libpam-umask package.\n",
      "#umask 022\n",
      "\n",
      "# if running bash\n",
      "if [ -n \"$BASH_VERSION\" ]; then\n",
      "    # include .bashrc if it exists\n",
      "    if [ -f \"$HOME/.bashrc\" ]; then\n",
      "\t. \"$HOME/.bashrc\"\n",
      "    fi\n",
      "fi\n",
      "\n",
      "# set PATH so it includes user's private bin if it exists\n",
      "if [ -d \"$HOME/bin\" ] ; then\n",
      "    PATH=\"$HOME/bin:$PATH\"\n",
      "fi\n",
      "\n",
      "# set PATH so it includes user's private bin if it exists\n",
      "if [ -d \"$HOME/.local/bin\" ] ; then\n",
      "    PATH=\"$HOME/.local/bin:$PATH\"\n",
      "fi\n"
     ]
    }
   ],
   "source": [
    "! cat ~/.profile"
   ]
  },
  {
   "cell_type": "code",
   "execution_count": 10,
   "metadata": {},
   "outputs": [
    {
     "name": "stdout",
     "output_type": "stream",
     "text": [
      "# ~/.bashrc: executed by bash(1) for non-login shells.\n",
      "# see /usr/share/doc/bash/examples/startup-files (in the package bash-doc)\n",
      "# for examples\n",
      "\n",
      "# If not running interactively, don't do anything\n",
      "case $- in\n",
      "    *i*) ;;\n",
      "      *) return;;\n",
      "esac\n",
      "\n",
      "# don't put duplicate lines or lines starting with space in the history.\n",
      "# See bash(1) for more options\n",
      "HISTCONTROL=ignoreboth\n",
      "\n",
      "# append to the history file, don't overwrite it\n",
      "shopt -s histappend\n",
      "\n",
      "# for setting history length see HISTSIZE and HISTFILESIZE in bash(1)\n",
      "HISTSIZE=1000\n",
      "HISTFILESIZE=2000\n",
      "\n",
      "# check the window size after each command and, if necessary,\n",
      "# update the values of LINES and COLUMNS.\n",
      "shopt -s checkwinsize\n",
      "\n",
      "# If set, the pattern \"**\" used in a pathname expansion context will\n",
      "# match all files and zero or more directories and subdirectories.\n",
      "#shopt -s globstar\n",
      "\n",
      "# make less more friendly for non-text input files, see lesspipe(1)\n",
      "#[ -x /usr/bin/lesspipe ] && eval \"$(SHELL=/bin/sh lesspipe)\"\n",
      "\n",
      "# set variable identifying the chroot you work in (used in the prompt below)\n",
      "if [ -z \"${debian_chroot:-}\" ] && [ -r /etc/debian_chroot ]; then\n",
      "    debian_chroot=$(cat /etc/debian_chroot)\n",
      "fi\n",
      "\n",
      "# set a fancy prompt (non-color, unless we know we \"want\" color)\n",
      "case \"$TERM\" in\n",
      "    xterm-color|*-256color) color_prompt=yes;;\n",
      "esac\n",
      "\n",
      "# uncomment for a colored prompt, if the terminal has the capability; turned\n",
      "# off by default to not distract the user: the focus in a terminal window\n",
      "# should be on the output of commands, not on the prompt\n",
      "force_color_prompt=yes\n",
      "\n",
      "if [ -n \"$force_color_prompt\" ]; then\n",
      "    if [ -x /usr/bin/tput ] && tput setaf 1 >&/dev/null; then\n",
      "\t# We have color support; assume it's compliant with Ecma-48\n",
      "\t# (ISO/IEC-6429). (Lack of such support is extremely rare, and such\n",
      "\t# a case would tend to support setf rather than setaf.)\n",
      "\tcolor_prompt=yes\n",
      "    else\n",
      "\tcolor_prompt=\n",
      "    fi\n",
      "fi\n",
      "\n",
      "if [ \"$color_prompt\" = yes ]; then\n",
      "    prompt_color='\\[\\033[;32m\\]'\n",
      "    info_color='\\[\\033[1;34m\\]'\n",
      "    prompt_symbol=㉿\n",
      "    if [ \"$EUID\" -eq 0 ]; then # Change prompt colors for root user\n",
      "\tprompt_color='\\[\\033[;94m\\]'\n",
      "\tinfo_color='\\[\\033[1;31m\\]'\n",
      "\tprompt_symbol=💀\n",
      "    fi\n",
      "    PS1=$prompt_color'┌──${debian_chroot:+($debian_chroot)──}('$info_color'\\u${prompt_symbol})-[\\[\\033[0;1m\\]\\w'$prompt_color']\\n'$prompt_color'└─'$info_color'\\$\\[\\033[0m\\] '\n",
      "    # BackTrack red prompt\n",
      "    #PS1='${debian_chroot:+($debian_chroot)}\\[\\033[01;31m\\]\\u@\\h\\[\\033[00m\\]:\\[\\033[01;34m\\]\\w\\[\\033[00m\\]\\$ '\n",
      "else\n",
      "    PS1='${debian_chroot:+($debian_chroot)}\\u@\\h:\\w\\$ '\n",
      "fi\n",
      "unset color_prompt force_color_prompt\n",
      "\n",
      "# If this is an xterm set the title to user@host:dir\n",
      "case \"$TERM\" in\n",
      "xterm*|rxvt*)\n",
      "    PS1=\"\\[\\e]0;${debian_chroot:+($debian_chroot)}\\u@\\h: \\w\\a\\]$PS1\"\n",
      "    ;;\n",
      "*)\n",
      "    ;;\n",
      "esac\n",
      "\n",
      "# enable color support of ls, less and man, and also add handy aliases\n",
      "if [ -x /usr/bin/dircolors ]; then\n",
      "    test -r ~/.dircolors && eval \"$(dircolors -b ~/.dircolors)\" || eval \"$(dircolors -b)\"\n",
      "    alias ls='ls --color=auto'\n",
      "    #alias dir='dir --color=auto'\n",
      "    #alias vdir='vdir --color=auto'\n",
      "\n",
      "    alias grep='grep --color=auto'\n",
      "    alias fgrep='fgrep --color=auto'\n",
      "    alias egrep='egrep --color=auto'\n",
      "    alias diff='diff --color=auto'\n",
      "    alias ip='ip --color=auto'\n",
      "\n",
      "    export LESS_TERMCAP_mb=$'\\E[1;31m'     # begin blink\n",
      "    export LESS_TERMCAP_md=$'\\E[1;36m'     # begin bold\n",
      "    export LESS_TERMCAP_me=$'\\E[0m'        # reset bold/blink\n",
      "    export LESS_TERMCAP_so=$'\\E[01;33m'    # begin reverse video\n",
      "    export LESS_TERMCAP_se=$'\\E[0m'        # reset reverse video\n",
      "    export LESS_TERMCAP_us=$'\\E[1;32m'     # begin underline\n",
      "    export LESS_TERMCAP_ue=$'\\E[0m'        # reset underline\n",
      "fi\n",
      "\n",
      "# colored GCC warnings and errors\n",
      "#export GCC_COLORS='error=01;31:warning=01;35:note=01;36:caret=01;32:locus=01:quote=01'\n",
      "\n",
      "# some more ls aliases\n",
      "alias ll='ls -l'\n",
      "alias la='ls -A'\n",
      "alias l='ls -CF'\n",
      "\n",
      "# Alias definitions.\n",
      "# You may want to put all your additions into a separate file like\n",
      "# ~/.bash_aliases, instead of adding them here directly.\n",
      "# See /usr/share/doc/bash-doc/examples in the bash-doc package.\n",
      "\n",
      "if [ -f ~/.bash_aliases ]; then\n",
      "    . ~/.bash_aliases\n",
      "fi\n",
      "\n",
      "# enable programmable completion features (you don't need to enable\n",
      "# this, if it's already enabled in /etc/bash.bashrc and /etc/profile\n",
      "# sources /etc/bash.bashrc).\n",
      "if ! shopt -oq posix; then\n",
      "  if [ -f /usr/share/bash-completion/bash_completion ]; then\n",
      "    . /usr/share/bash-completion/bash_completion\n",
      "  elif [ -f /etc/bash_completion ]; then\n",
      "    . /etc/bash_completion\n",
      "  fi\n",
      "fi\n"
     ]
    }
   ],
   "source": [
    "! cat ~/.bashrc"
   ]
  },
  {
   "cell_type": "markdown",
   "metadata": {},
   "source": [
    "### .bashrc\n",
    "- modify ~/.bashrc to change the bash profile settings\n",
    "- must reopen the terminal for the changes to take effect\n",
    "- OR run: source ~/.bashrc"
   ]
  },
  {
   "cell_type": "markdown",
   "metadata": {},
   "source": [
    "### Types of Environment Variables\n",
    "- two types: envirnoment and shell\n",
    "- Notebook can't set shell variables; RUN on terminal\n",
    "- set a shell variable\n",
    "```bash\n",
    "VAR=\"VALUE .... \"\n",
    "```\n",
    "- converting shell variable into temp env variable\n",
    "```bash\n",
    "export VAR\n",
    "```\n",
    "\n",
    "- access a shell/env variable with `$` before variable name\n",
    "- adding shell variable doesn't work from Notebook\n",
    "\n",
    "```bash\n",
    "echo $VAR\n",
    "```\n",
    "\n"
   ]
  },
  {
   "cell_type": "code",
   "execution_count": 11,
   "metadata": {},
   "outputs": [],
   "source": [
    "! TEST=\"Linux Shell Environment\""
   ]
  },
  {
   "cell_type": "code",
   "execution_count": 14,
   "metadata": {},
   "outputs": [
    {
     "name": "stdout",
     "output_type": "stream",
     "text": [
      "\n"
     ]
    }
   ],
   "source": [
    "! echo $TEST"
   ]
  },
  {
   "cell_type": "code",
   "execution_count": 13,
   "metadata": {},
   "outputs": [
    {
     "name": "stdout",
     "output_type": "stream",
     "text": [
      "/home/kali/miniconda3/bin:/home/kali/miniconda3/condabin:/usr/local/sbin:/usr/local/bin:/usr/sbin:/usr/bin:/sbin:/bin:/usr/local/games:/usr/games:FOLDER/subfoler\n"
     ]
    }
   ],
   "source": [
    "# display env variables\n",
    "# Path is where shell looks for commands\n",
    "! echo $PATH"
   ]
  },
  {
   "cell_type": "code",
   "execution_count": 15,
   "metadata": {},
   "outputs": [
    {
     "name": "stdout",
     "output_type": "stream",
     "text": [
      "COLORFGBG=15;0\n",
      "DBUS_SESSION_BUS_ADDRESS=unix:path=/run/user/1000/bus\n",
      "DESKTOP_SESSION=lightdm-xsession\n",
      "DISPLAY=:0.0\n",
      "GDMSESSION=lightdm-xsession\n",
      "HOME=/home/kali\n",
      "LANG=en_US.utf8\n",
      "LANGUAGE=\n",
      "LOGNAME=kali\n",
      "PANEL_GDK_CORE_DEVICE_EVENTS=0\n",
      "PATH=/home/kali/miniconda3/bin:/home/kali/miniconda3/condabin:/usr/local/sbin:/usr/local/bin:/usr/sbin:/usr/bin:/sbin:/bin:/usr/local/games:/usr/games:FOLDER/subfoler\n",
      "PWD=/home/kali/projects/Linux-Commands\n",
      "QT_ACCESSIBILITY=1\n",
      "QT_AUTO_SCREEN_SCALE_FACTOR=0\n",
      "QT_QPA_PLATFORMTHEME=qt5ct\n",
      "SESSION_MANAGER=local/K:@/tmp/.ICE-unix/853,unix/K:/tmp/.ICE-unix/853\n",
      "SHELL=/usr/bin/zsh\n",
      "SSH_AGENT_PID=896\n",
      "SSH_AUTH_SOCK=/tmp/ssh-5vvnlEY3Hblb/agent.853\n",
      "TERM=xterm-color\n",
      "USER=kali\n",
      "WINDOWID=0\n",
      "XAUTHORITY=/home/kali/.Xauthority\n",
      "XDG_CONFIG_DIRS=/etc/xdg\n",
      "XDG_CURRENT_DESKTOP=XFCE\n",
      "XDG_DATA_DIRS=/usr/share/xfce4:/usr/local/share/:/usr/share/:/usr/share\n",
      "XDG_GREETER_DATA_DIR=/var/lib/lightdm/data/kali\n",
      "XDG_MENU_PREFIX=xfce-\n",
      "XDG_RUNTIME_DIR=/run/user/1000\n",
      "XDG_SEAT=seat0\n",
      "XDG_SEAT_PATH=/org/freedesktop/DisplayManager/Seat0\n",
      "XDG_SESSION_CLASS=user\n",
      "XDG_SESSION_DESKTOP=lightdm-xsession\n",
      "XDG_SESSION_ID=2\n",
      "XDG_SESSION_PATH=/org/freedesktop/DisplayManager/Session0\n",
      "XDG_SESSION_TYPE=x11\n",
      "XDG_VTNR=7\n",
      "_JAVA_OPTIONS=-Dawt.useSystemAAFontSettings=on -Dswing.aatext=true\n",
      "SHLVL=1\n",
      "OLDPWD=/home/kali/projects/Linux-Commands\n",
      "LS_COLORS=rs=0:di=01;34:ln=01;36:mh=00:pi=40;33:so=01;35:do=01;35:bd=40;33;01:cd=40;33;01:or=40;31;01:mi=00:su=37;41:sg=30;43:ca=30;41:tw=30;42:ow=34;42:st=37;44:ex=01;32:*.tar=01;31:*.tgz=01;31:*.arc=01;31:*.arj=01;31:*.taz=01;31:*.lha=01;31:*.lz4=01;31:*.lzh=01;31:*.lzma=01;31:*.tlz=01;31:*.txz=01;31:*.tzo=01;31:*.t7z=01;31:*.zip=01;31:*.z=01;31:*.dz=01;31:*.gz=01;31:*.lrz=01;31:*.lz=01;31:*.lzo=01;31:*.xz=01;31:*.zst=01;31:*.tzst=01;31:*.bz2=01;31:*.bz=01;31:*.tbz=01;31:*.tbz2=01;31:*.tz=01;31:*.deb=01;31:*.rpm=01;31:*.jar=01;31:*.war=01;31:*.ear=01;31:*.sar=01;31:*.rar=01;31:*.alz=01;31:*.ace=01;31:*.zoo=01;31:*.cpio=01;31:*.7z=01;31:*.rz=01;31:*.cab=01;31:*.wim=01;31:*.swm=01;31:*.dwm=01;31:*.esd=01;31:*.jpg=01;35:*.jpeg=01;35:*.mjpg=01;35:*.mjpeg=01;35:*.gif=01;35:*.bmp=01;35:*.pbm=01;35:*.pgm=01;35:*.ppm=01;35:*.tga=01;35:*.xbm=01;35:*.xpm=01;35:*.tif=01;35:*.tiff=01;35:*.png=01;35:*.svg=01;35:*.svgz=01;35:*.mng=01;35:*.pcx=01;35:*.mov=01;35:*.mpg=01;35:*.mpeg=01;35:*.m2v=01;35:*.mkv=01;35:*.webm=01;35:*.webp=01;35:*.ogm=01;35:*.mp4=01;35:*.m4v=01;35:*.mp4v=01;35:*.vob=01;35:*.qt=01;35:*.nuv=01;35:*.wmv=01;35:*.asf=01;35:*.rm=01;35:*.rmvb=01;35:*.flc=01;35:*.avi=01;35:*.fli=01;35:*.flv=01;35:*.gl=01;35:*.dl=01;35:*.xcf=01;35:*.xwd=01;35:*.yuv=01;35:*.cgm=01;35:*.emf=01;35:*.ogv=01;35:*.ogx=01;35:*.aac=00;36:*.au=00;36:*.flac=00;36:*.m4a=00;36:*.mid=00;36:*.midi=00;36:*.mka=00;36:*.mp3=00;36:*.mpc=00;36:*.ogg=00;36:*.ra=00;36:*.wav=00;36:*.oga=00;36:*.opus=00;36:*.spx=00;36:*.xspf=00;36:\n",
      "LESS_TERMCAP_mb=\u001b[1;31m\n",
      "LESS_TERMCAP_md=\u001b[1;36m\n",
      "LESS_TERMCAP_me=\u001b[0m\n",
      "LESS_TERMCAP_so=\u001b[01;33m\n",
      "LESS_TERMCAP_se=\u001b[0m\n",
      "LESS_TERMCAP_us=\u001b[1;32m\n",
      "LESS_TERMCAP_ue=\u001b[0m\n",
      "CONDA_EXE=/home/kali/miniconda3/bin/conda\n",
      "_CE_M=\n",
      "_CE_CONDA=\n",
      "CONDA_PYTHON_EXE=/home/kali/miniconda3/bin/python\n",
      "CONDA_SHLVL=1\n",
      "CONDA_PREFIX=/home/kali/miniconda3\n",
      "CONDA_DEFAULT_ENV=base\n",
      "CONDA_PROMPT_MODIFIER=\n",
      "CONDA_BACKUP_HOST=x86_64-conda_cos6-linux-gnu\n",
      "HOST=K\n",
      "ADDR2LINE=/home/kali/miniconda3/bin/x86_64-conda_cos6-linux-gnu-addr2line\n",
      "AR=/home/kali/miniconda3/bin/x86_64-conda_cos6-linux-gnu-ar\n",
      "AS=/home/kali/miniconda3/bin/x86_64-conda_cos6-linux-gnu-as\n",
      "CXXFILT=/home/kali/miniconda3/bin/x86_64-conda_cos6-linux-gnu-c++filt\n",
      "ELFEDIT=/home/kali/miniconda3/bin/x86_64-conda_cos6-linux-gnu-elfedit\n",
      "GPROF=/home/kali/miniconda3/bin/x86_64-conda_cos6-linux-gnu-gprof\n",
      "LD=/home/kali/miniconda3/bin/x86_64-conda_cos6-linux-gnu-ld\n",
      "LD_GOLD=/home/kali/miniconda3/bin/x86_64-conda_cos6-linux-gnu-ld.gold\n",
      "NM=/home/kali/miniconda3/bin/x86_64-conda_cos6-linux-gnu-nm\n",
      "OBJCOPY=/home/kali/miniconda3/bin/x86_64-conda_cos6-linux-gnu-objcopy\n",
      "OBJDUMP=/home/kali/miniconda3/bin/x86_64-conda_cos6-linux-gnu-objdump\n",
      "RANLIB=/home/kali/miniconda3/bin/x86_64-conda_cos6-linux-gnu-ranlib\n",
      "READELF=/home/kali/miniconda3/bin/x86_64-conda_cos6-linux-gnu-readelf\n",
      "SIZE=/home/kali/miniconda3/bin/x86_64-conda_cos6-linux-gnu-size\n",
      "STRINGS=/home/kali/miniconda3/bin/x86_64-conda_cos6-linux-gnu-strings\n",
      "STRIP=/home/kali/miniconda3/bin/x86_64-conda_cos6-linux-gnu-strip\n",
      "CC=/home/kali/miniconda3/bin/x86_64-conda_cos6-linux-gnu-cc\n",
      "CPP=/home/kali/miniconda3/bin/x86_64-conda_cos6-linux-gnu-cpp\n",
      "GCC=/home/kali/miniconda3/bin/x86_64-conda_cos6-linux-gnu-gcc\n",
      "GCC_AR=/home/kali/miniconda3/bin/x86_64-conda_cos6-linux-gnu-gcc-ar\n",
      "GCC_NM=/home/kali/miniconda3/bin/x86_64-conda_cos6-linux-gnu-gcc-nm\n",
      "GCC_RANLIB=/home/kali/miniconda3/bin/x86_64-conda_cos6-linux-gnu-gcc-ranlib\n",
      "CPPFLAGS=-DNDEBUG -D_FORTIFY_SOURCE=2 -O2 -isystem /home/kali/miniconda3/include\n",
      "CFLAGS=-march=nocona -mtune=haswell -ftree-vectorize -fPIC -fstack-protector-strong -fno-plt -O2 -ffunction-sections -pipe -isystem /home/kali/miniconda3/include\n",
      "LDFLAGS=-Wl,-O2 -Wl,--sort-common -Wl,--as-needed -Wl,-z,relro -Wl,-z,now -Wl,--disable-new-dtags -Wl,--gc-sections -Wl,-rpath,/home/kali/miniconda3/lib -Wl,-rpath-link,/home/kali/miniconda3/lib -L/home/kali/miniconda3/lib\n",
      "DEBUG_CPPFLAGS=-D_DEBUG -D_FORTIFY_SOURCE=2 -Og -isystem /home/kali/miniconda3/include\n",
      "DEBUG_CFLAGS=-march=nocona -mtune=haswell -ftree-vectorize -fPIC -fstack-protector-all -fno-plt -Og -g -Wall -Wextra -fvar-tracking-assignments -ffunction-sections -pipe -isystem /home/kali/miniconda3/include\n",
      "CMAKE_PREFIX_PATH=/home/kali/miniconda3:/home/kali/miniconda3/x86_64-conda_cos6-linux-gnu/sysroot/usr\n",
      "_CONDA_PYTHON_SYSCONFIGDATA_NAME=_sysconfigdata_x86_64_conda_cos6_linux_gnu\n",
      "CONDA_BUILD_SYSROOT=/home/kali/miniconda3/x86_64-conda_cos6-linux-gnu/sysroot\n",
      "CXX=/home/kali/miniconda3/bin/x86_64-conda_cos6-linux-gnu-c++\n",
      "GXX=/home/kali/miniconda3/bin/x86_64-conda_cos6-linux-gnu-g++\n",
      "CXXFLAGS=-fvisibility-inlines-hidden -std=c++17 -fmessage-length=0 -march=nocona -mtune=haswell -ftree-vectorize -fPIC -fstack-protector-strong -fno-plt -O2 -ffunction-sections -pipe -isystem /home/kali/miniconda3/include\n",
      "DEBUG_CXXFLAGS=-fvisibility-inlines-hidden -std=c++17 -fmessage-length=0 -march=nocona -mtune=haswell -ftree-vectorize -fPIC -fstack-protector-all -fno-plt -Og -g -Wall -Wextra -fvar-tracking-assignments -ffunction-sections -pipe -isystem /home/kali/miniconda3/include\n",
      "_=/usr/bin/printenv\n",
      "JPY_PARENT_PID=56708\n",
      "CLICOLOR=1\n",
      "PAGER=cat\n",
      "GIT_PAGER=cat\n",
      "MPLBACKEND=module://ipykernel.pylab.backend_inline\n"
     ]
    }
   ],
   "source": [
    "! printenv"
   ]
  },
  {
   "cell_type": "markdown",
   "metadata": {},
   "source": [
    "### update executable command path\n",
    "- permenantly change by updating PATH variable in .bashrc\n",
    "- temporarily update for current session\n",
    "```bash\n",
    "PATH=$PATH:MyPath/bin\n",
    "export PATH\n",
    "```"
   ]
  },
  {
   "cell_type": "code",
   "execution_count": null,
   "metadata": {},
   "outputs": [],
   "source": []
  }
 ],
 "metadata": {
  "kernelspec": {
   "display_name": "Python 3",
   "language": "python",
   "name": "python3"
  },
  "language_info": {
   "codemirror_mode": {
    "name": "ipython",
    "version": 3
   },
   "file_extension": ".py",
   "mimetype": "text/x-python",
   "name": "python",
   "nbconvert_exporter": "python",
   "pygments_lexer": "ipython3",
   "version": "3.8.10"
  }
 },
 "nbformat": 4,
 "nbformat_minor": 4
}
