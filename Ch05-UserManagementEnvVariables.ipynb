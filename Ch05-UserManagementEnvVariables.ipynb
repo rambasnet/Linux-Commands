{
 "cells": [
  {
   "cell_type": "markdown",
   "metadata": {},
   "source": [
    "# User Management & Environment Variables\n",
    "- need sudo priviledge to manage users\n",
    "\n",
    "## add a user\n",
    "- NOTE: adduser is intearactive; so do it in a terminal\n",
    "```bash\n",
    "sudo adduser username\n",
    "```\n",
    "\n",
    "- add users from terminal\n",
    "\n",
    "```bash\n",
    "sudo adduser jose\n",
    "sudo adduser user1\n",
    "```"
   ]
  },
  {
   "cell_type": "code",
   "execution_count": 2,
   "metadata": {},
   "outputs": [
    {
     "name": "stdout",
     "output_type": "stream",
     "text": [
      "user:x:1001:1001:user user,,,:/home/user:/bin/bash\r\n"
     ]
    }
   ],
   "source": [
    "! getent passwd user"
   ]
  },
  {
   "cell_type": "code",
   "execution_count": 3,
   "metadata": {},
   "outputs": [
    {
     "name": "stdout",
     "output_type": "stream",
     "text": [
      "\u001b[0m\u001b[01;34mkali\u001b[0m/  \u001b[01;34mtest\u001b[0m/  \u001b[01;34muser\u001b[0m/\r\n"
     ]
    }
   ],
   "source": [
    "ls /home"
   ]
  },
  {
   "cell_type": "code",
   "execution_count": 4,
   "metadata": {},
   "outputs": [
    {
     "name": "stdout",
     "output_type": "stream",
     "text": [
      "Login: user           \t\t\tName: user user\r\n",
      "Directory: /home/user               \tShell: /bin/bash\r\n",
      "Never logged in.\r\n",
      "No mail.\r\n",
      "No Plan.\r\n"
     ]
    }
   ],
   "source": [
    "! finger user"
   ]
  },
  {
   "cell_type": "markdown",
   "metadata": {},
   "source": [
    "### modify user account settings\n",
    "```bash\n",
    "sudo usermod options username\n",
    "```"
   ]
  },
  {
   "cell_type": "code",
   "execution_count": 5,
   "metadata": {},
   "outputs": [
    {
     "name": "stdout",
     "output_type": "stream",
     "text": [
      "Usage: usermod [options] LOGIN\r\n",
      "\r\n",
      "Options:\r\n",
      "  -c, --comment COMMENT         new value of the GECOS field\r\n",
      "  -d, --home HOME_DIR           new home directory for the user account\r\n",
      "  -e, --expiredate EXPIRE_DATE  set account expiration date to EXPIRE_DATE\r\n",
      "  -f, --inactive INACTIVE       set password inactive after expiration\r\n",
      "                                to INACTIVE\r\n",
      "  -g, --gid GROUP               force use GROUP as new primary group\r\n",
      "  -G, --groups GROUPS           new list of supplementary GROUPS\r\n",
      "  -a, --append                  append the user to the supplemental GROUPS\r\n",
      "                                mentioned by the -G option without removing\r\n",
      "                                the user from other groups\r\n",
      "  -h, --help                    display this help message and exit\r\n",
      "  -l, --login NEW_LOGIN         new value of the login name\r\n",
      "  -L, --lock                    lock the user account\r\n",
      "  -m, --move-home               move contents of the home directory to the\r\n",
      "                                new location (use only with -d)\r\n",
      "  -o, --non-unique              allow using duplicate (non-unique) UID\r\n",
      "  -p, --password PASSWORD       use encrypted password for the new password\r\n",
      "  -R, --root CHROOT_DIR         directory to chroot into\r\n",
      "  -P, --prefix PREFIX_DIR       prefix directory where are located the /etc/* files\r\n",
      "  -s, --shell SHELL             new login shell for the user account\r\n",
      "  -u, --uid UID                 new UID for the user account\r\n",
      "  -U, --unlock                  unlock the user account\r\n",
      "  -v, --add-subuids FIRST-LAST  add range of subordinate uids\r\n",
      "  -V, --del-subuids FIRST-LAST  remove range of subordinate uids\r\n",
      "  -w, --add-subgids FIRST-LAST  add range of subordinate gids\r\n",
      "  -W, --del-subgids FIRST-LAST  remove range of subordinate gids\r\n",
      "  -Z, --selinux-user SEUSER     new SELinux user mapping for the user account\r\n",
      "\r\n"
     ]
    }
   ],
   "source": [
    "! usermod -h"
   ]
  },
  {
   "cell_type": "markdown",
   "metadata": {},
   "source": [
    "### delete a user\n",
    "```bash\n",
    "sudo userdel -r usename\n",
    "```"
   ]
  },
  {
   "cell_type": "code",
   "execution_count": 5,
   "metadata": {},
   "outputs": [
    {
     "name": "stdout",
     "output_type": "stream",
     "text": [
      "[sudo] password for kali: userdel: test mail spool (/var/mail/test) not found\r\n"
     ]
    }
   ],
   "source": [
    "! echo kali | sudo -S userdel -r test"
   ]
  },
  {
   "cell_type": "code",
   "execution_count": 6,
   "metadata": {},
   "outputs": [
    {
     "name": "stdout",
     "output_type": "stream",
     "text": [
      "\u001b[0m\u001b[01;34mkali\u001b[0m/  \u001b[01;34muser\u001b[0m/\r\n"
     ]
    }
   ],
   "source": [
    "ls /home"
   ]
  },
  {
   "cell_type": "markdown",
   "metadata": {},
   "source": [
    "## Setting up Environment Variables\n",
    "- can be set in many places depending on your needs\n",
    "1. System wide\n",
    "    1. /etc/environment\n",
    "    2. /etc/profile\n",
    "2. User specific\n",
    "    1. ~/.profile\n",
    "    2. ~/.bashrc"
   ]
  },
  {
   "cell_type": "code",
   "execution_count": 7,
   "metadata": {},
   "outputs": [
    {
     "name": "stdout",
     "output_type": "stream",
     "text": [
      "PATH=/usr/local/sbin:/usr/local/bin:/usr/sbin:/usr/bin:/sbin:/bin:/usr/local/games:/usr/games\r\n"
     ]
    }
   ],
   "source": [
    "! cat /etc/environment # empty"
   ]
  },
  {
   "cell_type": "code",
   "execution_count": 8,
   "metadata": {},
   "outputs": [
    {
     "name": "stdout",
     "output_type": "stream",
     "text": [
      "# /etc/profile: system-wide .profile file for the Bourne shell (sh(1))\r\n",
      "# and Bourne compatible shells (bash(1), ksh(1), ash(1), ...).\r\n",
      "\r\n",
      "if [ \"`id -u`\" -eq 0 ]; then\r\n",
      "  PATH=\"/usr/local/sbin:/usr/local/bin:/usr/sbin:/usr/bin:/sbin:/bin\"\r\n",
      "else\r\n",
      "  PATH=\"/usr/local/bin:/usr/bin:/bin:/usr/local/games:/usr/games\"\r\n",
      "fi\r\n",
      "export PATH\r\n",
      "\r\n",
      "if [ \"${PS1-}\" ]; then\r\n",
      "  if [ \"${BASH-}\" ] && [ \"$BASH\" != \"/bin/sh\" ]; then\r\n",
      "    # The file bash.bashrc already sets the default PS1.\r\n",
      "    # PS1='\\h:\\w\\$ '\r\n",
      "    if [ -f /etc/bash.bashrc ]; then\r\n",
      "      . /etc/bash.bashrc\r\n",
      "    fi\r\n",
      "  else\r\n",
      "    if [ \"`id -u`\" -eq 0 ]; then\r\n",
      "      PS1='# '\r\n",
      "    else\r\n",
      "      PS1='$ '\r\n",
      "    fi\r\n",
      "  fi\r\n",
      "fi\r\n",
      "\r\n",
      "if [ -d /etc/profile.d ]; then\r\n",
      "  for i in /etc/profile.d/*.sh; do\r\n",
      "    if [ -r $i ]; then\r\n",
      "      . $i\r\n",
      "    fi\r\n",
      "  done\r\n",
      "  unset i\r\n",
      "fi\r\n"
     ]
    }
   ],
   "source": [
    "! cat /etc/profile"
   ]
  },
  {
   "cell_type": "code",
   "execution_count": 9,
   "metadata": {},
   "outputs": [
    {
     "name": "stdout",
     "output_type": "stream",
     "text": [
      "# ~/.profile: executed by the command interpreter for login shells.\r\n",
      "# This file is not read by bash(1), if ~/.bash_profile or ~/.bash_login\r\n",
      "# exists.\r\n",
      "# see /usr/share/doc/bash/examples/startup-files for examples.\r\n",
      "# the files are located in the bash-doc package.\r\n",
      "\r\n",
      "# the default umask is set in /etc/profile; for setting the umask\r\n",
      "# for ssh logins, install and configure the libpam-umask package.\r\n",
      "#umask 022\r\n",
      "\r\n",
      "# if running bash\r\n",
      "if [ -n \"$BASH_VERSION\" ]; then\r\n",
      "    # include .bashrc if it exists\r\n",
      "    if [ -f \"$HOME/.bashrc\" ]; then\r\n",
      "\t. \"$HOME/.bashrc\"\r\n",
      "    fi\r\n",
      "fi\r\n",
      "\r\n",
      "# set PATH so it includes user's private bin if it exists\r\n",
      "if [ -d \"$HOME/bin\" ] ; then\r\n",
      "    PATH=\"$HOME/bin:$PATH\"\r\n",
      "fi\r\n",
      "\r\n",
      "# set PATH so it includes user's private bin if it exists\r\n",
      "if [ -d \"$HOME/.local/bin\" ] ; then\r\n",
      "    PATH=\"$HOME/.local/bin:$PATH\"\r\n",
      "fi\r\n"
     ]
    }
   ],
   "source": [
    "! cat ~/.profile"
   ]
  },
  {
   "cell_type": "code",
   "execution_count": 10,
   "metadata": {},
   "outputs": [
    {
     "name": "stdout",
     "output_type": "stream",
     "text": [
      "# ~/.bashrc: executed by bash(1) for non-login shells.\r\n",
      "# see /usr/share/doc/bash/examples/startup-files (in the package bash-doc)\r\n",
      "# for examples\r\n",
      "\r\n",
      "# If not running interactively, don't do anything\r\n",
      "case $- in\r\n",
      "    *i*) ;;\r\n",
      "      *) return;;\r\n",
      "esac\r\n",
      "\r\n",
      "# don't put duplicate lines or lines starting with space in the history.\r\n",
      "# See bash(1) for more options\r\n",
      "HISTCONTROL=ignoreboth\r\n",
      "\r\n",
      "# append to the history file, don't overwrite it\r\n",
      "shopt -s histappend\r\n",
      "\r\n",
      "# for setting history length see HISTSIZE and HISTFILESIZE in bash(1)\r\n",
      "HISTSIZE=1000\r\n",
      "HISTFILESIZE=2000\r\n",
      "\r\n",
      "# check the window size after each command and, if necessary,\r\n",
      "# update the values of LINES and COLUMNS.\r\n",
      "shopt -s checkwinsize\r\n",
      "\r\n",
      "# If set, the pattern \"**\" used in a pathname expansion context will\r\n",
      "# match all files and zero or more directories and subdirectories.\r\n",
      "#shopt -s globstar\r\n",
      "\r\n",
      "# make less more friendly for non-text input files, see lesspipe(1)\r\n",
      "#[ -x /usr/bin/lesspipe ] && eval \"$(SHELL=/bin/sh lesspipe)\"\r\n",
      "\r\n",
      "# set variable identifying the chroot you work in (used in the prompt below)\r\n",
      "if [ -z \"${debian_chroot:-}\" ] && [ -r /etc/debian_chroot ]; then\r\n",
      "    debian_chroot=$(cat /etc/debian_chroot)\r\n",
      "fi\r\n",
      "\r\n",
      "# set a fancy prompt (non-color, unless we know we \"want\" color)\r\n",
      "case \"$TERM\" in\r\n",
      "    xterm-color|*-256color) color_prompt=yes;;\r\n",
      "esac\r\n",
      "\r\n",
      "# uncomment for a colored prompt, if the terminal has the capability; turned\r\n",
      "# off by default to not distract the user: the focus in a terminal window\r\n",
      "# should be on the output of commands, not on the prompt\r\n",
      "force_color_prompt=yes\r\n",
      "\r\n",
      "if [ -n \"$force_color_prompt\" ]; then\r\n",
      "    if [ -x /usr/bin/tput ] && tput setaf 1 >&/dev/null; then\r\n",
      "\t# We have color support; assume it's compliant with Ecma-48\r\n",
      "\t# (ISO/IEC-6429). (Lack of such support is extremely rare, and such\r\n",
      "\t# a case would tend to support setf rather than setaf.)\r\n",
      "\tcolor_prompt=yes\r\n",
      "    else\r\n",
      "\tcolor_prompt=\r\n",
      "    fi\r\n",
      "fi\r\n",
      "\r\n",
      "if [ \"$color_prompt\" = yes ]; then\r\n",
      "    prompt_color='\\[\\033[;32m\\]'\r\n",
      "    info_color='\\[\\033[1;34m\\]'\r\n",
      "    prompt_symbol=㉿\r\n",
      "    if [ \"$EUID\" -eq 0 ]; then # Change prompt colors for root user\r\n",
      "\tprompt_color='\\[\\033[;94m\\]'\r\n",
      "\tinfo_color='\\[\\033[1;31m\\]'\r\n",
      "\tprompt_symbol=💀\r\n",
      "    fi\r\n",
      "    PS1=$prompt_color'┌──${debian_chroot:+($debian_chroot)──}('$info_color'\\u${prompt_symbol})-[\\[\\033[0;1m\\]\\w'$prompt_color']\\n'$prompt_color'└─'$info_color'\\$\\[\\033[0m\\] '\r\n",
      "    # BackTrack red prompt\r\n",
      "    #PS1='${debian_chroot:+($debian_chroot)}\\[\\033[01;31m\\]\\u@\\h\\[\\033[00m\\]:\\[\\033[01;34m\\]\\w\\[\\033[00m\\]\\$ '\r\n",
      "else\r\n",
      "    PS1='${debian_chroot:+($debian_chroot)}\\u@\\h:\\w\\$ '\r\n",
      "fi\r\n",
      "unset color_prompt force_color_prompt\r\n",
      "\r\n",
      "# If this is an xterm set the title to user@host:dir\r\n",
      "case \"$TERM\" in\r\n",
      "xterm*|rxvt*)\r\n",
      "    PS1=\"\\[\\e]0;${debian_chroot:+($debian_chroot)}\\u@\\h: \\w\\a\\]$PS1\"\r\n",
      "    ;;\r\n",
      "*)\r\n",
      "    ;;\r\n",
      "esac\r\n",
      "\r\n",
      "# enable color support of ls, less and man, and also add handy aliases\r\n",
      "if [ -x /usr/bin/dircolors ]; then\r\n",
      "    test -r ~/.dircolors && eval \"$(dircolors -b ~/.dircolors)\" || eval \"$(dircolors -b)\"\r\n",
      "    alias ls='ls --color=auto'\r\n",
      "    #alias dir='dir --color=auto'\r\n",
      "    #alias vdir='vdir --color=auto'\r\n",
      "\r\n",
      "    alias grep='grep --color=auto'\r\n",
      "    alias fgrep='fgrep --color=auto'\r\n",
      "    alias egrep='egrep --color=auto'\r\n",
      "    alias diff='diff --color=auto'\r\n",
      "    alias ip='ip --color=auto'\r\n",
      "\r\n",
      "    export LESS_TERMCAP_mb=$'\\E[1;31m'     # begin blink\r\n",
      "    export LESS_TERMCAP_md=$'\\E[1;36m'     # begin bold\r\n",
      "    export LESS_TERMCAP_me=$'\\E[0m'        # reset bold/blink\r\n",
      "    export LESS_TERMCAP_so=$'\\E[01;33m'    # begin reverse video\r\n",
      "    export LESS_TERMCAP_se=$'\\E[0m'        # reset reverse video\r\n",
      "    export LESS_TERMCAP_us=$'\\E[1;32m'     # begin underline\r\n",
      "    export LESS_TERMCAP_ue=$'\\E[0m'        # reset underline\r\n",
      "fi\r\n",
      "\r\n",
      "# colored GCC warnings and errors\r\n",
      "#export GCC_COLORS='error=01;31:warning=01;35:note=01;36:caret=01;32:locus=01:quote=01'\r\n",
      "\r\n",
      "# some more ls aliases\r\n",
      "alias ll='ls -l'\r\n",
      "alias la='ls -A'\r\n",
      "alias l='ls -CF'\r\n",
      "\r\n",
      "# Alias definitions.\r\n",
      "# You may want to put all your additions into a separate file like\r\n",
      "# ~/.bash_aliases, instead of adding them here directly.\r\n",
      "# See /usr/share/doc/bash-doc/examples in the bash-doc package.\r\n",
      "\r\n",
      "if [ -f ~/.bash_aliases ]; then\r\n",
      "    . ~/.bash_aliases\r\n",
      "fi\r\n",
      "\r\n",
      "# enable programmable completion features (you don't need to enable\r\n",
      "# this, if it's already enabled in /etc/bash.bashrc and /etc/profile\r\n",
      "# sources /etc/bash.bashrc).\r\n",
      "if ! shopt -oq posix; then\r\n",
      "  if [ -f /usr/share/bash-completion/bash_completion ]; then\r\n",
      "    . /usr/share/bash-completion/bash_completion\r\n",
      "  elif [ -f /etc/bash_completion ]; then\r\n",
      "    . /etc/bash_completion\r\n",
      "  fi\r\n",
      "fi\r\n"
     ]
    }
   ],
   "source": [
    "! cat ~/.bashrc"
   ]
  },
  {
   "cell_type": "markdown",
   "metadata": {},
   "source": [
    "### .bashrc\n",
    "- modify ~/.bashrc to change the bash profile settings\n",
    "- must reopen the terminal for the changes to take effect\n",
    "- OR run: source ~/.bashrc"
   ]
  },
  {
   "cell_type": "markdown",
   "metadata": {},
   "source": [
    "### Types of Environment Variables\n",
    "- two types: envirnoment and shell\n",
    "- Notebook can't set shell variables; RUN on terminal\n",
    "- set a shell variable\n",
    "```bash\n",
    "VAR=\"VALUE .... \"\n",
    "```\n",
    "- converting shell variable into temp env variable\n",
    "```bash\n",
    "export VAR\n",
    "```\n",
    "\n",
    "- access a shell/env variable with `$` before variable name\n",
    "- adding shell variable doesn't work from Notebook\n",
    "\n",
    "```bash\n",
    "echo $VAR\n",
    "```\n",
    "\n"
   ]
  },
  {
   "cell_type": "code",
   "execution_count": 11,
   "metadata": {},
   "outputs": [],
   "source": [
    "! TEST=\"Linux Shell Environment\""
   ]
  },
  {
   "cell_type": "code",
   "execution_count": 14,
   "metadata": {},
   "outputs": [
    {
     "name": "stdout",
     "output_type": "stream",
     "text": [
      "\r\n"
     ]
    }
   ],
   "source": [
    "! echo $TEST"
   ]
  },
  {
   "cell_type": "code",
   "execution_count": 13,
   "metadata": {},
   "outputs": [
    {
     "name": "stdout",
     "output_type": "stream",
     "text": [
      "/home/kali/miniconda3/bin:/home/kali/miniconda3/condabin:/usr/local/sbin:/usr/local/bin:/usr/sbin:/usr/bin:/sbin:/bin:/usr/local/games:/usr/games:FOLDER/subfoler\r\n"
     ]
    }
   ],
   "source": [
    "# display env variables\n",
    "# Path is where shell looks for commands\n",
    "! echo $PATH"
   ]
  },
  {
   "cell_type": "code",
   "execution_count": 15,
   "metadata": {},
   "outputs": [
    {
     "name": "stdout",
     "output_type": "stream",
     "text": [
      "COLORFGBG=15;0\r\n",
      "DBUS_SESSION_BUS_ADDRESS=unix:path=/run/user/1000/bus\r\n",
      "DESKTOP_SESSION=lightdm-xsession\r\n",
      "DISPLAY=:0.0\r\n",
      "GDMSESSION=lightdm-xsession\r\n",
      "HOME=/home/kali\r\n",
      "LANG=en_US.utf8\r\n",
      "LANGUAGE=\r\n",
      "LOGNAME=kali\r\n",
      "PANEL_GDK_CORE_DEVICE_EVENTS=0\r\n",
      "PATH=/home/kali/miniconda3/bin:/home/kali/miniconda3/condabin:/usr/local/sbin:/usr/local/bin:/usr/sbin:/usr/bin:/sbin:/bin:/usr/local/games:/usr/games:FOLDER/subfoler\r\n",
      "PWD=/home/kali/projects/Linux-Commands\r\n",
      "QT_ACCESSIBILITY=1\r\n",
      "QT_AUTO_SCREEN_SCALE_FACTOR=0\r\n",
      "QT_QPA_PLATFORMTHEME=qt5ct\r\n",
      "SESSION_MANAGER=local/K:@/tmp/.ICE-unix/853,unix/K:/tmp/.ICE-unix/853\r\n",
      "SHELL=/usr/bin/zsh\r\n",
      "SSH_AGENT_PID=896\r\n",
      "SSH_AUTH_SOCK=/tmp/ssh-5vvnlEY3Hblb/agent.853\r\n",
      "TERM=xterm-color\r\n",
      "USER=kali\r\n",
      "WINDOWID=0\r\n",
      "XAUTHORITY=/home/kali/.Xauthority\r\n",
      "XDG_CONFIG_DIRS=/etc/xdg\r\n",
      "XDG_CURRENT_DESKTOP=XFCE\r\n",
      "XDG_DATA_DIRS=/usr/share/xfce4:/usr/local/share/:/usr/share/:/usr/share\r\n",
      "XDG_GREETER_DATA_DIR=/var/lib/lightdm/data/kali\r\n",
      "XDG_MENU_PREFIX=xfce-\r\n",
      "XDG_RUNTIME_DIR=/run/user/1000\r\n",
      "XDG_SEAT=seat0\r\n",
      "XDG_SEAT_PATH=/org/freedesktop/DisplayManager/Seat0\r\n",
      "XDG_SESSION_CLASS=user\r\n",
      "XDG_SESSION_DESKTOP=lightdm-xsession\r\n",
      "XDG_SESSION_ID=2\r\n",
      "XDG_SESSION_PATH=/org/freedesktop/DisplayManager/Session0\r\n",
      "XDG_SESSION_TYPE=x11\r\n",
      "XDG_VTNR=7\r\n",
      "_JAVA_OPTIONS=-Dawt.useSystemAAFontSettings=on -Dswing.aatext=true\r\n",
      "SHLVL=1\r\n",
      "OLDPWD=/home/kali/projects/Linux-Commands\r\n",
      "LS_COLORS=rs=0:di=01;34:ln=01;36:mh=00:pi=40;33:so=01;35:do=01;35:bd=40;33;01:cd=40;33;01:or=40;31;01:mi=00:su=37;41:sg=30;43:ca=30;41:tw=30;42:ow=34;42:st=37;44:ex=01;32:*.tar=01;31:*.tgz=01;31:*.arc=01;31:*.arj=01;31:*.taz=01;31:*.lha=01;31:*.lz4=01;31:*.lzh=01;31:*.lzma=01;31:*.tlz=01;31:*.txz=01;31:*.tzo=01;31:*.t7z=01;31:*.zip=01;31:*.z=01;31:*.dz=01;31:*.gz=01;31:*.lrz=01;31:*.lz=01;31:*.lzo=01;31:*.xz=01;31:*.zst=01;31:*.tzst=01;31:*.bz2=01;31:*.bz=01;31:*.tbz=01;31:*.tbz2=01;31:*.tz=01;31:*.deb=01;31:*.rpm=01;31:*.jar=01;31:*.war=01;31:*.ear=01;31:*.sar=01;31:*.rar=01;31:*.alz=01;31:*.ace=01;31:*.zoo=01;31:*.cpio=01;31:*.7z=01;31:*.rz=01;31:*.cab=01;31:*.wim=01;31:*.swm=01;31:*.dwm=01;31:*.esd=01;31:*.jpg=01;35:*.jpeg=01;35:*.mjpg=01;35:*.mjpeg=01;35:*.gif=01;35:*.bmp=01;35:*.pbm=01;35:*.pgm=01;35:*.ppm=01;35:*.tga=01;35:*.xbm=01;35:*.xpm=01;35:*.tif=01;35:*.tiff=01;35:*.png=01;35:*.svg=01;35:*.svgz=01;35:*.mng=01;35:*.pcx=01;35:*.mov=01;35:*.mpg=01;35:*.mpeg=01;35:*.m2v=01;35:*.mkv=01;35:*.webm=01;35:*.webp=01;35:*.ogm=01;35:*.mp4=01;35:*.m4v=01;35:*.mp4v=01;35:*.vob=01;35:*.qt=01;35:*.nuv=01;35:*.wmv=01;35:*.asf=01;35:*.rm=01;35:*.rmvb=01;35:*.flc=01;35:*.avi=01;35:*.fli=01;35:*.flv=01;35:*.gl=01;35:*.dl=01;35:*.xcf=01;35:*.xwd=01;35:*.yuv=01;35:*.cgm=01;35:*.emf=01;35:*.ogv=01;35:*.ogx=01;35:*.aac=00;36:*.au=00;36:*.flac=00;36:*.m4a=00;36:*.mid=00;36:*.midi=00;36:*.mka=00;36:*.mp3=00;36:*.mpc=00;36:*.ogg=00;36:*.ra=00;36:*.wav=00;36:*.oga=00;36:*.opus=00;36:*.spx=00;36:*.xspf=00;36:\r\n",
      "LESS_TERMCAP_mb=\u001b[1;31m\r\n",
      "LESS_TERMCAP_md=\u001b[1;36m\r\n",
      "LESS_TERMCAP_me=\u001b[0m\r\n",
      "LESS_TERMCAP_so=\u001b[01;33m\r\n",
      "LESS_TERMCAP_se=\u001b[0m\r\n",
      "LESS_TERMCAP_us=\u001b[1;32m\r\n",
      "LESS_TERMCAP_ue=\u001b[0m\r\n",
      "CONDA_EXE=/home/kali/miniconda3/bin/conda\r\n",
      "_CE_M=\r\n",
      "_CE_CONDA=\r\n",
      "CONDA_PYTHON_EXE=/home/kali/miniconda3/bin/python\r\n",
      "CONDA_SHLVL=1\r\n",
      "CONDA_PREFIX=/home/kali/miniconda3\r\n",
      "CONDA_DEFAULT_ENV=base\r\n",
      "CONDA_PROMPT_MODIFIER=\r\n",
      "CONDA_BACKUP_HOST=x86_64-conda_cos6-linux-gnu\r\n",
      "HOST=K\r\n",
      "ADDR2LINE=/home/kali/miniconda3/bin/x86_64-conda_cos6-linux-gnu-addr2line\r\n",
      "AR=/home/kali/miniconda3/bin/x86_64-conda_cos6-linux-gnu-ar\r\n",
      "AS=/home/kali/miniconda3/bin/x86_64-conda_cos6-linux-gnu-as\r\n",
      "CXXFILT=/home/kali/miniconda3/bin/x86_64-conda_cos6-linux-gnu-c++filt\r\n",
      "ELFEDIT=/home/kali/miniconda3/bin/x86_64-conda_cos6-linux-gnu-elfedit\r\n",
      "GPROF=/home/kali/miniconda3/bin/x86_64-conda_cos6-linux-gnu-gprof\r\n",
      "LD=/home/kali/miniconda3/bin/x86_64-conda_cos6-linux-gnu-ld\r\n",
      "LD_GOLD=/home/kali/miniconda3/bin/x86_64-conda_cos6-linux-gnu-ld.gold\r\n",
      "NM=/home/kali/miniconda3/bin/x86_64-conda_cos6-linux-gnu-nm\r\n",
      "OBJCOPY=/home/kali/miniconda3/bin/x86_64-conda_cos6-linux-gnu-objcopy\r\n",
      "OBJDUMP=/home/kali/miniconda3/bin/x86_64-conda_cos6-linux-gnu-objdump\r\n",
      "RANLIB=/home/kali/miniconda3/bin/x86_64-conda_cos6-linux-gnu-ranlib\r\n",
      "READELF=/home/kali/miniconda3/bin/x86_64-conda_cos6-linux-gnu-readelf\r\n",
      "SIZE=/home/kali/miniconda3/bin/x86_64-conda_cos6-linux-gnu-size\r\n",
      "STRINGS=/home/kali/miniconda3/bin/x86_64-conda_cos6-linux-gnu-strings\r\n",
      "STRIP=/home/kali/miniconda3/bin/x86_64-conda_cos6-linux-gnu-strip\r\n",
      "CC=/home/kali/miniconda3/bin/x86_64-conda_cos6-linux-gnu-cc\r\n",
      "CPP=/home/kali/miniconda3/bin/x86_64-conda_cos6-linux-gnu-cpp\r\n",
      "GCC=/home/kali/miniconda3/bin/x86_64-conda_cos6-linux-gnu-gcc\r\n",
      "GCC_AR=/home/kali/miniconda3/bin/x86_64-conda_cos6-linux-gnu-gcc-ar\r\n",
      "GCC_NM=/home/kali/miniconda3/bin/x86_64-conda_cos6-linux-gnu-gcc-nm\r\n",
      "GCC_RANLIB=/home/kali/miniconda3/bin/x86_64-conda_cos6-linux-gnu-gcc-ranlib\r\n",
      "CPPFLAGS=-DNDEBUG -D_FORTIFY_SOURCE=2 -O2 -isystem /home/kali/miniconda3/include\r\n",
      "CFLAGS=-march=nocona -mtune=haswell -ftree-vectorize -fPIC -fstack-protector-strong -fno-plt -O2 -ffunction-sections -pipe -isystem /home/kali/miniconda3/include\r\n",
      "LDFLAGS=-Wl,-O2 -Wl,--sort-common -Wl,--as-needed -Wl,-z,relro -Wl,-z,now -Wl,--disable-new-dtags -Wl,--gc-sections -Wl,-rpath,/home/kali/miniconda3/lib -Wl,-rpath-link,/home/kali/miniconda3/lib -L/home/kali/miniconda3/lib\r\n",
      "DEBUG_CPPFLAGS=-D_DEBUG -D_FORTIFY_SOURCE=2 -Og -isystem /home/kali/miniconda3/include\r\n",
      "DEBUG_CFLAGS=-march=nocona -mtune=haswell -ftree-vectorize -fPIC -fstack-protector-all -fno-plt -Og -g -Wall -Wextra -fvar-tracking-assignments -ffunction-sections -pipe -isystem /home/kali/miniconda3/include\r\n",
      "CMAKE_PREFIX_PATH=/home/kali/miniconda3:/home/kali/miniconda3/x86_64-conda_cos6-linux-gnu/sysroot/usr\r\n",
      "_CONDA_PYTHON_SYSCONFIGDATA_NAME=_sysconfigdata_x86_64_conda_cos6_linux_gnu\r\n",
      "CONDA_BUILD_SYSROOT=/home/kali/miniconda3/x86_64-conda_cos6-linux-gnu/sysroot\r\n",
      "CXX=/home/kali/miniconda3/bin/x86_64-conda_cos6-linux-gnu-c++\r\n",
      "GXX=/home/kali/miniconda3/bin/x86_64-conda_cos6-linux-gnu-g++\r\n",
      "CXXFLAGS=-fvisibility-inlines-hidden -std=c++17 -fmessage-length=0 -march=nocona -mtune=haswell -ftree-vectorize -fPIC -fstack-protector-strong -fno-plt -O2 -ffunction-sections -pipe -isystem /home/kali/miniconda3/include\r\n",
      "DEBUG_CXXFLAGS=-fvisibility-inlines-hidden -std=c++17 -fmessage-length=0 -march=nocona -mtune=haswell -ftree-vectorize -fPIC -fstack-protector-all -fno-plt -Og -g -Wall -Wextra -fvar-tracking-assignments -ffunction-sections -pipe -isystem /home/kali/miniconda3/include\r\n",
      "_=/usr/bin/printenv\r\n",
      "JPY_PARENT_PID=56708\r\n",
      "CLICOLOR=1\r\n",
      "PAGER=cat\r\n",
      "GIT_PAGER=cat\r\n",
      "MPLBACKEND=module://ipykernel.pylab.backend_inline\r\n"
     ]
    }
   ],
   "source": [
    "! printenv"
   ]
  },
  {
   "cell_type": "markdown",
   "metadata": {},
   "source": [
    "### update executable command path\n",
    "- permenantly change by updating PATH variable in .bashrc\n",
    "- temporarily update for current session\n",
    "```bash\n",
    "PATH=$PATH:MyPath/bin\n",
    "export PATH\n",
    "```"
   ]
  },
  {
   "cell_type": "code",
   "execution_count": null,
   "metadata": {},
   "outputs": [],
   "source": []
  }
 ],
 "metadata": {
  "kernelspec": {
   "display_name": "Python 3",
   "language": "python",
   "name": "python3"
  },
  "language_info": {
   "codemirror_mode": {
    "name": "ipython",
    "version": 3
   },
   "file_extension": ".py",
   "mimetype": "text/x-python",
   "name": "python",
   "nbconvert_exporter": "python",
   "pygments_lexer": "ipython3",
   "version": "3.8.5"
  }
 },
 "nbformat": 4,
 "nbformat_minor": 2
}
