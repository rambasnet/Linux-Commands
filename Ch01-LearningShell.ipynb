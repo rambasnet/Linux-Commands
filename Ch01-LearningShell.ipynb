{
 "cells": [
  {
   "cell_type": "markdown",
   "metadata": {},
   "source": [
    "# Learning the Shell\n",
    "- Based on http://linuxcommand.org text\n",
    "\n",
    "## Why Bother?\n",
    "- GUI has easy learning curve; just click, click, look around and click\n",
    "    - what you see is what you get\n",
    "- Command Line (CLI) forces you to remember and type commands\n",
    "    - you don't see much but blank black & white or screen\n",
    "    \n",
    "### Scenario\n",
    "- Server disk drive keeps filling up fast; perhaps due to a virus break\n",
    "- certian file/folder keeps filling up causing disk out-of-space and ultimately crashing the server\n",
    "- you can spend quite a bit of time writing a script to look through all the user's directories and add up the space they were using and make a list of the results\n",
    "- OR; use the following one liner to achieve the same goal in a very short time"
   ]
  },
  {
   "cell_type": "code",
   "execution_count": 1,
   "metadata": {},
   "outputs": [
    {
     "name": "stdout",
     "output_type": "stream",
     "text": [
      "48K\t/home/user\r\n",
      "44K\t/home/test\r\n",
      "6.0G\t/home/kali\r\n"
     ]
    }
   ],
   "source": [
    "# note you can run bash commands on jupyter notebook on linux system with !\n",
    "! du -sh /home/* | sort -nr"
   ]
  },
  {
   "cell_type": "code",
   "execution_count": 2,
   "metadata": {},
   "outputs": [],
   "source": [
    "! du -sh /home/* | sort -nr > $HOME/user_space_report.txt"
   ]
  },
  {
   "cell_type": "code",
   "execution_count": 3,
   "metadata": {},
   "outputs": [
    {
     "name": "stdout",
     "output_type": "stream",
     "text": [
      "48K\t/home/user\r\n",
      "44K\t/home/test\r\n",
      "6.0G\t/home/kali\r\n"
     ]
    }
   ],
   "source": [
    "! cat $HOME/user_space_report.txt"
   ]
  },
  {
   "cell_type": "markdown",
   "metadata": {},
   "source": [
    "## What is \"the Shell?\"\n",
    "- a program that takes commands from the keyboard and gives them to the OS to perform\n",
    "- in the old days, CLI was using the Shell was only way to interact with Unix-like OS (e.g., Linux)\n",
    "- there are many type of shells: \n",
    "    - **sh** - original Unix shell program\n",
    "    - **bash** - Bourne Again Shell (written by Steve Bourne)\n",
    "    - ksh, tcsh, zsh (Mac)"
   ]
  },
  {
   "cell_type": "markdown",
   "metadata": {},
   "source": [
    "## What is a \"Terminal\"?\n",
    "- may be called konsole/console/terminal etc.\n",
    "- terminal program gives you access to a shell session or CLI to the shell\n",
    "- Jupyter Notebook also provides a web-based terminal from Home->New->Terminal\n",
    "- search for terminal on Ubuntu/Kali\n",
    "- terminator is another emulator program that has many features such as splitting a terminal horizonal and vertical to view multiple terminal at once\n",
    "- command must be a valid one to run!"
   ]
  },
  {
   "cell_type": "code",
   "execution_count": 4,
   "metadata": {},
   "outputs": [
    {
     "name": "stdout",
     "output_type": "stream",
     "text": [
      "zsh:1: command not found: asfldfas\r\n"
     ]
    }
   ],
   "source": [
    "# e.g. the following is not a command\n",
    "! asfldfas"
   ]
  },
  {
   "cell_type": "markdown",
   "metadata": {},
   "source": [
    "## Command History\n",
    "- using up and down arrow key, you can browse through the commands if you do not want to type it over\n",
    "- use history command\n",
    "```bash\n",
    "history\n",
    "history 10\n",
    "```"
   ]
  },
  {
   "cell_type": "code",
   "execution_count": null,
   "metadata": {},
   "outputs": [],
   "source": []
  }
 ],
 "metadata": {
  "kernelspec": {
   "display_name": "Python 3",
   "language": "python",
   "name": "python3"
  },
  "language_info": {
   "codemirror_mode": {
    "name": "ipython",
    "version": 3
   },
   "file_extension": ".py",
   "mimetype": "text/x-python",
   "name": "python",
   "nbconvert_exporter": "python",
   "pygments_lexer": "ipython3",
   "version": "3.8.5"
  }
 },
 "nbformat": 4,
 "nbformat_minor": 2
}
